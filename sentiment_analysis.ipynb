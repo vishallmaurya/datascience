{
  "nbformat": 4,
  "nbformat_minor": 0,
  "metadata": {
    "colab": {
      "provenance": []
    },
    "kernelspec": {
      "name": "python3",
      "display_name": "Python 3"
    },
    "language_info": {
      "name": "python"
    },
    "gpuClass": "standard"
  },
  "cells": [
    {
      "cell_type": "markdown",
      "source": [
        "\n",
        "# **Fetching tweets (Dataset Preparation)**\n"
      ],
      "metadata": {
        "id": "O0litJSS4lpN"
      }
    },
    {
      "cell_type": "code",
      "execution_count": 1,
      "metadata": {
        "id": "rz1nyZxF4icc",
        "colab": {
          "base_uri": "https://localhost:8080/"
        },
        "outputId": "f492cd6a-1891-4edf-a5aa-f6c9ac9ed1b7"
      },
      "outputs": [
        {
          "output_type": "stream",
          "name": "stdout",
          "text": [
            "Collecting snscrape\n",
            "  Downloading snscrape-0.7.0.20230622-py3-none-any.whl (74 kB)\n",
            "\u001b[?25l     \u001b[90m━━━━━━━━━━━━━━━━━━━━━━━━━━━━━━━━━━━━━━━━\u001b[0m \u001b[32m0.0/74.8 kB\u001b[0m \u001b[31m?\u001b[0m eta \u001b[36m-:--:--\u001b[0m\r\u001b[2K     \u001b[90m━━━━━━━━━━━━━━━━━━━━━━━━━━━━━━━━━━━━━━━━\u001b[0m \u001b[32m74.8/74.8 kB\u001b[0m \u001b[31m2.4 MB/s\u001b[0m eta \u001b[36m0:00:00\u001b[0m\n",
            "\u001b[?25hRequirement already satisfied: requests[socks] in /usr/local/lib/python3.10/dist-packages (from snscrape) (2.27.1)\n",
            "Requirement already satisfied: lxml in /usr/local/lib/python3.10/dist-packages (from snscrape) (4.9.2)\n",
            "Requirement already satisfied: beautifulsoup4 in /usr/local/lib/python3.10/dist-packages (from snscrape) (4.11.2)\n",
            "Requirement already satisfied: filelock in /usr/local/lib/python3.10/dist-packages (from snscrape) (3.12.2)\n",
            "Requirement already satisfied: soupsieve>1.2 in /usr/local/lib/python3.10/dist-packages (from beautifulsoup4->snscrape) (2.4.1)\n",
            "Requirement already satisfied: urllib3<1.27,>=1.21.1 in /usr/local/lib/python3.10/dist-packages (from requests[socks]->snscrape) (1.26.16)\n",
            "Requirement already satisfied: certifi>=2017.4.17 in /usr/local/lib/python3.10/dist-packages (from requests[socks]->snscrape) (2023.5.7)\n",
            "Requirement already satisfied: charset-normalizer~=2.0.0 in /usr/local/lib/python3.10/dist-packages (from requests[socks]->snscrape) (2.0.12)\n",
            "Requirement already satisfied: idna<4,>=2.5 in /usr/local/lib/python3.10/dist-packages (from requests[socks]->snscrape) (3.4)\n",
            "Requirement already satisfied: PySocks!=1.5.7,>=1.5.6 in /usr/local/lib/python3.10/dist-packages (from requests[socks]->snscrape) (1.7.1)\n",
            "Installing collected packages: snscrape\n",
            "Successfully installed snscrape-0.7.0.20230622\n"
          ]
        }
      ],
      "source": [
        "!pip install snscrape"
      ]
    },
    {
      "cell_type": "code",
      "source": [
        "import snscrape.modules.twitter as sntwitter\n",
        "import pandas as pd\n",
        "import numpy as np\n",
        "import re\n",
        "import nltk\n",
        "\n",
        "from nltk.corpus import stopwords\n",
        "from nltk.stem.porter import PorterStemmer"
      ],
      "metadata": {
        "id": "1q31ZIT9-eL5"
      },
      "execution_count": 2,
      "outputs": []
    },
    {
      "cell_type": "code",
      "source": [
        "query = []\n",
        "\n",
        "query.append(\"(#happy) lang:en until:2023-01-01 since:2020-01-01 -filter:links\")\n",
        "query.append(\"(#suggestion) lang:en until:2023-01-01 since:2020-01-01 -filter:links\")\n",
        "query.append(\"(#sad ) lang:en until:2023-01-01 since:2020-01-01 -filter:links\")\n",
        "query.append(\"(#cool) lang:en until:2023-01-01 since:2020-01-01 -filter:links\")\n",
        "query.append(\"(#controversial) lang:en until:2023-01-01 since:2020-01-01 -filter:links\")\n",
        "query.append(\"(#insights) lang:en until:2023-01-01 since:2020-01-01 -filter:links\")\n",
        "query.append(\"(#grateful) lang:en until:2023-01-01 since:2020-01-01 -filter:links\")\n",
        "query.append(\"(#positivevibes) lang:en until:2023-01-01 since:2020-01-01 -filter:links\")\n",
        "query.append(\"(#energetics) lang:en until:2023-01-01 since:2020-01-01 -filter:links\")\n",
        "query.append(\"(#disappointed) lang:en until:2023-01-01 since:2020-01-01 -filter:links\")"
      ],
      "metadata": {
        "id": "Scw9QznZcMui"
      },
      "execution_count": 3,
      "outputs": []
    },
    {
      "cell_type": "code",
      "source": [
        "tweets = []\n",
        "limit = 30\n",
        "i = 0\n",
        "for tweet in sntwitter.TwitterSearchScraper(query[i]).get_items():\n",
        "  if len(tweets) == limit:\n",
        "    i += 1\n",
        "    limit += 30\n",
        "    if i == len(query):\n",
        "      break\n",
        "  else:\n",
        "    tweets.append([tweet.date, tweet.rawContent])\n"
      ],
      "metadata": {
        "id": "ZzHw0Rnf-vpT"
      },
      "execution_count": null,
      "outputs": []
    },
    {
      "cell_type": "code",
      "source": [
        "len(tweets)"
      ],
      "metadata": {
        "colab": {
          "base_uri": "https://localhost:8080/"
        },
        "id": "pGDHmU5L_JOD",
        "outputId": "3d20c3d2-ec87-4846-cb3f-13db31d42730"
      },
      "execution_count": 5,
      "outputs": [
        {
          "output_type": "execute_result",
          "data": {
            "text/plain": [
              "300"
            ]
          },
          "metadata": {},
          "execution_count": 5
        }
      ]
    },
    {
      "cell_type": "code",
      "source": [
        "tweets"
      ],
      "metadata": {
        "colab": {
          "base_uri": "https://localhost:8080/"
        },
        "id": "W7S2w9OC7i8k",
        "outputId": "badf2100-97e2-4e17-fdda-873b00ef6804"
      },
      "execution_count": 6,
      "outputs": [
        {
          "output_type": "execute_result",
          "data": {
            "text/plain": [
              "[[datetime.datetime(2022, 12, 31, 23, 59, 11, tzinfo=datetime.timezone.utc),\n",
              "  '#Happy #New #Year!!! Hope you all are having an amazing evening. Love to all from C4!'],\n",
              " [datetime.datetime(2022, 12, 31, 23, 53, 18, tzinfo=datetime.timezone.utc),\n",
              "  '@TeamSMATh #happy new year 2023 SMATH'],\n",
              " [datetime.datetime(2022, 12, 31, 23, 52, 30, tzinfo=datetime.timezone.utc),\n",
              "  'A fresh start this new year will bring.\\nAn opportunity to do the things\\nPerhaps you have put off your dreams\\nBut now is a time for them to be realized.\\n#Happy New Year to You All.'],\n",
              " [datetime.datetime(2022, 12, 31, 23, 45, 50, tzinfo=datetime.timezone.utc),\n",
              "  \"Sometimes it feels life is unfair, sometimes it seems our plan and life progress ain't as it should be. Remember that as long as you are alive, you can still experience breakthroughs...See life through the lens of gratitude #Happy New Year🎊💝\"],\n",
              " [datetime.datetime(2022, 12, 31, 23, 43, 52, tzinfo=datetime.timezone.utc),\n",
              "  '#happy  New Year! The start of a new year is often seen as a time for new beginnings and the opportunity to make positive changes in our lives. It can be a good time to reflect on the past year and think about what you would like to achieve in the coming year. #HappyNewYear2023'],\n",
              " [datetime.datetime(2022, 12, 31, 23, 42, 37, tzinfo=datetime.timezone.utc),\n",
              "  'Do you think of me sometimes?\\nOr is it too faint now?\\nThe meaning itself is awkward\\n#HAPPY'],\n",
              " [datetime.datetime(2022, 12, 31, 23, 38, 13, tzinfo=datetime.timezone.utc),\n",
              "  '#Happy new year 2️⃣0️⃣2️⃣3️⃣\\U0001faf6🏽❤️🔥'],\n",
              " [datetime.datetime(2022, 12, 31, 23, 24, 50, tzinfo=datetime.timezone.utc),\n",
              "  '#Happy #NewYear you dirty animals.'],\n",
              " [datetime.datetime(2022, 12, 31, 23, 21, 44, tzinfo=datetime.timezone.utc),\n",
              "  'Let us be #happy and #healthy.   Help kids #today.  😍🥰😍🥰😍🥰😍🥰😍🥰😍🥰😍😍🥰😍🥰😍🥰😍🥰😍🥰😍😍🙂😍🙂😍🙂😍🙂😍🙂😍🙂😍🙂😍🙂😍🙂😍😍🙂😍🙂😍🙂😍🙂😍🙂🤩🙂🤩🙂😍🙂😍🙂😍🙂😍🙂🤩🙂😍😍🙂🤩🙂🤩🙂🤩🙂🤩🙂🤩🙂🤩🙂🤩🙂🤩😅😍🙂🏃\\u200d♀️🙂🏃\\u200d♀️😅😍🙂😍🙂🤩🙂🤩🤩🙂🤩🙂🤩🙂🤩😅🤩🙂😍🙂🤩🤩🙂'],\n",
              " [datetime.datetime(2022, 12, 31, 23, 17, 23, tzinfo=datetime.timezone.utc),\n",
              "  'Happy new year #HappyNewYear2023 #happy new testimony to me and my household'],\n",
              " [datetime.datetime(2022, 12, 31, 23, 16, 2, tzinfo=datetime.timezone.utc),\n",
              "  '#Happy new year Twitter 🎉\\n#2023NewYear'],\n",
              " [datetime.datetime(2022, 12, 31, 23, 15, 56, tzinfo=datetime.timezone.utc),\n",
              "  '#Happy New year \\nMore memories \\nLess regrets'],\n",
              " [datetime.datetime(2022, 12, 31, 23, 15, 12, tzinfo=datetime.timezone.utc),\n",
              "  '#Happy new year 🎊 2023'],\n",
              " [datetime.datetime(2022, 12, 31, 23, 15, 5, tzinfo=datetime.timezone.utc),\n",
              "  '@y00tsHappyDAO @y00tsNFT @DeCustoms Thank you 🤝 #happy'],\n",
              " [datetime.datetime(2022, 12, 31, 23, 13, 44, tzinfo=datetime.timezone.utc),\n",
              "  \"Every item of your new way of life is custom-made by the Creator, with his label on it. All the old fashions are now obsolete.\\n#Ni God\\n#God's Word\\n#Heavenly Father\\n#Thank You Jesus\\n#Happy New Year 2023\"],\n",
              " [datetime.datetime(2022, 12, 31, 23, 13, 44, tzinfo=datetime.timezone.utc),\n",
              "  \"Colossians 3:9-11 MSG\\nYou're done with that old life. It's like a filthy set of ill-fitting clothes you've stripped off and put in the fire. Now you're dressed in a new wardrobe.\\n#Ni God\\n#God's Word\\n#Heavenly Father\\n#Thank You Jesus\\n#Happy New Year 2023\"],\n",
              " [datetime.datetime(2022, 12, 31, 23, 10, 36, tzinfo=datetime.timezone.utc),\n",
              "  '#Happy New Year. Happy birthday @nengiofficial \\nHAPPY BIRTHDAY NENGI\\nBIG25\\nNENGI AT 25 \\n#NengiRebeccaHampson'],\n",
              " [datetime.datetime(2022, 12, 31, 23, 10, 10, tzinfo=datetime.timezone.utc),\n",
              "  '@InstaWaliBhabhi How are u lwbhabhi #happy new year to u and ur friends'],\n",
              " [datetime.datetime(2022, 12, 31, 23, 6, 13, tzinfo=datetime.timezone.utc),\n",
              "  \"@Louisepoppy #happy New Year from United States at 6:00 p.m. we're on at raining in New York City\"],\n",
              " [datetime.datetime(2022, 12, 31, 23, 4, 54, tzinfo=datetime.timezone.utc),\n",
              "  '#Happy new year Nigerians,the government of Nigeria should allow #Apostle Ken Nwakama to disburse the UAAG Grant to avoid unnecessary unrest by the dying Nigerians that subscribed.\\nGod bless Nigeria as they listen to this voice of reason#.@SaharaReporters @bereketefamily @UN'],\n",
              " [datetime.datetime(2022, 12, 31, 23, 1, 50, tzinfo=datetime.timezone.utc),\n",
              "  'Happy New Year! All the best to you, your friends and family! #newYear #Happy'],\n",
              " [datetime.datetime(2022, 12, 31, 23, 1, 36, tzinfo=datetime.timezone.utc),\n",
              "  '#Happy New Year! All the best to you, your friends and family! Be careful and enjoy the night! &lt;3'],\n",
              " [datetime.datetime(2022, 12, 31, 23, 1, 25, tzinfo=datetime.timezone.utc),\n",
              "  \"Another year! It's January 01, 2023 at 12:01AM\\n#Happy New Year\"],\n",
              " [datetime.datetime(2022, 12, 31, 23, 1, 18, tzinfo=datetime.timezone.utc),\n",
              "  'It is:  #Happy #newyear #20insertyear #autoself #NewYear #NewYork #Paris #Copenhagen'],\n",
              " [datetime.datetime(2022, 12, 31, 23, 1, 8, tzinfo=datetime.timezone.utc),\n",
              "  '@FanDuelCasino #happy new year... Follow fanduel and fanduel casino !!'],\n",
              " [datetime.datetime(2022, 12, 31, 23, 0, 31, tzinfo=datetime.timezone.utc),\n",
              "  'Happy New Year! All the best to you, your friends and family! Keep on engaging this year. #happy #newyear'],\n",
              " [datetime.datetime(2022, 12, 31, 23, 0, 2, tzinfo=datetime.timezone.utc),\n",
              "  \"I'm currently feeling #Happy.\"],\n",
              " [datetime.datetime(2022, 12, 31, 22, 59, 37, tzinfo=datetime.timezone.utc),\n",
              "  'Happy New Year! All the best! #happy #newyear #spreadlove'],\n",
              " [datetime.datetime(2022, 12, 31, 22, 55, 3, tzinfo=datetime.timezone.utc),\n",
              "  '#Happy new year everyone A GRATEFUL HEART 🙏🙏🙏'],\n",
              " [datetime.datetime(2022, 12, 31, 22, 49, 55, tzinfo=datetime.timezone.utc),\n",
              "  'May God bless you a long, sick and shameful life.\\n\\n#metgala #apifamily\\n#thisismysong #mindfulness #shortstory #love #followme #happy #foryoupage #twitter #atheist #atheism #Christianity #JesusChrist'],\n",
              " [datetime.datetime(2022, 12, 31, 22, 48, 7, tzinfo=datetime.timezone.utc),\n",
              "  'Forgive and forget? I’m neither God nor do I have Alzheimer’s.\\n\\n#metgala #apifamily\\n#thisismysong #mindfulness #shortstory #love #followme #happy #foryoupage #twitter #atheist #atheism #Christianity #JesusChrist'],\n",
              " [datetime.datetime(2022, 12, 31, 22, 47, 4, tzinfo=datetime.timezone.utc),\n",
              "  'God please give me patience, if you give me strength I will just punch them in the face\\n\\n#metgala #apifamily\\n#thisismysong #mindfulness #shortstory #love #followme #happy #foryoupage #twitter #atheist #atheism #Christianity #JesusChrist'],\n",
              " [datetime.datetime(2022, 12, 31, 22, 46, 14, tzinfo=datetime.timezone.utc),\n",
              "  'I told God to protect me from my enemies and I started losing friends.\\n\\n#metgala #apifamily\\n#thisismysong #mindfulness #shortstory #love #followme #happy #foryoupage #twitter #atheist #atheism #Christianity #JesusChrist'],\n",
              " [datetime.datetime(2022, 12, 31, 22, 44, 8, tzinfo=datetime.timezone.utc),\n",
              "  'God must love stupid people; he made so many.\\n\\n#metgala #apifamily\\n#thisismysong #mindfulness #shortstory #love #followme #happy #foryoupage #twitter #atheist #atheism'],\n",
              " [datetime.datetime(2022, 12, 31, 22, 43, tzinfo=datetime.timezone.utc),\n",
              "  'Religion is just mind control\\n\\n#metgala #apifamily\\n#thisismysong #mindfulness #shortstory #love #followme #happy #foryoupage #twitter #atheism #atheist'],\n",
              " [datetime.datetime(2022, 12, 31, 22, 42, 2, tzinfo=datetime.timezone.utc),\n",
              "  'God made you in his image, really? Then why aren’t you invisible?\\n\\n#metgala #apifamily\\n#thisismysong #mindfulness #shortstory #love #followme #happy #foryoupage #twitter #atheist #atheism'],\n",
              " [datetime.datetime(2022, 12, 31, 22, 41, 52, tzinfo=datetime.timezone.utc),\n",
              "  '@scfc_d @BigLez67 @henryhumphreys1 Won a comp !!!! \\n#NowtDaft\\n\\nWill be in touch \\nThanks #Happy New Year'],\n",
              " [datetime.datetime(2022, 12, 31, 22, 40, 40, tzinfo=datetime.timezone.utc),\n",
              "  'When they asked me what my religion was. I said I was Non-Delusional.\\n\\n#metgala #apifamily\\n#thisismysong #mindfulness #shortstory #love #followme #happy #foryoupage #twitter #atheist #atheism'],\n",
              " [datetime.datetime(2022, 12, 31, 22, 39, 35, tzinfo=datetime.timezone.utc),\n",
              "  'Too stupid to understand science? Try religion!\\n\\n#metgala #apifamily\\n#thisismysong #mindfulness #shortstory #love #followme #happy #foryoupage #twitter #atheist #atheism'],\n",
              " [datetime.datetime(2022, 12, 31, 22, 38, 9, tzinfo=datetime.timezone.utc),\n",
              "  'Wanna know the funniest thing about people who call people like me Satanists? They believe in Satan, and I don’t.\\n\\n#metgala #apifamily\\n#thisismysong #mindfulness #shortstory #love #followme #happy #foryoupage #twitter #atheism'],\n",
              " [datetime.datetime(2022, 12, 31, 22, 37, 8, tzinfo=datetime.timezone.utc),\n",
              "  'If you decide to drink, spend the night. Finally, let’s take care of each other! \\n#Safety #Community #Prosperity #Family #Healthy #Happy #NewYear #FirstResponders #ColtonCalifornia #InlandEmpire'],\n",
              " [datetime.datetime(2022, 12, 31, 22, 36, 46, tzinfo=datetime.timezone.utc),\n",
              "  'Thank God I’m an Atheist.\\n\\n#metgala #apifamily\\n#thisismysong #mindfulness #shortstory #love #followme #happy #foryoupage #twitter #atheist #atheism'],\n",
              " [datetime.datetime(2022, 12, 31, 22, 36, 4, tzinfo=datetime.timezone.utc),\n",
              "  'Adults with imaginary friends are stupid.\\n\\n#metgala #apifamily\\n#thisismysong #mindfulness #shortstory #love #followme #happy #foryoupage #twitter'],\n",
              " [datetime.datetime(2022, 12, 31, 22, 34, 32, tzinfo=datetime.timezone.utc),\n",
              "  'If your religion requires you to hate someone, you need a new religion.\\n\\n#metgala #apifamily\\n#thisismysong #mindfulness #shortstory #love #followme #happy #foryoupage #twitter #atheist #atheism'],\n",
              " [datetime.datetime(2022, 12, 31, 22, 31, 54, tzinfo=datetime.timezone.utc),\n",
              "  \"Happy new year #happy #Welcome2023 #lastdance2022 #LastDance love u guy's\"],\n",
              " [datetime.datetime(2022, 12, 31, 22, 27, 2, tzinfo=datetime.timezone.utc),\n",
              "  'From Trient Press have a blessed and happy new years #happynewyear #newyear #love #happy #newyearseve   #photography #like #photooftheday #newyears #party #follow #family  #winter #hello #reno #goals #likeforlikes #picoftheday #celebration #happyholidays #nevada #tahoe'],\n",
              " [datetime.datetime(2022, 12, 31, 22, 26, 14, tzinfo=datetime.timezone.utc),\n",
              "  '@LukhonaMnguni A #sad new year as we fail to even say #happy Or eat three meals a day 😢🇿🇦'],\n",
              " [datetime.datetime(2022, 12, 31, 22, 22, 20, tzinfo=datetime.timezone.utc),\n",
              "  '#Happy new year'],\n",
              " [datetime.datetime(2022, 12, 31, 22, 20, 54, tzinfo=datetime.timezone.utc),\n",
              "  'Watu hatuopen-up tushapiga nduru jana, we meet same place same time This December🥱😂😂😂💔...#Happy New Year 2023 #Welcome2023 #goodbye2022 #NewYear'],\n",
              " [datetime.datetime(2022, 12, 31, 22, 20, 44, tzinfo=datetime.timezone.utc),\n",
              "  'Happy new year 2023 #pinetwork #Pipayment #Pitransactions #pi2023 #happy new year 2023🚀🎊🎶🎉🎉🎉🎉🎉🎉🎉🚀🚀🚀🚀'],\n",
              " [datetime.datetime(2022, 12, 31, 22, 16, 11, tzinfo=datetime.timezone.utc),\n",
              "  '#Happy New Year To All.\\nMay This Year Bring Lots Of Happiness,Love &amp; Peace In Your Life Aameen.\\nMay Your All Dreams Come True.\\nHappy New Year 2023\\nRemember Me In Your Prayers❤❤❤ \\n\"Israr Khan\"'],\n",
              " [datetime.datetime(2022, 12, 31, 22, 14, 35, tzinfo=datetime.timezone.utc),\n",
              "  '#Hope is bright red shoes in a grey world, the starlight sparkle in a baby’s eyes and the midnight cloak worn by the moon. It’s there to take your breath away with loves first kiss and hold your hand at the graveside. Hope adds the #Happy to #NewYear \\n\\n#vss365 #HappyNewYear'],\n",
              " [datetime.datetime(2022, 12, 31, 22, 13, 21, tzinfo=datetime.timezone.utc),\n",
              "  '#HAPPY NEW YEAR_2K23'],\n",
              " [datetime.datetime(2022, 12, 31, 22, 12, 21, tzinfo=datetime.timezone.utc),\n",
              "  '#Happy New Year! 2023 is the beginning of a new chapter. This is your year. Make it happen.\\n\\n#HappyNewYear2023'],\n",
              " [datetime.datetime(2022, 12, 31, 22, 11, 42, tzinfo=datetime.timezone.utc),\n",
              "  '#Happy New Year To Everyone❤️💖'],\n",
              " [datetime.datetime(2022, 12, 31, 22, 11, 35, tzinfo=datetime.timezone.utc),\n",
              "  'Make friends with someone who is always #happy'],\n",
              " [datetime.datetime(2022, 12, 31, 22, 11, 7, tzinfo=datetime.timezone.utc),\n",
              "  '#Happy New Year’s Eve ! #Tonight’s house-made #dinner #special is a Braised #ShortRib - served with #broccolini and Parmesan #risotto. House #soup is French Onion. #Dessert Special is #Oreo #Cheesecake.'],\n",
              " [datetime.datetime(2022, 12, 31, 22, 8, 34, tzinfo=datetime.timezone.utc),\n",
              "  '#happy new year'],\n",
              " [datetime.datetime(2022, 12, 31, 22, 8, 13, tzinfo=datetime.timezone.utc),\n",
              "  '@CnT1223 @NakaOuiLani And don’t worry I didn’t take it personal or anything, we good my man text always get twisted as you never see the body language or the tone of what’s being said!\\n#happy new year m8'],\n",
              " [datetime.datetime(2022, 12, 31, 22, 7, 4, tzinfo=datetime.timezone.utc),\n",
              "  '#Happy new year🎊\\nBlessings upon blessings 🙏'],\n",
              " [datetime.datetime(2022, 12, 31, 22, 1, 30, tzinfo=datetime.timezone.utc),\n",
              "  'Happy New Year! All the best to you, your friends and family! #HPN #happynewyear #happy #manyreturns'],\n",
              " [datetime.datetime(2022, 12, 31, 22, 1, 24, tzinfo=datetime.timezone.utc),\n",
              "  'Happy New Year! All the best! Be happy, my friends! #behappy #happy #happynewyear #congrats #newlife #freedom #allthebest #friends'],\n",
              " [datetime.datetime(2022, 12, 31, 22, 1, 16, tzinfo=datetime.timezone.utc),\n",
              "  'Dear Lord, hear my prayers and let your will be done in 2023🙏🙌\\n\\n#Happy new year 2023🎆🎇'],\n",
              " [datetime.datetime(2022, 12, 31, 21, 58, 46, tzinfo=datetime.timezone.utc),\n",
              "  \"Even when you feel it's bad, remember to reach out to others around you for help (ㅅ´ ˘ `) #happy\"],\n",
              " [datetime.datetime(2022, 12, 31, 21, 55, 45, tzinfo=datetime.timezone.utc),\n",
              "  'Happy New year 2023🎇🎆\\n#Happy EXO year❤️'],\n",
              " [datetime.datetime(2022, 12, 31, 21, 45, 54, tzinfo=datetime.timezone.utc),\n",
              "  '#Happy New Year, Year 2023 \\n\\nIsaiah 52:12\\n[12]You will not leave in a hurry, \\n\\xa0\\xa0\\xa0 running for your lives. \\nFor the Lord will go ahead of you; \\n\\xa0\\xa0\\xa0 yes, the God of Israel will protect you from behind.'],\n",
              " [datetime.datetime(2022, 12, 31, 21, 45, 51, tzinfo=datetime.timezone.utc),\n",
              "  'NIMEFIKA🙏 #Happy new year 2023 Fam❤️'],\n",
              " [datetime.datetime(2022, 12, 31, 21, 44, 23, tzinfo=datetime.timezone.utc),\n",
              "  '@NathanHeaney Haha wishful thinking ! #happy news years man all the best 🔴⚪️🤜🏼'],\n",
              " [datetime.datetime(2022, 12, 31, 21, 40, 21, tzinfo=datetime.timezone.utc),\n",
              "  '#happy #NewYear #eve for every one'],\n",
              " [datetime.datetime(2022, 12, 31, 21, 37, 17, tzinfo=datetime.timezone.utc),\n",
              "  '#HAPPY NEW YEAR२०२३'],\n",
              " [datetime.datetime(2022, 12, 31, 21, 29, 34, tzinfo=datetime.timezone.utc),\n",
              "  'As we saY 😌gooDbYe to tHe oLd aNd helLo to tHe new, may YouR nEw yeaR 💌be fulL of hoPe, 🤞🏼pRoMise, anD.. 🪄aLl tHe bLesSinGs life Has to oFfeR💫. HaPpy New YeaR!”💙#loving🥺  #love 🌿#caring #happy😌❤️ #beautiful #life #cute🌻💛 #instagram #loveyourself #happiness #lovequotes'],\n",
              " [datetime.datetime(2022, 12, 31, 21, 18, 16, tzinfo=datetime.timezone.utc),\n",
              "  'Oh lord as am crossing over to a brand New year\\nMake all my endeavor and purse dreams show\\nI no wan dey play,No shege,No deaths,No No sapa,No loss,No damage \\nGod of Host\\n#chrome of oau#\\n#New year cross over #\\n#Happy new year\\n#Retweet'],\n",
              " [datetime.datetime(2022, 12, 31, 21, 16, 27, tzinfo=datetime.timezone.utc),\n",
              "  'Wishing you a Happy New Year, may it be filled with new adventures and good fortunes \\n\\n#Happy #New #Year'],\n",
              " [datetime.datetime(2022, 12, 31, 21, 16, 24, tzinfo=datetime.timezone.utc),\n",
              "  '2023 is here with us.Thank you God.\\n#Happy New Year'],\n",
              " [datetime.datetime(2022, 12, 31, 21, 11, 47, tzinfo=datetime.timezone.utc),\n",
              "  '#Happy #new #year to all my #friends.🎉🎉💐💐#Wishing you a very happy and #Prosperous #New #year #2023NewYear .😇💐💥🍭🍭❤🎉🎉🎉🎂🎂'],\n",
              " [datetime.datetime(2022, 12, 31, 21, 10, 6, tzinfo=datetime.timezone.utc),\n",
              "  '#Happy year 2023🤍.'],\n",
              " [datetime.datetime(2022, 12, 31, 21, 7, 11, tzinfo=datetime.timezone.utc),\n",
              "  'We try again.\\n\\n#Happy new year 2023.'],\n",
              " [datetime.datetime(2022, 12, 31, 21, 7, 5, tzinfo=datetime.timezone.utc),\n",
              "  \"#Happy New Year 2023 To You All God's People.Tuishi kwa kupendana na kusaidiana, Maisha ni mafupi.\"],\n",
              " [datetime.datetime(2022, 12, 31, 21, 6, 56, tzinfo=datetime.timezone.utc),\n",
              "  '@yoshimu_cork #Happy new year !'],\n",
              " [datetime.datetime(2022, 12, 31, 21, 3, 14, tzinfo=datetime.timezone.utc),\n",
              "  'Trees grow in silence. Only make noise falling down #happy fucking #NewYear'],\n",
              " [datetime.datetime(2022, 12, 31, 21, 2, 34, tzinfo=datetime.timezone.utc),\n",
              "  'Happy New Year! May you accomplish your goals, meet new friends, find peace in your every day, and achieve new heights. Wishing you success and prosperity in this new year. #Happy #newyear #GoodBye2022 #HappyNewYear'],\n",
              " [datetime.datetime(2022, 12, 31, 21, 0, 34, tzinfo=datetime.timezone.utc),\n",
              "  '#Happy New Year'],\n",
              " [datetime.datetime(2022, 12, 31, 20, 54, 43, tzinfo=datetime.timezone.utc),\n",
              "  '#happy new year all'],\n",
              " [datetime.datetime(2022, 12, 31, 20, 47, 38, tzinfo=datetime.timezone.utc),\n",
              "  '#Happy New Year🎉🎊🎇🎇 ❣️❣️\\n2023'],\n",
              " [datetime.datetime(2022, 12, 31, 20, 46, 38, tzinfo=datetime.timezone.utc),\n",
              "  'I have one body butter of each left and Started initially with seven each. 🙌🙃\\nAloe + Eucalyptus $16.79,\\nCrème de la Crème (vanilla) $17.64,\\n&amp; Oh, so Chocolatey is $17.15. \\nAll 6 oz and $4.90 for shopping!!\\n#happy #lovelagaddessadore #bysilasia #bodybutters #shoplagaddessadore'],\n",
              " [datetime.datetime(2022, 12, 31, 20, 42, 57, tzinfo=datetime.timezone.utc),\n",
              "  \"@garyowencomedy Have a great 2 shows Gary! Wish I could be there but I'm working too. Lol. #Happy New Year\"],\n",
              " [datetime.datetime(2022, 12, 31, 20, 41, 29, tzinfo=datetime.timezone.utc),\n",
              "  'Another year of success and happiness has passed.With every new year comes greater challenges and obstacles in life.\\nI wish you courage, hope and faith to overcome all the hurdles you face. May you have a great year and a wonderful time ahead.\\n\\nGod bless you\\n#HAPPY NEW YEAR\\n#2023'],\n",
              " [datetime.datetime(2022, 12, 31, 20, 41, 29, tzinfo=datetime.timezone.utc),\n",
              "  \"Happy new year.\\n10 years ago you said, we can't be together because you don't want to lose a friend. But deep inside I know that you just can't love me the way I'm loving you. \\n#love #BeginAgain #ILoveYou #romance #quotes #pain #emotion #happy #memories #newyear #2023\"],\n",
              " [datetime.datetime(2022, 12, 31, 20, 34, 50, tzinfo=datetime.timezone.utc),\n",
              "  'Any one with #arsenallogo n #happy 2023💥💥'],\n",
              " [datetime.datetime(2022, 12, 31, 20, 34, 46, tzinfo=datetime.timezone.utc),\n",
              "  'YEAR 2022\\n                    I learned a lot from this year,were iam laughed iam cried and learned many things ...... Thanks for everything.....🙏#HAPPY NEW YEAR 2023🎊'],\n",
              " [datetime.datetime(2022, 12, 31, 20, 33, 42, tzinfo=datetime.timezone.utc),\n",
              "  '#Happy new year 2023'],\n",
              " [datetime.datetime(2022, 12, 31, 20, 26, 16, tzinfo=datetime.timezone.utc),\n",
              "  '@witty_sim Wishing you a Happy New Year 2023 with the hope that you will have many blessings in the year to come.\\n\\n#Happy New year#'],\n",
              " [datetime.datetime(2022, 12, 31, 20, 26, 10, tzinfo=datetime.timezone.utc),\n",
              "  'Maybe this year also noting gonna change for me , every year give me a new season of fuck.\\nAnyway hope for good 😊\\n#Happy fucking new year 🥂'],\n",
              " [datetime.datetime(2022, 12, 31, 20, 26, 1, tzinfo=datetime.timezone.utc),\n",
              "  '🤍🤍#Wishing you a Happy new year to all my friends and relatives! \\nMay it be filled with new adventures and good fortunes❤😇🙏#happy new year'],\n",
              " [datetime.datetime(2022, 12, 31, 20, 21, 1, tzinfo=datetime.timezone.utc),\n",
              "  'To all, #happy #2023NewYear ❤️\\nMay 2023 give you a lot of #gains'],\n",
              " [datetime.datetime(2022, 12, 31, 20, 20, 4, tzinfo=datetime.timezone.utc),\n",
              "  '#Security #News \\n\\n#Americans have a #president that I don`t know the #president as good as he is.\\n\\nHe lowered #tax for a #corporate #business because a #corporation is providing E V E R Y T H I N G to help #employees #work in a #correct manner.\\n\\nA #happy new year #Americans.'],\n",
              " [datetime.datetime(2022, 12, 31, 20, 19, 31, tzinfo=datetime.timezone.utc),\n",
              "  '@ShaniaTwain #Happy New Year..🙋\\u200d♂️'],\n",
              " [datetime.datetime(2022, 12, 31, 20, 18, 15, tzinfo=datetime.timezone.utc),\n",
              "  'Dubai 2k23 official.\\n#Happy New year'],\n",
              " [datetime.datetime(2022, 12, 31, 20, 17, 22, tzinfo=datetime.timezone.utc),\n",
              "  \"#HaPPy new year 2k23🥀😍 verEre AmEeEeEn✨♥️ VerEr inshallah  Muslim prayer ALLaH SoOoOo Mubarak 💫🎉  Family AllaH💚 year new 2K23  Mather SMile sister brother me you're,  AmEeEen ♥️🙏🏼🥰  Hai SEnding you all EndlEss And happiNeSs! 🤗\"],\n",
              " [datetime.datetime(2022, 12, 31, 20, 15, 36, tzinfo=datetime.timezone.utc),\n",
              "  \"Don't wait to be rich to be Happy.      \\nHappiness is free 🙂!\\n#Happy new year in Advance 💞🇸🇸❤🇸🇩🧨🎉🎈\"],\n",
              " [datetime.datetime(2022, 12, 31, 20, 14, 45, tzinfo=datetime.timezone.utc),\n",
              "  '#Goodbye 👋 2022 #Thanks for being a pain in the arse ! #NYE2023 #Happy #NewYear 🌟🎊🎉🍾🥂'],\n",
              " [datetime.datetime(2022, 12, 31, 20, 13, 55, tzinfo=datetime.timezone.utc),\n",
              "  '#Happy #New #year 2023 to all friends &amp; near &amp; dear ones &amp; your #families 🙏😊🥳 #HappyNewYear #HappyNewYear2023'],\n",
              " [datetime.datetime(2022, 12, 31, 20, 12, 54, tzinfo=datetime.timezone.utc),\n",
              "  'Watching from Pemba in Mozambique at Cabo Delgado Province 🔥🔥🔥#HAPPY 2023 EVERYBODY🇿🇦❤#LastDance2022'],\n",
              " [datetime.datetime(2022, 12, 31, 20, 12, 43, tzinfo=datetime.timezone.utc),\n",
              "  '#happy year New\\nNo matter what you are going through, there is always a way out.'],\n",
              " [datetime.datetime(2022, 12, 31, 20, 9, 34, tzinfo=datetime.timezone.utc),\n",
              "  '. \"If you need help making your assignment shine, I\\'m the person to call.\"\\n#happy new year'],\n",
              " [datetime.datetime(2022, 12, 31, 20, 4, 44, tzinfo=datetime.timezone.utc),\n",
              "  'On this New Year’s Eve ,\\nWish all of you a peaceful, happy, healthy , &amp; successful year 2023  💐\\n#2023NewYear #HappyNewYear #HappyNewYear2023 #happy #NewYearsEve'],\n",
              " [datetime.datetime(2022, 12, 31, 19, 59, 44, tzinfo=datetime.timezone.utc),\n",
              "  '@saharzaman #Happy New year'],\n",
              " [datetime.datetime(2022, 12, 31, 19, 59, 18, tzinfo=datetime.timezone.utc),\n",
              "  '#Happy #New #Year \\n#ScotlandFreeIn23\\nBest wishes one and all 🥃'],\n",
              " [datetime.datetime(2022, 12, 31, 19, 58, 28, tzinfo=datetime.timezone.utc),\n",
              "  'I wish all the raindrops were lemon drops and gum drops. #happy'],\n",
              " [datetime.datetime(2022, 12, 31, 19, 57, 28, tzinfo=datetime.timezone.utc),\n",
              "  '#happy new years 2023'],\n",
              " [datetime.datetime(2022, 12, 31, 19, 53, 58, tzinfo=datetime.timezone.utc),\n",
              "  '#HuzaifaAli likes to say #Happy Birthday 🤣🤣💚❤'],\n",
              " [datetime.datetime(2022, 12, 31, 19, 53, 4, tzinfo=datetime.timezone.utc),\n",
              "  '@abcdiagnosis Looking awesome all of you!!!!!  Xxx ##happy New year… I do plan on doing a retreat this time :) xx'],\n",
              " [datetime.datetime(2022, 12, 31, 19, 50, 39, tzinfo=datetime.timezone.utc),\n",
              "  '@GeetabenRabari #Happy birthday dear sis ..\\n#thakar bless you dii ..'],\n",
              " [datetime.datetime(2022, 12, 31, 19, 45, 14, tzinfo=datetime.timezone.utc),\n",
              "  '#Happy #New #year 2023 to all friends &amp; near &amp; dear ones &amp; your #families 🙏😊🥳 #HappyNewYear #HappyNewYear2023'],\n",
              " [datetime.datetime(2022, 12, 31, 19, 42, 53, tzinfo=datetime.timezone.utc),\n",
              "  'We end 2022, 7 points clear, 12 above 3rd, 13 above Spurs, 15 above Liverpool, having dropped 5 points all season, all with the youngest squad in the league!\\n\\nArteta said some time ago that this project will pop! Well, its popping!\\n\\nStay humble Gooners!\\n\\n#Happy New Year! 🔴⚪️'],\n",
              " [datetime.datetime(2022, 12, 31, 19, 42, 30, tzinfo=datetime.timezone.utc),\n",
              "  '#happy new year'],\n",
              " [datetime.datetime(2022, 12, 31, 19, 40, 44, tzinfo=datetime.timezone.utc),\n",
              "  'It is the year to trust in yourself and pursue your wildest ambitions; a new year brings abundant opportunities.\\nHappy New Year 2023\\n#morningvibes #quoteoftheday #success #happiness #positivevibes #believe #happy #mindset #goals #HappyNewYear2023 #HappyNewYear'],\n",
              " [datetime.datetime(2022, 12, 31, 19, 39, 28, tzinfo=datetime.timezone.utc),\n",
              "  'I found @bearsdenmusic in 2022 and it will be with me almost daily in 2023.  Happy #NYE #music #beautiful #happy'],\n",
              " [datetime.datetime(2022, 12, 31, 19, 36, 35, tzinfo=datetime.timezone.utc),\n",
              "  '#HAPPY NEW YEAR MADAFAKA'],\n",
              " [datetime.datetime(2022, 12, 31, 19, 31, 27, tzinfo=datetime.timezone.utc),\n",
              "  '#Happy new year \\nWelcome: 01/01 #2023ready'],\n",
              " [datetime.datetime(2022, 12, 31, 19, 31, 9, tzinfo=datetime.timezone.utc),\n",
              "  '@CryptoKing4Ever #Happy new year 2023'],\n",
              " [datetime.datetime(2022, 12, 31, 19, 31, 8, tzinfo=datetime.timezone.utc),\n",
              "  '#HappyNewYear2023\\n I hope the New Year 2023 brings abundant joy, prosperity, love, and blessings! The New year will be extraordinary and filled with happiness for you. I wish you and your family a wonderful new year! I am very fortunate to have you in my life this New Year #Happy'],\n",
              " [datetime.datetime(2022, 12, 31, 19, 30, 27, tzinfo=datetime.timezone.utc),\n",
              "  'Welcome 2023!\\n\\nTruth is\\n\\nI have no plans\\nNo expectations\\nNo desires\\nNo goals 🤭😁\\n\\n#happy'],\n",
              " [datetime.datetime(2022, 12, 31, 19, 29, 23, tzinfo=datetime.timezone.utc),\n",
              "  \"** #Season's #greetings :\\n==================\\n#Happy #New #Year 2023 !! We sincerely #hope that it will be a year of #success, #prosperity, #joy, #happiness, #good #health, and #wealth for #humankind, #Amen !!  👍👏💙🙏\\n\\n#HappyNewYear \\n#HappyNewYear2023 \\n#SEASONSGREETINGS\"],\n",
              " [datetime.datetime(2022, 12, 31, 19, 26, 42, tzinfo=datetime.timezone.utc),\n",
              "  '@yadavtejashwi #Happy New Year 2023'],\n",
              " [datetime.datetime(2022, 12, 31, 19, 25, 22, tzinfo=datetime.timezone.utc),\n",
              "  '@AqrabaFatima Masha allah salaam zainabع #happy new year may allah bless you ❤🌷👍🏼'],\n",
              " [datetime.datetime(2022, 12, 31, 19, 25, 3, tzinfo=datetime.timezone.utc),\n",
              "  '#Happy New Year to all 🎆\\n$stay healthy.'],\n",
              " [datetime.datetime(2022, 12, 31, 19, 24, 26, tzinfo=datetime.timezone.utc),\n",
              "  '#Happy New Year @PawanKalyan annaya..\\n#Love Youu..'],\n",
              " [datetime.datetime(2022, 12, 31, 19, 22, 11, tzinfo=datetime.timezone.utc),\n",
              "  '@KChiruTweets #Happy new year sir♥'],\n",
              " [datetime.datetime(2022, 12, 31, 19, 19, 31, tzinfo=datetime.timezone.utc),\n",
              "  'InSha ALLah 2023 Will be the year of happiness, love, financial Freedom and good health for everyone . It will be the best year of our life .\\n#Happy new year❤️\\n#HappyNewYear \\n#Arbi'],\n",
              " [datetime.datetime(2022, 12, 31, 19, 19, 17, tzinfo=datetime.timezone.utc),\n",
              "  '@dfox296 So true. Restructuring the family (when kids are involved) can have so many silver linings. #peacefulhomes #coparenting #happy #stillafamily'],\n",
              " [datetime.datetime(2022, 12, 31, 19, 18, 52, tzinfo=datetime.timezone.utc),\n",
              "  'To all my \\nTwitter #friends \\nA #happy and\\n#Peaceful \\n#New #Year.'],\n",
              " [datetime.datetime(2022, 12, 31, 19, 15, 47, tzinfo=datetime.timezone.utc),\n",
              "  '#Happy New Year'],\n",
              " [datetime.datetime(2022, 12, 31, 19, 15, 41, tzinfo=datetime.timezone.utc),\n",
              "  '#Happy New Year to all of my Dear and Respected Friends !'],\n",
              " [datetime.datetime(2022, 12, 31, 19, 13, 48, tzinfo=datetime.timezone.utc),\n",
              "  'Happy New Year Everyone!! Have a Good Year \\n#HappyNewYear #NewYear #Happy #NewYear'],\n",
              " [datetime.datetime(2022, 12, 31, 19, 12, 42, tzinfo=datetime.timezone.utc),\n",
              "  \"@greenysoulin V #Happy &amp; Special Birthday '23 to You from my side 🎂🎉👍, Mahadev Bless You 🚩🙏🏻\"],\n",
              " [datetime.datetime(2022, 12, 31, 19, 9, 51, tzinfo=datetime.timezone.utc),\n",
              "  'Take a leap of faith and begin this wondrous new year by believing\\n#Happy #New #Year Dear All 2023 But Still miss someone🔥🖤'],\n",
              " [datetime.datetime(2022, 12, 31, 19, 7, 54, tzinfo=datetime.timezone.utc),\n",
              "  \"#Happy #New #Year to everyone, friends and foes. Let's hope that friends remain friends and foes become friends.\"],\n",
              " [datetime.datetime(2022, 12, 31, 19, 6, 13, tzinfo=datetime.timezone.utc),\n",
              "  '#HAPPY NEW YEAR  2023 #'],\n",
              " [datetime.datetime(2022, 12, 31, 19, 2, 42, tzinfo=datetime.timezone.utc),\n",
              "  'We wish you a happy new year 2023! We have a lot of exciting things in store, and we can’t wait to share with you!\\n\\n#happy #newyear #happyholidays #newyear #newyearseve #newyears #2023 #newyearseve #2023happynewyear #2023newyearseve #happyholidays'],\n",
              " [datetime.datetime(2022, 12, 31, 19, 1, 53, tzinfo=datetime.timezone.utc),\n",
              "  '@imlikhita Tnq🤝#Happy new year💐💐'],\n",
              " [datetime.datetime(2022, 12, 31, 19, 0, 39, tzinfo=datetime.timezone.utc),\n",
              "  'Happy new year 🎆💐 to 8 billion\\nPeace, love , goodness ❣️ we  enjoy every each moment of this new 2023 yaar ☺️\\n#HappyNewYear2023 \\n#HappyNewYear #love #Peace\\n#2023 #happyday #happy #01/01/2023'],\n",
              " [datetime.datetime(2022, 12, 31, 19, 0, tzinfo=datetime.timezone.utc),\n",
              "  \"🎉#MerryChristmas and #HappyNewyear!!!🎉\\nI #wish the year 2023'd be better for You and Your Family. #Health wouldn't be an issue and a dose of dopamine and endorphins would be produced naturally in your body each day. Don't forget that being #happy is your 11111100111 #business.\"],\n",
              " [datetime.datetime(2022, 12, 31, 18, 59, 43, tzinfo=datetime.timezone.utc),\n",
              "  '#Happy #NewYear to all of you !'],\n",
              " [datetime.datetime(2022, 12, 31, 18, 58, 14, tzinfo=datetime.timezone.utc),\n",
              "  '#Happy new year 💐'],\n",
              " [datetime.datetime(2022, 12, 31, 18, 57, 2, tzinfo=datetime.timezone.utc),\n",
              "  '@RMKFC @iamRashmika #Happy New year I love you'],\n",
              " [datetime.datetime(2022, 12, 31, 18, 56, 39, tzinfo=datetime.timezone.utc),\n",
              "  'Anyway, I have a glass of wine, a box of truffles and I’m settling down to watch the @Ri_Science Xmas lectures. #happy'],\n",
              " [datetime.datetime(2022, 12, 31, 18, 55, 23, tzinfo=datetime.timezone.utc),\n",
              "  '#happy new year nanba\\n#happy new year talapathy'],\n",
              " [datetime.datetime(2022, 12, 31, 18, 54, 47, tzinfo=datetime.timezone.utc),\n",
              "  '#Happy new year 2023'],\n",
              " [datetime.datetime(2022, 12, 31, 18, 54, 32, tzinfo=datetime.timezone.utc),\n",
              "  '@AshwaniAmbedker #Happy new year'],\n",
              " [datetime.datetime(2022, 12, 31, 18, 50, 56, tzinfo=datetime.timezone.utc),\n",
              "  '@chidambara09 @BetaMoroney A great article on #Cyber #hoarding and how to start #digital #decluttering - Excellent, dear @chidambara09 \\n\\nWishing you a very #Happy and Healthy #NewYear2023 Blessings for much success in your job and in your hobby in SM'],\n",
              " [datetime.datetime(2022, 12, 31, 18, 50, 53, tzinfo=datetime.timezone.utc),\n",
              "  '@JonGordon11 @NDwarka1 Yup Stay focused and stay the course #Happy 2023'],\n",
              " [datetime.datetime(2022, 12, 31, 18, 48, 42, tzinfo=datetime.timezone.utc),\n",
              "  '#Happy #New #Year 💕 💕💕 Wish you good Health ,  Fortune , Happiness  and Success \\nVery Best of luck to all of you ...'],\n",
              " [datetime.datetime(2022, 12, 31, 18, 48, tzinfo=datetime.timezone.utc),\n",
              "  'All\\n#HAPPY NEW YEAR 2023'],\n",
              " [datetime.datetime(2022, 12, 31, 18, 47, 23, tzinfo=datetime.timezone.utc),\n",
              "  '#Happy New Year 2023..'],\n",
              " [datetime.datetime(2022, 12, 31, 18, 45, 29, tzinfo=datetime.timezone.utc),\n",
              "  \"The biggest thing for me was changing jobs and I'm so happy in the job I'm in now.i have so many things to look forward to in 2023 #highlight #Happy\"],\n",
              " [datetime.datetime(2022, 12, 31, 18, 45, 6, tzinfo=datetime.timezone.utc),\n",
              "  'Wishing you all a very #happy and #healthy #NewYear #2023 🥂'],\n",
              " [datetime.datetime(2022, 12, 31, 18, 43, 4, tzinfo=datetime.timezone.utc),\n",
              "  \"#HappyNewYear2023 ? Well I don't understand the concept of #Happy and #New is not always #good so I will stick to just a #Year2023\"],\n",
              " [datetime.datetime(2022, 12, 31, 18, 42, 44, tzinfo=datetime.timezone.utc),\n",
              "  '@DarjeelingVoice #Happy New year'],\n",
              " [datetime.datetime(2022, 12, 31, 18, 42, 21, tzinfo=datetime.timezone.utc),\n",
              "  'Happy new year \\n#HappyNewYear2023 \\n#NewYear #NewYear2023 \\n#happy #NewYear'],\n",
              " [datetime.datetime(2022, 12, 31, 18, 41, 57, tzinfo=datetime.timezone.utc),\n",
              "  '#Happy New year 🎉  2023 all friends  and  relatives ❤ 💖 \\n#HappyNewYear2023 🥰😘🌷'],\n",
              " [datetime.datetime(2022, 12, 31, 18, 40, 49, tzinfo=datetime.timezone.utc),\n",
              "  '#Happy new year 2023'],\n",
              " [datetime.datetime(2022, 12, 31, 18, 40, 6, tzinfo=datetime.timezone.utc),\n",
              "  '#happy new year 2023'],\n",
              " [datetime.datetime(2022, 12, 31, 18, 37, 17, tzinfo=datetime.timezone.utc),\n",
              "  'All OLD YEAR problems will continue into the NEW YEAR and the NEW YEAR will just bring in NEW PROBLEMS #Happy Old NewYear to all....🤙🤙'],\n",
              " [datetime.datetime(2022, 12, 31, 18, 35, 39, tzinfo=datetime.timezone.utc),\n",
              "  '@Pritiyadavvns #Happy new year'],\n",
              " [datetime.datetime(2022, 12, 31, 18, 33, 34, tzinfo=datetime.timezone.utc),\n",
              "  'A new year is like a blank book, and the pen is in your hands. It is your chance to write a beautiful story for yourself.\\n\\n#happynewyear2023\\n#HAPPY #NEW #YEAR #2023NewYear'],\n",
              " [datetime.datetime(2022, 12, 31, 18, 33, 21, tzinfo=datetime.timezone.utc),\n",
              "  '#HappyNewYear2023 #happy #2023welcome \\nHappy near all of u guys . \\nGods gives you lots of happiness.'],\n",
              " [datetime.datetime(2022, 12, 31, 18, 33, 17, tzinfo=datetime.timezone.utc),\n",
              "  '#happy new year 2023'],\n",
              " [datetime.datetime(2022, 12, 31, 18, 32, 5, tzinfo=datetime.timezone.utc),\n",
              "  '#Happy New yer'],\n",
              " [datetime.datetime(2022, 12, 31, 18, 32, 1, tzinfo=datetime.timezone.utc),\n",
              "  '#Happy New Year🙏'],\n",
              " [datetime.datetime(2022, 12, 31, 18, 30, 46, tzinfo=datetime.timezone.utc),\n",
              "  'Happy New Year 2023😊\\n#Newyear\\n#2023NewYear \\n#Happy'],\n",
              " [datetime.datetime(2022, 12, 31, 18, 30, 27, tzinfo=datetime.timezone.utc),\n",
              "  '#Happy new year \\n\\n#Welcome 2023'],\n",
              " [datetime.datetime(2022, 12, 31, 18, 30, 15, tzinfo=datetime.timezone.utc),\n",
              "  '#tw Wishing you a #happy New Year with the hope that you will have many blessings in the year to come. #happynewyear'],\n",
              " [datetime.datetime(2022, 12, 31, 18, 27, 37, tzinfo=datetime.timezone.utc),\n",
              "  'We all make mistakes, have struggles, and even regret things in our past. But you are not your mistakes, you are not your struggles, and you are here NOW with the power to shape your day and your future.#happy new year 2023'],\n",
              " [datetime.datetime(2022, 12, 31, 18, 27, 9, tzinfo=datetime.timezone.utc),\n",
              "  'Wishing you a Happy New Year🥰🥳🪄🎇🎆🎇🧨with the hope that you will have many blessings in the year to come!\\n#HappyNewYear2023 \\n#NewYear #happy #2023NewYear #Kerala #KANNUR #hope #wishes'],\n",
              " [datetime.datetime(2022, 12, 31, 18, 27, 4, tzinfo=datetime.timezone.utc),\n",
              "  'Years go and come but your blissful bless give a us strength and create a potential to achive the goal of success. Happy New year 🙏🙏\\n@sksomya \\n@santoshbhargav2 \\n@Isakshi1610 \\n@rajesh_amh \\n@kanchansingh87 \\n#Happy new year'],\n",
              " [datetime.datetime(2022, 12, 31, 18, 20, 45, tzinfo=datetime.timezone.utc),\n",
              "  '#Happy New Year 2k23'],\n",
              " [datetime.datetime(2022, 12, 31, 18, 20, 36, tzinfo=datetime.timezone.utc),\n",
              "  '#AVANI wish you to look forward to the upcoming year with confidence and courage, giving wings to your dreams! Live your life to the fullest extent. \\n\\n#HappyNewYear!\\n\\n#happynewyear #newyearsday    #newyearseve #happy #instagram #fashion #photography #party #winter #nature #like'],\n",
              " [datetime.datetime(2022, 12, 31, 18, 20, 26, tzinfo=datetime.timezone.utc),\n",
              "  '#Happy new year2023 to all'],\n",
              " [datetime.datetime(2022, 12, 31, 18, 19, 26, tzinfo=datetime.timezone.utc),\n",
              "  'welcome to our crossover service\\n#citam Embakasi\\n#AriseandShine\\n#crossovernight \\n#happy 2023'],\n",
              " [datetime.datetime(2022, 12, 31, 18, 9, 8, tzinfo=datetime.timezone.utc),\n",
              "  '*It’s a happy hour but the enemy is still at work.*\\n\\nGod bless you and we continue to have good relations and exchanges in the new year.\\n\\n#HAPPY NEW YEAR IN ADVANCE\\n#SecurityTips \\nCC: @Jerryebune'],\n",
              " [datetime.datetime(2022, 12, 31, 18, 8, 15, tzinfo=datetime.timezone.utc),\n",
              "  'You want your kids #happy and #healthy'],\n",
              " [datetime.datetime(2022, 12, 31, 18, 6, 51, tzinfo=datetime.timezone.utc),\n",
              "  '# WelCome 2 0 2 3 \\n #Happy New Year'],\n",
              " [datetime.datetime(2022, 12, 31, 18, 4, 15, tzinfo=datetime.timezone.utc),\n",
              "  'Today before we have the last sleep in 2022 to get up in 2023, let us review wat all we did that made us feel low later on. Time just to see inward and decide to be better human beings in 2023. #Happy New Year 2023.'],\n",
              " [datetime.datetime(2022, 12, 31, 18, 2, 42, tzinfo=datetime.timezone.utc),\n",
              "  'How can we love something that we harm or how can we harm something that we love? 😬 #Respect #Peace #Love #Happy'],\n",
              " [datetime.datetime(2022, 12, 31, 18, 2, 9, tzinfo=datetime.timezone.utc),\n",
              "  \"Take Action. That's it. \\n\\n#happy 2023\"],\n",
              " [datetime.datetime(2022, 12, 31, 17, 59, 10, tzinfo=datetime.timezone.utc),\n",
              "  'How we feeling this afternoon? Comment with your hashtag. Are you #hungry, #tired, #happy, #blessed? Let me know! #simplyfenese'],\n",
              " [datetime.datetime(2022, 12, 31, 17, 58, 20, tzinfo=datetime.timezone.utc),\n",
              "  '#HappyNewYear2023 #HappyBirthdaySalmanKhan #happy new year'],\n",
              " [datetime.datetime(2022, 12, 31, 17, 51, 49, tzinfo=datetime.timezone.utc),\n",
              "  '@geravoin *L.O.L!!!* HOW OLD RU...???#HAPPY NEWYEAR 2023!!!!!!'],\n",
              " [datetime.datetime(2022, 12, 31, 17, 51, 29, tzinfo=datetime.timezone.utc),\n",
              "  'Today before we have the last sleep in 2022 to get up in 2023, let us review wat all we did that made us feel low later on. Time just to see inward and decide to be better human beings in 2023. #Happy New Year 2023.'],\n",
              " [datetime.datetime(2022, 12, 31, 17, 43, 48, tzinfo=datetime.timezone.utc),\n",
              "  \"Last of 2022 #Wordle560 hope yr streak's intact #dailywordleclub #NewYearsEve 🥂🎉🥳 #Happy #Healthy #Safe #SaturdayVibes \\n\\nWordle 560 5/6\\n\\n⬜🟩⬜⬜⬜\\n⬜🟩🟨⬜🟨\\n🟨🟩⬜⬜🟨\\n🟨🟩🟩⬜🟩\\n🟩🟩🟩🟩🟩\"],\n",
              " [datetime.datetime(2022, 12, 31, 17, 41, 50, tzinfo=datetime.timezone.utc),\n",
              "  '#HAPPY NEW YEAR….🦋\\n \\n#FREiNDzzzzzz….💯🤍'],\n",
              " [datetime.datetime(2022, 12, 31, 17, 34, 40, tzinfo=datetime.timezone.utc),\n",
              "  '#happy new year all Friends\\n#2023\\nWith\\n#Relaxing God'],\n",
              " [datetime.datetime(2022, 12, 31, 17, 30, 24, tzinfo=datetime.timezone.utc),\n",
              "  'Happy New Year all welcome 2023 🎉🥳\\n\\n#NewYear #HappyNewYear #2023NewYear #Filroll #entertainment #welcome2023 #happy'],\n",
              " [datetime.datetime(2022, 12, 31, 17, 28, 43, tzinfo=datetime.timezone.utc),\n",
              "  'Just few more hours for the best last day of 2022 and first day of 2023.🤗🥳🤫🎉 #happy #surprise #newyear2023 #newyearcelebrations #newyearnight #lastnightof2022 #tweet #tweeter #tweetfleet #TweetOfTheDay #tweetoftheyear #tweetlike'],\n",
              " [datetime.datetime(2022, 12, 31, 17, 28, 15, tzinfo=datetime.timezone.utc),\n",
              "  'From Skyline home to your home, here’s wishing a very happy 2023. \\n\\n#HappyNewYear #newyear2023 #newyear #happy #new #year #newyeareve #Skyline'],\n",
              " [datetime.datetime(2022, 12, 31, 17, 26, 54, tzinfo=datetime.timezone.utc),\n",
              "  '#new! #happy! #year! when it turns up. may at least one of your dreams come true. unless you are a tory political - then all your nightmares visit you at the same time...'],\n",
              " [datetime.datetime(2022, 12, 31, 17, 16, 43, tzinfo=datetime.timezone.utc),\n",
              "  'Lenas here #happy new year guys'],\n",
              " [datetime.datetime(2022, 12, 31, 17, 9, 47, tzinfo=datetime.timezone.utc),\n",
              "  \"#Happy New Year ! To #celebrate, I just bought an #NFT of a #bottle of champagne popping. It's the most #expensive #virtual #toast I've ever had, but at least I know it will never go flat!\\n@stoemanangels\\n@MetaLadies_ \\n@barkmeta \\n@ApesHapi\\n#NFTCommunity \\n#NFTGiveaways\"],\n",
              " [datetime.datetime(2022, 12, 31, 17, 5, 4, tzinfo=datetime.timezone.utc),\n",
              "  'It a moment saintly birth for the late #PopeBenedictXVI and a moment of #condolences and #happy new year for the rest of us. @Pontifex @HolySeePress @POTUS'],\n",
              " [datetime.datetime(2022, 12, 31, 17, 0, 30, tzinfo=datetime.timezone.utc),\n",
              "  'welcome 2023!! \\nhappy new year ✨ selamat tahun baru ✨🥰👏🥳\\n#tahunbaru #anjay #betteryear #happy #smile #stressfree #aamiin'],\n",
              " [datetime.datetime(2022, 12, 31, 16, 55, 44, tzinfo=datetime.timezone.utc),\n",
              "  'Not worried about the year, just focused on the days. #happy'],\n",
              " [datetime.datetime(2022, 12, 31, 16, 50, 7, tzinfo=datetime.timezone.utc),\n",
              "  'happy new year my friends☃️\\n\\n#HappyNewYear2023 #HappyNewYear #NewYear #Happy #Holiday #Friend'],\n",
              " [datetime.datetime(2022, 12, 31, 16, 38, 12, tzinfo=datetime.timezone.utc),\n",
              "  '@imVkohli Wishing you a Fabulous 2023 with full of great achievement and experiences A meaningful chapter waiting to be Written #HAPPY NEW YEAR 🤗❤️'],\n",
              " [datetime.datetime(2022, 12, 31, 16, 35, tzinfo=datetime.timezone.utc),\n",
              "  'Wishing one and all a fun night tonight and a happy and healthy 2023! #HappyNew Year #HappyNewYear2023 #NewYearsEve #NewYearsResolutions #healthy #happy #party'],\n",
              " [datetime.datetime(2022, 12, 31, 16, 30, 5, tzinfo=datetime.timezone.utc),\n",
              "  'Thanks for following me on Twitter. What would you like to see? #funny #happy @thefactably'],\n",
              " [datetime.datetime(2022, 12, 31, 16, 25, 5, tzinfo=datetime.timezone.utc),\n",
              "  '#Happy and blessed New year to everyone. 🎉🎈💙💙💙'],\n",
              " [datetime.datetime(2022, 12, 31, 16, 23, 43, tzinfo=datetime.timezone.utc),\n",
              "  '#Happy Incanation Month 2Hrs to Go'],\n",
              " [datetime.datetime(2022, 12, 31, 16, 20, 33, tzinfo=datetime.timezone.utc),\n",
              "  'Welps, this will be my last post for a while. Goin ghost ✌🏼 #happy new years'],\n",
              " [datetime.datetime(2022, 12, 31, 16, 20, 12, tzinfo=datetime.timezone.utc),\n",
              "  '#Happy New Year 2023.🙏🙏🙏'],\n",
              " [datetime.datetime(2022, 12, 31, 16, 12, 26, tzinfo=datetime.timezone.utc),\n",
              "  \"I FOUND THE DEAD MOUSE!!! For two days my house has been stinking death. I knew it was a mouse somewhere but couldn't find it. It was under the pillow in the couch, the dogs had smashed it when laying there! #doglife #ifoundit #happy\"],\n",
              " [datetime.datetime(2022, 12, 31, 16, 8, 47, tzinfo=datetime.timezone.utc),\n",
              "  \"3/3\\nLet's Begin A fresh and new Journey\\nA Very Nice &amp; Beautiful &amp; Fruit full &amp; #Happy NEW YEAR to All my Relatives &amp; Friends And mankind\\nHappy New year\\n#HappyNewYear\"],\n",
              " [datetime.datetime(2022, 12, 31, 16, 8, 3, tzinfo=datetime.timezone.utc),\n",
              "  '#Grateful for all the seasons🙏\\n#happy new year guys😊'],\n",
              " [datetime.datetime(2022, 12, 31, 15, 56, 58, tzinfo=datetime.timezone.utc),\n",
              "  '#Happy New #Years to the #family and #Friends!! I wish all a Great year full of #blessings &amp; Love.'],\n",
              " [datetime.datetime(2022, 12, 31, 15, 56, 32, tzinfo=datetime.timezone.utc),\n",
              "  '@Tomohisanine #Happy new year I love you'],\n",
              " [datetime.datetime(2022, 12, 31, 15, 54, 47, tzinfo=datetime.timezone.utc),\n",
              "  '###HAPPY NEW YEAR!  To: FLIP N WHIP N ALL'],\n",
              " [datetime.datetime(2022, 12, 31, 15, 41, 9, tzinfo=datetime.timezone.utc),\n",
              "  '@WriterHannahBT @rwritextinction @Natures_Voice #Happy New year 2023'],\n",
              " [datetime.datetime(2022, 12, 31, 15, 39, 49, tzinfo=datetime.timezone.utc),\n",
              "  '#HAPPY😁NEW✨YEAR🎍'],\n",
              " [datetime.datetime(2022, 12, 31, 15, 38, 53, tzinfo=datetime.timezone.utc),\n",
              "  '@manoxeditss Most welcome ❤️#happy new year'],\n",
              " [datetime.datetime(2022, 12, 31, 15, 35, 5, tzinfo=datetime.timezone.utc),\n",
              "  'Advance #Happy New Year 2023 dosto 🤩☺🙏'],\n",
              " [datetime.datetime(2022, 12, 31, 15, 33, 58, tzinfo=datetime.timezone.utc),\n",
              "  '@VisitBritain #HAPPY NEW YEAR 2023'],\n",
              " [datetime.datetime(2022, 12, 31, 15, 30, 42, tzinfo=datetime.timezone.utc),\n",
              "  '@WissamRHanna @LBCILebanon #Happy New Year'],\n",
              " [datetime.datetime(2022, 12, 31, 15, 18, 42, tzinfo=datetime.timezone.utc),\n",
              "  '@LBCILebanon #happy new year'],\n",
              " [datetime.datetime(2022, 12, 31, 15, 14, 16, tzinfo=datetime.timezone.utc),\n",
              "  '#Happy #Sixth #Day Of #Kwanzaa \\n#Kuumba ( #Creativity ) ❤🖤💚\\nTo do #always as #much as we #can , in the #way we can, in #order to #leave our #community #more #beautiful and #beneficial than we #inherited it #onefineauthor'],\n",
              " [datetime.datetime(2022, 12, 31, 15, 11, 25, tzinfo=datetime.timezone.utc),\n",
              "  '#happy new year 🎊🎆  i wish the next year, fcking biden is out of the office. Thanks'],\n",
              " [datetime.datetime(2022, 12, 31, 15, 7, 13, tzinfo=datetime.timezone.utc),\n",
              "  '@mayareddykp Happy New year my precious friend all happiness in your life bright light 💕#happy New year 2023'],\n",
              " [datetime.datetime(2022, 12, 31, 15, 6, 2, tzinfo=datetime.timezone.utc),\n",
              "  '#HAPPY NEW YEAR 2023\\n🌨˚˛˚˚🌨 ˚˛ 🌨 ˚ * ˚˛˚🌛 ˚˛ \\n° ˛ ° ˚* _Π_____*˚ ˛° ˛ ° ˚*\\n✩ ˚˛˚*/______/__＼。✩˚ ˚˛ \\n🌲˚˛˚ |  田田 ｜門｜ ˚ ☃️\\n´´ ̛ ̛ ´´ ´´ ´´ ̛ ̛ ´´ ´´ ´´ ̛ ̛ ´´ ´´ ´´ ̛ ̛\\nHare Krishna everyone ❤️'],\n",
              " [datetime.datetime(2022, 12, 31, 15, 4, 53, tzinfo=datetime.timezone.utc),\n",
              "  '#Happy simultaneous #birthday to all #Koreans for the last time.   🎂 😆'],\n",
              " [datetime.datetime(2022, 12, 31, 15, 0, 41, tzinfo=datetime.timezone.utc),\n",
              "  '#HAPPY😁NEW✨YEAR🎍'],\n",
              " [datetime.datetime(2022, 12, 31, 14, 59, 46, tzinfo=datetime.timezone.utc),\n",
              "  'Another Beautiful Saturday #Happy'],\n",
              " [datetime.datetime(2022, 12, 31, 14, 53, 3, tzinfo=datetime.timezone.utc),\n",
              "  '#Happy New Year'],\n",
              " [datetime.datetime(2022, 12, 31, 14, 52, 5, tzinfo=datetime.timezone.utc),\n",
              "  '@Skymazef3 @stephenkelley85 @narelleford @Susansailboat @teacherasleader @ReallyschoolK @RitaWirtz @drjessica17 @cmd8495 @Nancy_Mushinski @SWMaybelline @tracyscottkelly @santiagoAM115 @bekindtoall01 @kinderkeller4 @Serenity2326 Yes I actually was asleep instead of staying awake to welcome the new year in as I’ve done every year since a teenager. Had been out with friends so had a nice afternoon/evening  and wish you all the same #Happy New Year 2023.'],\n",
              " [datetime.datetime(2022, 12, 31, 14, 48, 40, tzinfo=datetime.timezone.utc),\n",
              "  '#Happy new year, $Happy new roadmap on January!'],\n",
              " [datetime.datetime(2022, 12, 31, 14, 41, 24, tzinfo=datetime.timezone.utc),\n",
              "  '@TheAtlasBar @ILoveMCR @MCRWhatsOn @McrPulse @_lovemanchester @mcrwire @GreatManchester @OurCastlefield @whatsonmanchstr @katiebhughes @_PickledGinger #Happy new year to all the Team and #Congratulations on #10_year_Anniversary #🎂🙏❤️🏴\\U000e0067\\U000e0062\\U000e0073\\U000e0063\\U000e0074\\U000e007f'],\n",
              " [datetime.datetime(2022, 12, 31, 14, 39, 56, tzinfo=datetime.timezone.utc),\n",
              "  '@saylor #happy new year to you too'],\n",
              " [datetime.datetime(2022, 12, 31, 14, 35, 33, tzinfo=datetime.timezone.utc),\n",
              "  '@toastpunk Wow #happy new year'],\n",
              " [datetime.datetime(2022, 12, 31, 14, 33, 51, tzinfo=datetime.timezone.utc),\n",
              "  'Happy New Year\\n#happynewyear #happy #happyholidays #newyear #2023 #logo #logodesign #logodesigner #design #creativeart #creative #animation #logoanimation #new #today #kenya #vatican #Catholic #equity'],\n",
              " [datetime.datetime(2022, 12, 31, 14, 28, 22, tzinfo=datetime.timezone.utc),\n",
              "  \"Don't waste time\\non people who\\ndon't value you.\\n- Ella Yoo 📝\\n\\n#quote #quoteoftheday #qotd\\n#life #writing #writer #words #love #happiness #gratitude #chooselove #happy #HNY2023\\n\\n(PS: I value you.💌)\"],\n",
              " [datetime.datetime(2022, 12, 31, 14, 26, 3, tzinfo=datetime.timezone.utc),\n",
              "  'This year\\'s biggest lesson - \" others word doesn\\'t hold any power unless and until you react on it \"\\n I used to hate my bday but as I learnt above ( through hardest possible way) it was my happiest bday so far 🥰\\n\\nMe enjoying with my cake recipe #happy'],\n",
              " [datetime.datetime(2022, 12, 31, 14, 23, 17, tzinfo=datetime.timezone.utc),\n",
              "  '#healthy and #healing Twenty23 for all ~ ~\\n( #happy at meal time ~)'],\n",
              " [datetime.datetime(2022, 12, 31, 14, 16, 44, tzinfo=datetime.timezone.utc),\n",
              "  'If you were #happy in a #goodmood you wouldnt be picking on me #MentalHealthAwareness'],\n",
              " [datetime.datetime(2022, 12, 31, 14, 12, 33, tzinfo=datetime.timezone.utc),\n",
              "  '@DogLovers03 @Aurellia42 #HAPPY BIRTHDAY#'],\n",
              " [datetime.datetime(2022, 12, 31, 14, 11, 36, tzinfo=datetime.timezone.utc),\n",
              "  '#Hadith \\n\\n#ProphetMuhammad ( PBUH ) said \\n\\n#Gladden ( make #happy ) #people and do not #scare them; make #things #easy and do not make them #difficult .\\n\\n ( Sunan Abu Dawud 4835 )\\n\\n#Allah\\n#Islam\\n#Muslim\\n#Muslims'],\n",
              " [datetime.datetime(2022, 12, 31, 14, 10, 1, tzinfo=datetime.timezone.utc),\n",
              "  'ಒಳ್ಳೆತನ ಗೆಲ್ಲಬೇಕು ❤️\\n\\n#RakeshAdiga ne gelbeku🏆\\n\\nMy fav ended up at top 3 #happy ❤️\\n\\nOne and Only Ott contestant I was rooting. #RakeshAdiga\\n\\n#bbk9'],\n",
              " [datetime.datetime(2022, 12, 31, 14, 7, 52, tzinfo=datetime.timezone.utc),\n",
              "  'The Next sale is magical this year ❤️ such cute bits #sale #shopping #bargin #happy'],\n",
              " [datetime.datetime(2022, 12, 31, 14, 6, 21, tzinfo=datetime.timezone.utc),\n",
              "  '@GabiGavi45 Happy New Year 2023\\nLate at night. \\nMy thought drift  to you.\\nAnd of our love,\\nThat is brand new,\\n I think  of all.\\nWe ve shared thus far.\\nEvery dream we wised.\\nUpon a star.\\nTo thank  the one.\\nFrom heaven above.\\nWho blessed us with.\\nThis wondrous love\\n#happy NewYear-2023'],\n",
              " [datetime.datetime(2022, 12, 31, 13, 55, 56, tzinfo=datetime.timezone.utc),\n",
              "  '#Happy New Year to all, may your creative endeavours be fulfilled.'],\n",
              " [datetime.datetime(2022, 12, 31, 13, 54, 28, tzinfo=datetime.timezone.utc),\n",
              "  '@iBeingAman #Happy New year#SidNaaz'],\n",
              " [datetime.datetime(2022, 12, 31, 13, 52, 25, tzinfo=datetime.timezone.utc),\n",
              "  '#Happy new year 2023'],\n",
              " [datetime.datetime(2022, 12, 31, 13, 42, 36, tzinfo=datetime.timezone.utc),\n",
              "  '@ML_Philosophy # Ethics , logic , metaphysics, epistemology, ethics and aesthetics partained by life lessons.\\n#Happy New Year 🥳🎉🎊🎈'],\n",
              " [datetime.datetime(2022, 12, 31, 13, 40, 25, tzinfo=datetime.timezone.utc),\n",
              "  'You all ma pipo am wishing you good luck for tha next year,Many trophies,Spread Love No evil.\\n\\n#Happy New Year'],\n",
              " [datetime.datetime(2022, 12, 31, 13, 39, 13, tzinfo=datetime.timezone.utc),\n",
              "  \"It's the most wonderful time of the year! Time to make all of your new year's resolutions that you know you won't keep! #Happy #New #Year\"],\n",
              " [datetime.datetime(2022, 12, 31, 13, 29, 43, tzinfo=datetime.timezone.utc),\n",
              "  'Turn Up! You can make the choice to go into 2023 Standing, Slaying, Staying focused, Representing you Can &amp; Will Deliver 💥💥 to being Immuned to people who Want Nothing but to be Messy &amp; keep MESS in their Life! @YMcTier #MTFA #FixYourLife #NewYear #Peaceful #choices #happy'],\n",
              " [datetime.datetime(2022, 12, 31, 13, 26, tzinfo=datetime.timezone.utc),\n",
              "  '@AnnaRDelorenzo ❤️ #Happy 2023 #carissima Anna❤️'],\n",
              " [datetime.datetime(2022, 12, 31, 13, 15, 9, tzinfo=datetime.timezone.utc),\n",
              "  'Happy new year may 2023 be much more successful and friendships for I and may everyone have a year of achievements and very happy #happy #2023NewYear'],\n",
              " [datetime.datetime(2022, 12, 31, 13, 1, 39, tzinfo=datetime.timezone.utc),\n",
              "  'Happy New Year! All the best! Enjoy that hangover! #happy #newyear'],\n",
              " [datetime.datetime(2022, 12, 31, 12, 59, 3, tzinfo=datetime.timezone.utc),\n",
              "  'Happy New Year! I wish you the best year of your life #happy #yolo'],\n",
              " [datetime.datetime(2022, 12, 31, 12, 52, 18, tzinfo=datetime.timezone.utc),\n",
              "  'I want to start the first moment of this year with you... &lt;3💞😍💏\\n#HAPPY New Year\\n#wifey #Jaan'],\n",
              " [datetime.datetime(2022, 12, 31, 12, 45, 8, tzinfo=datetime.timezone.utc),\n",
              "  'This post of gratitude and great love ❤️ We appreciate and love every collector, your support encourages us to develop further ❤️ ❤️ ❤️ #NFTCommunity #NFTFam #nftcollector #art #happy #love'],\n",
              " [datetime.datetime(2022, 12, 31, 12, 42, 38, tzinfo=datetime.timezone.utc),\n",
              "  'If at least you’re happy,\\nit’s a happy ending\\nI’m not being sarcastic,\\nI hope you know I mean it\\n#HAPPY'],\n",
              " [datetime.datetime(2022, 12, 31, 12, 28, 13, tzinfo=datetime.timezone.utc),\n",
              "  '@_AntReynolds_ You utter legend! That’s so cool! #happy new year mate! Let’s be even more awesome in ‘23! 💙👋🏼'],\n",
              " [datetime.datetime(2022, 12, 31, 12, 25, 5, tzinfo=datetime.timezone.utc),\n",
              "  'Tomorrow is a new leaf, a new chapter, a chance for change, a chance for endless possibilities!\\n\\n#yearending #yearend2022 #newyear #newyear2023 #happy #HappyNewYear  #health #happiness #thankful #friends #family'],\n",
              " [datetime.datetime(2022, 12, 31, 12, 12, 42, tzinfo=datetime.timezone.utc),\n",
              "  'Did you even love me at all?\\nWas it all a lie?\\nLike a fool,\\nI didn’t even notice\\n#HAPPY'],\n",
              " [datetime.datetime(2022, 12, 31, 11, 56, 50, tzinfo=datetime.timezone.utc),\n",
              "  \"@thehairycats #happy new year to you two too...I hope the fireworks don't scare you too much! 😻😻\"],\n",
              " [datetime.datetime(2022, 12, 31, 11, 52, 44, tzinfo=datetime.timezone.utc),\n",
              "  '#Business #News \\n\\nWhoever wants to have a #website #designer, I can guarantee that you will be #happy with #results from the #website you can have.\\n\\n#Phone +48 721 951 799'],\n",
              " [datetime.datetime(2022, 12, 31, 11, 50, 57, tzinfo=datetime.timezone.utc),\n",
              "  \"What has passed, let it pass. Let's move forward to the best and greatest.\\n\\nMay all the best and greatest things come to us.\\n\\nBest wishes from a happy soul,\\nTMF Astrid Amalia\\n\\n#newyear #happynewyear #happy #health #clean #body #soul #extraordinary #amazing #best #great\"],\n",
              " [datetime.datetime(2022, 12, 31, 11, 44, 47, tzinfo=datetime.timezone.utc),\n",
              "  'This is the final day of what has been one heck of a year.  Things I want to accomplish in 2023-  1) buy a house  2) be happy #happy #happynewyear'],\n",
              " [datetime.datetime(2022, 12, 31, 11, 42, 37, tzinfo=datetime.timezone.utc),\n",
              "  'If you were even a little sad\\nIf you had a little bit of feelings left\\nYou wouldn’t have been this cold\\n#HAPPY'],\n",
              " [datetime.datetime(2022, 12, 31, 11, 41, 13, tzinfo=datetime.timezone.utc),\n",
              "  'Hope all of us have a successful trading journey in 2023 👍 under @growwithsud guidance\\n #Happy new year 2023'],\n",
              " [datetime.datetime(2022, 12, 31, 11, 34, 46, tzinfo=datetime.timezone.utc),\n",
              "  'Goodbye 2022 &amp; Welcome 2023: May this English New Year be an advantageous journey for you to explore new venues and reach heights of success.\\n#Happy English New Year’s Eve.'],\n",
              " [datetime.datetime(2022, 12, 31, 11, 16, 7, tzinfo=datetime.timezone.utc),\n",
              "  'Another day! Have you guaranteed your calm today ? We recommend ✅ Breath Work ✅ Cold water immersion &amp; ✅ 30 minutes minimum workout before starting your day to maximize daily calm #calm #mellow #happy #anxietyhelp #depressionhelp #ptsd'],\n",
              " [datetime.datetime(2022, 12, 31, 11, 7, 24, tzinfo=datetime.timezone.utc),\n",
              "  '@pristinaoffl Be Good Do Good.\\nDo what makes you Happy as regrets is heavy to carry. #happy New Year.'],\n",
              " [datetime.datetime(2022, 12, 31, 11, 6, 14, tzinfo=datetime.timezone.utc),\n",
              "  '@bbcweather #Happy New Year'],\n",
              " [datetime.datetime(2022, 12, 31, 10, 56, 7, tzinfo=datetime.timezone.utc),\n",
              "  '4- Use your #imagination rather than a hammer, chainsaw or polonium 110 when necessary. And most importantly, grace your family and friends with #love. #Happy New Year!'],\n",
              " [datetime.datetime(2022, 12, 31, 10, 48, 53, tzinfo=datetime.timezone.utc),\n",
              "  'We hope to  foster the relationship next year.\\n#happy new year \\n#blissxchange'],\n",
              " [datetime.datetime(2022, 12, 31, 10, 42, 37, tzinfo=datetime.timezone.utc),\n",
              "  'I thought we had it together but well\\n#HAPPY'],\n",
              " [datetime.datetime(2022, 12, 31, 10, 40, 33, tzinfo=datetime.timezone.utc),\n",
              "  \"Here's hoping you make the most of 2023!!! A Very Happy &amp; Prosperous New Year from Management &amp; Team of Smart Homes Dholera.\\n\\n#happynewyear2023 #newyear #love #happy #newyearseve #newyears #party #celebration #happyholidays #DholeraRealEstate #DholeraSmartCity\"],\n",
              " [datetime.datetime(2022, 12, 31, 10, 39, 5, tzinfo=datetime.timezone.utc),\n",
              "  '@theJeremyVine Yes of course let’s sort out all the signs in the uk just to accommodate the one 🔔 end who rides a #penny-farthing after all we need to make sure Jeremy is #happy at all times 🤡'],\n",
              " [datetime.datetime(2022, 12, 31, 10, 33, 53, tzinfo=datetime.timezone.utc),\n",
              "  '2023 is coming in with new hopes and aspirations and will phase out to be replaced by 2024. Remember change is the only constant. Welcome each day as you would welcome the new year. Live each day. Remain #healthy and #happy.  \\n#NewYear'],\n",
              " [datetime.datetime(2022, 12, 31, 10, 30, 2, tzinfo=datetime.timezone.utc),\n",
              "  '@winsiva1994 #vikram#aram #vellum #advances #happy 🆕  year #vikram fans'],\n",
              " [datetime.datetime(2022, 12, 31, 10, 27, 20, tzinfo=datetime.timezone.utc),\n",
              "  'Last day of 22, I want to say thank you with all of my heart for \"𝘺𝘰𝘶𝘳 𝘱𝘢𝘳𝘵 𝘪𝘯 𝘮𝘺 𝘫𝘰𝘶𝘳𝘯𝘦𝘦\". \\nI appreciate all your effort no matter how small or big, I am so grateful and happy for that 💖😘\\n To a new year full of adventures 🥂.\\n#gratitude #thankful #happy'],\n",
              " [datetime.datetime(2022, 12, 31, 10, 26, 19, tzinfo=datetime.timezone.utc),\n",
              "  \"Here's hoping you make the most of 2023!!! A  Very Happy &amp; Prosperous New Year from Management &amp; Team of Smart Homes Dholera.\\n\\n#happynewyear2023 #newyear #love #happy #newyearseve  #newyears #party #celebration #happyholidays #DholeraRealEstate #DholeraSmartCity\"],\n",
              " [datetime.datetime(2022, 12, 31, 10, 12, 41, tzinfo=datetime.timezone.utc),\n",
              "  'Be happy and forget me\\nI hope you’re H A P P Y\\nBe happy and forget me\\nI wish you’re H A P P Y\\n#HAPPY'],\n",
              " [datetime.datetime(2022, 12, 31, 10, 7, 54, tzinfo=datetime.timezone.utc),\n",
              "  'So after about four hours I finally got my new pc built all the drivers installed all the cables managed. I tell ya wait may have take a few extra hours but I’m happy #content #happy #pcgamer #3070ti #build'],\n",
              " [datetime.datetime(2022, 12, 31, 10, 6, 54, tzinfo=datetime.timezone.utc),\n",
              "  'A new year is like turning a new page in your life. We wish you to embark on new journeys and write wonderful stories for yourself this year. Happy new year to you and your loved ones. 🎊\\n\\n#mutluyıllar #happy #happynewyear #newjourney #newthinking #newlife  #for #us #2023NewYear'],\n",
              " [datetime.datetime(2022, 12, 31, 9, 53, 2, tzinfo=datetime.timezone.utc),\n",
              "  'been up since 8am, had breakfast and a peppermint tea, hoovered my whole bedroom, dressed now, wearing my new trainers, on clouds.. man is picking me up in a bit, spending New Year’s Eve with him and the weekend #happy'],\n",
              " [datetime.datetime(2022, 12, 31, 9, 42, 38, tzinfo=datetime.timezone.utc),\n",
              "  'Without you, I’m not happy\\nbut I hope you’re happy\\nI’ll watch over you from far away\\nWithout you, I’m not happy\\nbut I hope you’re happy\\nI’ll push back\\nall of the memories\\n#HAPPY'],\n",
              " [datetime.datetime(2022, 12, 31, 9, 38, 48, tzinfo=datetime.timezone.utc),\n",
              "  'Wordle 560 5/6*\\n\\n🟨⬜🟨⬜⬜\\n⬜⬜🟨⬜🟨\\n🟨🟨⬜🟩🟩\\n🟩🟩⬜🟩🟩\\n🟩🟩🟩🟩🟩 #wordle #Happy #NYE 🤠'],\n",
              " [datetime.datetime(2022, 12, 31, 9, 12, 43, tzinfo=datetime.timezone.utc),\n",
              "  'For you, I’ll give\\na sad bye bye bye\\nBecause you’ll be\\nhappy if I’m gone. \\n#HAPPY'],\n",
              " [datetime.datetime(2022, 12, 31, 8, 45, 26, tzinfo=datetime.timezone.utc),\n",
              "  \"Learn to be #happy &amp; wish happiness for others. Don't be jealous when others have more than you. Be grateful &amp; #Allah will grant you more.🙏💞\"],\n",
              " [datetime.datetime(2022, 12, 31, 8, 42, 37, tzinfo=datetime.timezone.utc),\n",
              "  'Oh no I didn’t cry cry cry\\nEven if I\\nresent someone\\nNothing will change\\nbecause it’s all over\\n#HAPPY'],\n",
              " [datetime.datetime(2022, 12, 31, 8, 12, 43, tzinfo=datetime.timezone.utc),\n",
              "  'Was it hard for you\\nbecause of me?\\nWas it really comfortable?\\nLike a fool, I didn’t even notice\\n#HAPPY'],\n",
              " [datetime.datetime(2022, 12, 31, 8, 9, 46, tzinfo=datetime.timezone.utc),\n",
              "  'I wish 2023 to bring happiness, health, love, luck and peace to all friends and people of the world, and to be the year that gives the good news of peace and tranquility ..\\nHAPPY NEW YEAR ...... \\nBatuhan Akdemir\\n#HappyNewYear #HappyNewYear2023 #Christmas #Noel #Turkey #happy'],\n",
              " [datetime.datetime(2022, 12, 31, 8, 5, 16, tzinfo=datetime.timezone.utc),\n",
              "  '@JioCare Thank you @JioCare and @DOT for resolving my complaint. #Happy cutsomer.'],\n",
              " [datetime.datetime(2022, 12, 31, 8, 1, 7, tzinfo=datetime.timezone.utc),\n",
              "  '@TrollFootball Take care when boarding off a Minibus! #Happy new year in advance.'],\n",
              " [datetime.datetime(2022, 12, 31, 8, 0, 30, tzinfo=datetime.timezone.utc),\n",
              "  '#NewYear  is the perfect time to rearrange your goals in life and work towards them. BackpackGo wish yοu and your dear ones a #happy, #prosperous, #blissful a #fabulous #HappyNewYear! We wish you #Happy2023!'],\n",
              " [datetime.datetime(2022, 12, 31, 7, 42, 37, tzinfo=datetime.timezone.utc),\n",
              "  'If I was a burden to you\\nIf I was a baggage. I should’ve\\nleft you earlier, I’m sorry\\n#HAPPY'],\n",
              " [datetime.datetime(2022, 12, 31, 7, 34, 4, tzinfo=datetime.timezone.utc),\n",
              "  '@listen_camp Aren’t we awesome! 😊 #10th #happy'],\n",
              " [datetime.datetime(2022, 12, 31, 7, 12, 43, tzinfo=datetime.timezone.utc),\n",
              "  'After I let you go, every\\nsingle day. I am alone\\nObsessive and miserable\\n#HAPPY'],\n",
              " [datetime.datetime(2022, 12, 31, 7, 6, 59, tzinfo=datetime.timezone.utc),\n",
              "  '#Happy new year in advance good people.']]"
            ]
          },
          "metadata": {},
          "execution_count": 6
        }
      ]
    },
    {
      "cell_type": "code",
      "source": [
        "df = pd.DataFrame(tweets, columns=['Date', 'Tweet'])"
      ],
      "metadata": {
        "id": "MVOZCMNw_5zs"
      },
      "execution_count": 7,
      "outputs": []
    },
    {
      "cell_type": "code",
      "source": [
        "df.head()"
      ],
      "metadata": {
        "colab": {
          "base_uri": "https://localhost:8080/",
          "height": 206
        },
        "id": "yA9ppRxIALoh",
        "outputId": "de4bf20d-2744-4cca-8a75-3d9672dfcbb6"
      },
      "execution_count": 8,
      "outputs": [
        {
          "output_type": "execute_result",
          "data": {
            "text/plain": [
              "                       Date                                              Tweet\n",
              "0 2022-12-31 23:59:11+00:00  #Happy #New #Year!!! Hope you all are having a...\n",
              "1 2022-12-31 23:53:18+00:00              @TeamSMATh #happy new year 2023 SMATH\n",
              "2 2022-12-31 23:52:30+00:00  A fresh start this new year will bring.\\nAn op...\n",
              "3 2022-12-31 23:45:50+00:00  Sometimes it feels life is unfair, sometimes i...\n",
              "4 2022-12-31 23:43:52+00:00  #happy  New Year! The start of a new year is o..."
            ],
            "text/html": [
              "\n",
              "  <div id=\"df-cfe770e6-a616-42de-963f-0fb6d912c596\">\n",
              "    <div class=\"colab-df-container\">\n",
              "      <div>\n",
              "<style scoped>\n",
              "    .dataframe tbody tr th:only-of-type {\n",
              "        vertical-align: middle;\n",
              "    }\n",
              "\n",
              "    .dataframe tbody tr th {\n",
              "        vertical-align: top;\n",
              "    }\n",
              "\n",
              "    .dataframe thead th {\n",
              "        text-align: right;\n",
              "    }\n",
              "</style>\n",
              "<table border=\"1\" class=\"dataframe\">\n",
              "  <thead>\n",
              "    <tr style=\"text-align: right;\">\n",
              "      <th></th>\n",
              "      <th>Date</th>\n",
              "      <th>Tweet</th>\n",
              "    </tr>\n",
              "  </thead>\n",
              "  <tbody>\n",
              "    <tr>\n",
              "      <th>0</th>\n",
              "      <td>2022-12-31 23:59:11+00:00</td>\n",
              "      <td>#Happy #New #Year!!! Hope you all are having a...</td>\n",
              "    </tr>\n",
              "    <tr>\n",
              "      <th>1</th>\n",
              "      <td>2022-12-31 23:53:18+00:00</td>\n",
              "      <td>@TeamSMATh #happy new year 2023 SMATH</td>\n",
              "    </tr>\n",
              "    <tr>\n",
              "      <th>2</th>\n",
              "      <td>2022-12-31 23:52:30+00:00</td>\n",
              "      <td>A fresh start this new year will bring.\\nAn op...</td>\n",
              "    </tr>\n",
              "    <tr>\n",
              "      <th>3</th>\n",
              "      <td>2022-12-31 23:45:50+00:00</td>\n",
              "      <td>Sometimes it feels life is unfair, sometimes i...</td>\n",
              "    </tr>\n",
              "    <tr>\n",
              "      <th>4</th>\n",
              "      <td>2022-12-31 23:43:52+00:00</td>\n",
              "      <td>#happy  New Year! The start of a new year is o...</td>\n",
              "    </tr>\n",
              "  </tbody>\n",
              "</table>\n",
              "</div>\n",
              "      <button class=\"colab-df-convert\" onclick=\"convertToInteractive('df-cfe770e6-a616-42de-963f-0fb6d912c596')\"\n",
              "              title=\"Convert this dataframe to an interactive table.\"\n",
              "              style=\"display:none;\">\n",
              "        \n",
              "  <svg xmlns=\"http://www.w3.org/2000/svg\" height=\"24px\"viewBox=\"0 0 24 24\"\n",
              "       width=\"24px\">\n",
              "    <path d=\"M0 0h24v24H0V0z\" fill=\"none\"/>\n",
              "    <path d=\"M18.56 5.44l.94 2.06.94-2.06 2.06-.94-2.06-.94-.94-2.06-.94 2.06-2.06.94zm-11 1L8.5 8.5l.94-2.06 2.06-.94-2.06-.94L8.5 2.5l-.94 2.06-2.06.94zm10 10l.94 2.06.94-2.06 2.06-.94-2.06-.94-.94-2.06-.94 2.06-2.06.94z\"/><path d=\"M17.41 7.96l-1.37-1.37c-.4-.4-.92-.59-1.43-.59-.52 0-1.04.2-1.43.59L10.3 9.45l-7.72 7.72c-.78.78-.78 2.05 0 2.83L4 21.41c.39.39.9.59 1.41.59.51 0 1.02-.2 1.41-.59l7.78-7.78 2.81-2.81c.8-.78.8-2.07 0-2.86zM5.41 20L4 18.59l7.72-7.72 1.47 1.35L5.41 20z\"/>\n",
              "  </svg>\n",
              "      </button>\n",
              "      \n",
              "  <style>\n",
              "    .colab-df-container {\n",
              "      display:flex;\n",
              "      flex-wrap:wrap;\n",
              "      gap: 12px;\n",
              "    }\n",
              "\n",
              "    .colab-df-convert {\n",
              "      background-color: #E8F0FE;\n",
              "      border: none;\n",
              "      border-radius: 50%;\n",
              "      cursor: pointer;\n",
              "      display: none;\n",
              "      fill: #1967D2;\n",
              "      height: 32px;\n",
              "      padding: 0 0 0 0;\n",
              "      width: 32px;\n",
              "    }\n",
              "\n",
              "    .colab-df-convert:hover {\n",
              "      background-color: #E2EBFA;\n",
              "      box-shadow: 0px 1px 2px rgba(60, 64, 67, 0.3), 0px 1px 3px 1px rgba(60, 64, 67, 0.15);\n",
              "      fill: #174EA6;\n",
              "    }\n",
              "\n",
              "    [theme=dark] .colab-df-convert {\n",
              "      background-color: #3B4455;\n",
              "      fill: #D2E3FC;\n",
              "    }\n",
              "\n",
              "    [theme=dark] .colab-df-convert:hover {\n",
              "      background-color: #434B5C;\n",
              "      box-shadow: 0px 1px 3px 1px rgba(0, 0, 0, 0.15);\n",
              "      filter: drop-shadow(0px 1px 2px rgba(0, 0, 0, 0.3));\n",
              "      fill: #FFFFFF;\n",
              "    }\n",
              "  </style>\n",
              "\n",
              "      <script>\n",
              "        const buttonEl =\n",
              "          document.querySelector('#df-cfe770e6-a616-42de-963f-0fb6d912c596 button.colab-df-convert');\n",
              "        buttonEl.style.display =\n",
              "          google.colab.kernel.accessAllowed ? 'block' : 'none';\n",
              "\n",
              "        async function convertToInteractive(key) {\n",
              "          const element = document.querySelector('#df-cfe770e6-a616-42de-963f-0fb6d912c596');\n",
              "          const dataTable =\n",
              "            await google.colab.kernel.invokeFunction('convertToInteractive',\n",
              "                                                     [key], {});\n",
              "          if (!dataTable) return;\n",
              "\n",
              "          const docLinkHtml = 'Like what you see? Visit the ' +\n",
              "            '<a target=\"_blank\" href=https://colab.research.google.com/notebooks/data_table.ipynb>data table notebook</a>'\n",
              "            + ' to learn more about interactive tables.';\n",
              "          element.innerHTML = '';\n",
              "          dataTable['output_type'] = 'display_data';\n",
              "          await google.colab.output.renderOutput(dataTable, element);\n",
              "          const docLink = document.createElement('div');\n",
              "          docLink.innerHTML = docLinkHtml;\n",
              "          element.appendChild(docLink);\n",
              "        }\n",
              "      </script>\n",
              "    </div>\n",
              "  </div>\n",
              "  "
            ]
          },
          "metadata": {},
          "execution_count": 8
        }
      ]
    },
    {
      "cell_type": "code",
      "source": [
        "df['Tweet'][0]"
      ],
      "metadata": {
        "colab": {
          "base_uri": "https://localhost:8080/",
          "height": 53
        },
        "id": "zzRlv6gFhgom",
        "outputId": "2555bf76-c023-44da-f7e7-6dacbf08263b"
      },
      "execution_count": null,
      "outputs": [
        {
          "output_type": "execute_result",
          "data": {
            "text/plain": [
              "'So reuniting with an Ex was special and Im sure he deserves happiness and positive conversation and I’m sad I wasn’t confident and sad that I get punished and different now which I wish wasn’t a condition to explain sometimes life’s to hard to have a life so I accept that #happy'"
            ],
            "application/vnd.google.colaboratory.intrinsic+json": {
              "type": "string"
            }
          },
          "metadata": {},
          "execution_count": 48
        }
      ]
    },
    {
      "cell_type": "code",
      "source": [
        "df[\"class\"] = np.nan"
      ],
      "metadata": {
        "id": "llTnrauVhp7M"
      },
      "execution_count": null,
      "outputs": []
    },
    {
      "cell_type": "code",
      "source": [
        "query = []\n",
        "query.append(\"(#fail) lang:en until:2023-01-01 since:2020-01-01 -filter:links\")\n",
        "query.append(\"(#disappointed) lang:en until:2023-01-01 since:2020-01-01 -filter:links\")\n",
        "query.append(\"(#frustrated) lang:en until:2023-01-01 since:2020-01-01 -filter:links\")\n",
        "query.append(\"(#unhappy) lang:en until:2023-01-01 since:2020-01-01 -filter:links\")\n",
        "query.append(\"(#hate) lang:en until:2023-01-01 since:2020-01-01 -filter:links\")\n",
        "query.append(\"(#annoyed) lang:en until:2023-01-01 since:2020-01-01 -filter:links\")\n",
        "query.append(\"(#disgusted) lang:en until:2023-01-01 since:2020-01-01 -filter:links\")"
      ],
      "metadata": {
        "id": "XQ36WxIxxyuP"
      },
      "execution_count": null,
      "outputs": []
    },
    {
      "cell_type": "code",
      "source": [
        "tweets = []\n",
        "limit = 25\n",
        "i = 0\n",
        "for tweet in sntwitter.TwitterSearchScraper(query[i]).get_items():\n",
        "  if len(tweets) == limit:\n",
        "    i += 1\n",
        "    limit += 25\n",
        "    if i == len(query):\n",
        "      break\n",
        "  else:\n",
        "    tweets.append([tweet.date, tweet.rawContent])"
      ],
      "metadata": {
        "id": "da868SLA4B8i"
      },
      "execution_count": null,
      "outputs": []
    },
    {
      "cell_type": "code",
      "source": [
        "df1 = pd.DataFrame(tweets, columns=['Date', 'Tweet'])"
      ],
      "metadata": {
        "id": "q5JB23oT4MGy"
      },
      "execution_count": null,
      "outputs": []
    },
    {
      "cell_type": "code",
      "source": [
        "df1[\"class\"] = np.nan"
      ],
      "metadata": {
        "id": "ZhvCtHZY4R9z"
      },
      "execution_count": null,
      "outputs": []
    },
    {
      "cell_type": "code",
      "source": [
        "df1.shape"
      ],
      "metadata": {
        "colab": {
          "base_uri": "https://localhost:8080/"
        },
        "id": "Ehq-5Hfh4UgW",
        "outputId": "57564830-1aa5-4a88-9a30-8009af383487"
      },
      "execution_count": null,
      "outputs": [
        {
          "output_type": "execute_result",
          "data": {
            "text/plain": [
              "(175, 3)"
            ]
          },
          "metadata": {},
          "execution_count": 135
        }
      ]
    },
    {
      "cell_type": "code",
      "source": [
        "query = []\n",
        "query.append(\"(#goodday) lang:en until:2023-01-01 since:2020-01-01 -filter:links\")\n",
        "query.append(\"(#thankful) lang:en until:2023-01-01 since:2020-01-01 -filter:links\")\n",
        "query.append(\"(#memories) lang:en until:2023-01-01 since:2020-01-01 -filter:links\")\n",
        "query.append(\"(#hilarious) lang:en until:2023-01-01 since:2020-01-01 -filter:links\")\n",
        "query.append(\"(#lol) lang:en until:2023-01-01 since:2020-01-01 -filter:links\")\n",
        "query.append(\"(#joy) lang:en until:2023-01-01 since:2020-01-01 -filter:links\")\n",
        "\n",
        "query.append(\"(#offended) lang:en until:2023-01-01 since:2020-01-01 -filter:links\")\n",
        "query.append(\"(#fuming) lang:en until:2023-01-01 since:2020-01-01 -filter:links\")\n",
        "query.append(\"(#rage) lang:en until:2023-01-01 since:2020-01-01 -filter:links\")\n",
        "query.append(\"(#trigger) lang:en until:2023-01-01 since:2020-01-01 -filter:links\")\n",
        "query.append(\"(#revenge) lang:en until:2023-01-01 since:2020-01-01 -filter:links\")\n",
        "query.append(\"(#neutral) lang:en until:2023-01-01 since:2020-01-01 -filter:links\")"
      ],
      "metadata": {
        "id": "-j0APECM5SLj"
      },
      "execution_count": null,
      "outputs": []
    },
    {
      "cell_type": "code",
      "source": [
        "tweets = []\n",
        "limit = 35\n",
        "i = 0\n",
        "for tweet in sntwitter.TwitterSearchScraper(query[i]).get_items():\n",
        "  if len(tweets) == limit:\n",
        "    i += 1\n",
        "    limit += 35\n",
        "    if i == len(query):\n",
        "      break\n",
        "  else:\n",
        "    tweets.append([tweet.date, tweet.rawContent])"
      ],
      "metadata": {
        "id": "QojpNfCf5XGz"
      },
      "execution_count": null,
      "outputs": []
    },
    {
      "cell_type": "code",
      "source": [
        "df2 = pd.DataFrame(tweets, columns=['Date', 'Tweet'])"
      ],
      "metadata": {
        "id": "irevMwLY5XDY"
      },
      "execution_count": null,
      "outputs": []
    },
    {
      "cell_type": "code",
      "source": [
        "df2[\"class\"] = np.nan"
      ],
      "metadata": {
        "id": "8i__osLQ5XAp"
      },
      "execution_count": null,
      "outputs": []
    },
    {
      "cell_type": "code",
      "source": [
        "df2.shape"
      ],
      "metadata": {
        "colab": {
          "base_uri": "https://localhost:8080/"
        },
        "id": "3cH4ZoPD5c7x",
        "outputId": "ad4703cd-a340-4534-b8b1-c8e5856c3bd3"
      },
      "execution_count": null,
      "outputs": [
        {
          "output_type": "execute_result",
          "data": {
            "text/plain": [
              "(420, 3)"
            ]
          },
          "metadata": {},
          "execution_count": 12
        }
      ]
    },
    {
      "cell_type": "markdown",
      "source": [
        "Saving the data in csv file"
      ],
      "metadata": {
        "id": "E9xNvga3hbV1"
      }
    },
    {
      "cell_type": "code",
      "source": [
        "df.to_csv(\"sentiment_data.csv\")"
      ],
      "metadata": {
        "id": "2gsMYoA6hfFv"
      },
      "execution_count": null,
      "outputs": []
    },
    {
      "cell_type": "code",
      "source": [
        "df1.to_csv('sentiment_data_2.csv')"
      ],
      "metadata": {
        "id": "kLxWJA_c4e8s"
      },
      "execution_count": null,
      "outputs": []
    },
    {
      "cell_type": "code",
      "source": [
        "df2.to_csv('sentiment_data_3csv.csv')"
      ],
      "metadata": {
        "id": "UXiNdNVw7HE8"
      },
      "execution_count": null,
      "outputs": []
    },
    {
      "cell_type": "markdown",
      "source": [
        "# **Reading Data**"
      ],
      "metadata": {
        "id": "c9ah1FhW1DWA"
      }
    },
    {
      "cell_type": "code",
      "source": [
        "data = pd.read_csv('/content/sentiment_data.csv')\n",
        "data1 = pd.read_csv('/content/sentiment_data_2.csv')\n",
        "data2 = pd.read_csv('/content/sentiment_data_3csv.csv')"
      ],
      "metadata": {
        "id": "oNGPOjmu1Bmk"
      },
      "execution_count": null,
      "outputs": []
    },
    {
      "cell_type": "code",
      "source": [
        "data.shape"
      ],
      "metadata": {
        "colab": {
          "base_uri": "https://localhost:8080/"
        },
        "id": "yFGKYaf5h8KY",
        "outputId": "e84a506c-0f11-4849-9182-3c96bb694223"
      },
      "execution_count": null,
      "outputs": [
        {
          "output_type": "execute_result",
          "data": {
            "text/plain": [
              "(291, 4)"
            ]
          },
          "metadata": {},
          "execution_count": 5
        }
      ]
    },
    {
      "cell_type": "code",
      "source": [
        "data.columns"
      ],
      "metadata": {
        "colab": {
          "base_uri": "https://localhost:8080/"
        },
        "id": "i6xEKRjRh-I6",
        "outputId": "bd0befe8-a6fd-47cd-b529-fb686c8ca000"
      },
      "execution_count": null,
      "outputs": [
        {
          "output_type": "execute_result",
          "data": {
            "text/plain": [
              "Index(['Unnamed: 0', 'Date', 'Tweet', 'class'], dtype='object')"
            ]
          },
          "metadata": {},
          "execution_count": 6
        }
      ]
    },
    {
      "cell_type": "code",
      "source": [
        "data1.shape"
      ],
      "metadata": {
        "colab": {
          "base_uri": "https://localhost:8080/"
        },
        "id": "F9u38RFrVXuP",
        "outputId": "f066a788-f96f-49ce-b6e8-49631403f21f"
      },
      "execution_count": null,
      "outputs": [
        {
          "output_type": "execute_result",
          "data": {
            "text/plain": [
              "(172, 4)"
            ]
          },
          "metadata": {},
          "execution_count": 7
        }
      ]
    },
    {
      "cell_type": "code",
      "source": [
        "data1.columns"
      ],
      "metadata": {
        "colab": {
          "base_uri": "https://localhost:8080/"
        },
        "id": "oG9yqhcjVYs1",
        "outputId": "86f4d192-0185-4b16-9e30-61e984732da1"
      },
      "execution_count": null,
      "outputs": [
        {
          "output_type": "execute_result",
          "data": {
            "text/plain": [
              "Index(['Unnamed: 0', 'Date', 'Tweet', 'class'], dtype='object')"
            ]
          },
          "metadata": {},
          "execution_count": 8
        }
      ]
    },
    {
      "cell_type": "code",
      "source": [
        "data2.shape"
      ],
      "metadata": {
        "colab": {
          "base_uri": "https://localhost:8080/"
        },
        "id": "4Fd09nkW7Qv1",
        "outputId": "7c638828-34fe-4753-cd8a-598a4153108c"
      },
      "execution_count": null,
      "outputs": [
        {
          "output_type": "execute_result",
          "data": {
            "text/plain": [
              "(399, 4)"
            ]
          },
          "metadata": {},
          "execution_count": 9
        }
      ]
    },
    {
      "cell_type": "code",
      "source": [
        "data2.columns"
      ],
      "metadata": {
        "colab": {
          "base_uri": "https://localhost:8080/"
        },
        "id": "SG_nAs9J7ShM",
        "outputId": "d8c0392e-cdbd-42e8-b70d-4ba3a448695b"
      },
      "execution_count": null,
      "outputs": [
        {
          "output_type": "execute_result",
          "data": {
            "text/plain": [
              "Index(['Unnamed: 0', 'Date', 'Tweet', 'class'], dtype='object')"
            ]
          },
          "metadata": {},
          "execution_count": 10
        }
      ]
    },
    {
      "cell_type": "code",
      "source": [
        "data.head()"
      ],
      "metadata": {
        "colab": {
          "base_uri": "https://localhost:8080/",
          "height": 206
        },
        "id": "AA9cptOokKp8",
        "outputId": "8122364e-1341-4a82-bfe7-c1ba2ca4948b"
      },
      "execution_count": null,
      "outputs": [
        {
          "output_type": "execute_result",
          "data": {
            "text/plain": [
              "   Unnamed: 0                       Date  \\\n",
              "0           0  2022-12-31 23:59:51+00:00   \n",
              "1           1  2022-12-31 23:59:11+00:00   \n",
              "2           2  2022-12-31 23:53:18+00:00   \n",
              "3           3  2022-12-31 23:52:30+00:00   \n",
              "4           4  2022-12-31 23:45:50+00:00   \n",
              "\n",
              "                                               Tweet  class  \n",
              "0  So reuniting with an Ex was special and Im sur...      0  \n",
              "1  #Happy #New #Year!!! Hope you all are having a...      1  \n",
              "2              @TeamSMATh #happy new year 2023 SMATH      1  \n",
              "3  A fresh start this new year will bring.\\nAn op...      1  \n",
              "4  Sometimes it feels life is unfair, sometimes i...      1  "
            ],
            "text/html": [
              "\n",
              "  <div id=\"df-3d423a93-337b-40cd-8db3-2e0848ebf964\">\n",
              "    <div class=\"colab-df-container\">\n",
              "      <div>\n",
              "<style scoped>\n",
              "    .dataframe tbody tr th:only-of-type {\n",
              "        vertical-align: middle;\n",
              "    }\n",
              "\n",
              "    .dataframe tbody tr th {\n",
              "        vertical-align: top;\n",
              "    }\n",
              "\n",
              "    .dataframe thead th {\n",
              "        text-align: right;\n",
              "    }\n",
              "</style>\n",
              "<table border=\"1\" class=\"dataframe\">\n",
              "  <thead>\n",
              "    <tr style=\"text-align: right;\">\n",
              "      <th></th>\n",
              "      <th>Unnamed: 0</th>\n",
              "      <th>Date</th>\n",
              "      <th>Tweet</th>\n",
              "      <th>class</th>\n",
              "    </tr>\n",
              "  </thead>\n",
              "  <tbody>\n",
              "    <tr>\n",
              "      <th>0</th>\n",
              "      <td>0</td>\n",
              "      <td>2022-12-31 23:59:51+00:00</td>\n",
              "      <td>So reuniting with an Ex was special and Im sur...</td>\n",
              "      <td>0</td>\n",
              "    </tr>\n",
              "    <tr>\n",
              "      <th>1</th>\n",
              "      <td>1</td>\n",
              "      <td>2022-12-31 23:59:11+00:00</td>\n",
              "      <td>#Happy #New #Year!!! Hope you all are having a...</td>\n",
              "      <td>1</td>\n",
              "    </tr>\n",
              "    <tr>\n",
              "      <th>2</th>\n",
              "      <td>2</td>\n",
              "      <td>2022-12-31 23:53:18+00:00</td>\n",
              "      <td>@TeamSMATh #happy new year 2023 SMATH</td>\n",
              "      <td>1</td>\n",
              "    </tr>\n",
              "    <tr>\n",
              "      <th>3</th>\n",
              "      <td>3</td>\n",
              "      <td>2022-12-31 23:52:30+00:00</td>\n",
              "      <td>A fresh start this new year will bring.\\nAn op...</td>\n",
              "      <td>1</td>\n",
              "    </tr>\n",
              "    <tr>\n",
              "      <th>4</th>\n",
              "      <td>4</td>\n",
              "      <td>2022-12-31 23:45:50+00:00</td>\n",
              "      <td>Sometimes it feels life is unfair, sometimes i...</td>\n",
              "      <td>1</td>\n",
              "    </tr>\n",
              "  </tbody>\n",
              "</table>\n",
              "</div>\n",
              "      <button class=\"colab-df-convert\" onclick=\"convertToInteractive('df-3d423a93-337b-40cd-8db3-2e0848ebf964')\"\n",
              "              title=\"Convert this dataframe to an interactive table.\"\n",
              "              style=\"display:none;\">\n",
              "        \n",
              "  <svg xmlns=\"http://www.w3.org/2000/svg\" height=\"24px\"viewBox=\"0 0 24 24\"\n",
              "       width=\"24px\">\n",
              "    <path d=\"M0 0h24v24H0V0z\" fill=\"none\"/>\n",
              "    <path d=\"M18.56 5.44l.94 2.06.94-2.06 2.06-.94-2.06-.94-.94-2.06-.94 2.06-2.06.94zm-11 1L8.5 8.5l.94-2.06 2.06-.94-2.06-.94L8.5 2.5l-.94 2.06-2.06.94zm10 10l.94 2.06.94-2.06 2.06-.94-2.06-.94-.94-2.06-.94 2.06-2.06.94z\"/><path d=\"M17.41 7.96l-1.37-1.37c-.4-.4-.92-.59-1.43-.59-.52 0-1.04.2-1.43.59L10.3 9.45l-7.72 7.72c-.78.78-.78 2.05 0 2.83L4 21.41c.39.39.9.59 1.41.59.51 0 1.02-.2 1.41-.59l7.78-7.78 2.81-2.81c.8-.78.8-2.07 0-2.86zM5.41 20L4 18.59l7.72-7.72 1.47 1.35L5.41 20z\"/>\n",
              "  </svg>\n",
              "      </button>\n",
              "      \n",
              "  <style>\n",
              "    .colab-df-container {\n",
              "      display:flex;\n",
              "      flex-wrap:wrap;\n",
              "      gap: 12px;\n",
              "    }\n",
              "\n",
              "    .colab-df-convert {\n",
              "      background-color: #E8F0FE;\n",
              "      border: none;\n",
              "      border-radius: 50%;\n",
              "      cursor: pointer;\n",
              "      display: none;\n",
              "      fill: #1967D2;\n",
              "      height: 32px;\n",
              "      padding: 0 0 0 0;\n",
              "      width: 32px;\n",
              "    }\n",
              "\n",
              "    .colab-df-convert:hover {\n",
              "      background-color: #E2EBFA;\n",
              "      box-shadow: 0px 1px 2px rgba(60, 64, 67, 0.3), 0px 1px 3px 1px rgba(60, 64, 67, 0.15);\n",
              "      fill: #174EA6;\n",
              "    }\n",
              "\n",
              "    [theme=dark] .colab-df-convert {\n",
              "      background-color: #3B4455;\n",
              "      fill: #D2E3FC;\n",
              "    }\n",
              "\n",
              "    [theme=dark] .colab-df-convert:hover {\n",
              "      background-color: #434B5C;\n",
              "      box-shadow: 0px 1px 3px 1px rgba(0, 0, 0, 0.15);\n",
              "      filter: drop-shadow(0px 1px 2px rgba(0, 0, 0, 0.3));\n",
              "      fill: #FFFFFF;\n",
              "    }\n",
              "  </style>\n",
              "\n",
              "      <script>\n",
              "        const buttonEl =\n",
              "          document.querySelector('#df-3d423a93-337b-40cd-8db3-2e0848ebf964 button.colab-df-convert');\n",
              "        buttonEl.style.display =\n",
              "          google.colab.kernel.accessAllowed ? 'block' : 'none';\n",
              "\n",
              "        async function convertToInteractive(key) {\n",
              "          const element = document.querySelector('#df-3d423a93-337b-40cd-8db3-2e0848ebf964');\n",
              "          const dataTable =\n",
              "            await google.colab.kernel.invokeFunction('convertToInteractive',\n",
              "                                                     [key], {});\n",
              "          if (!dataTable) return;\n",
              "\n",
              "          const docLinkHtml = 'Like what you see? Visit the ' +\n",
              "            '<a target=\"_blank\" href=https://colab.research.google.com/notebooks/data_table.ipynb>data table notebook</a>'\n",
              "            + ' to learn more about interactive tables.';\n",
              "          element.innerHTML = '';\n",
              "          dataTable['output_type'] = 'display_data';\n",
              "          await google.colab.output.renderOutput(dataTable, element);\n",
              "          const docLink = document.createElement('div');\n",
              "          docLink.innerHTML = docLinkHtml;\n",
              "          element.appendChild(docLink);\n",
              "        }\n",
              "      </script>\n",
              "    </div>\n",
              "  </div>\n",
              "  "
            ]
          },
          "metadata": {},
          "execution_count": 11
        }
      ]
    },
    {
      "cell_type": "code",
      "source": [
        "data1.head()"
      ],
      "metadata": {
        "colab": {
          "base_uri": "https://localhost:8080/",
          "height": 206
        },
        "id": "tqgp8zMeVb44",
        "outputId": "03ab6457-0b0b-409e-c5d8-3b99f0541204"
      },
      "execution_count": null,
      "outputs": [
        {
          "output_type": "execute_result",
          "data": {
            "text/plain": [
              "   Unnamed: 0                       Date  \\\n",
              "0           0  2022-12-31 23:52:40+00:00   \n",
              "1           1  2022-12-31 23:32:01+00:00   \n",
              "2           2  2022-12-31 23:22:00+00:00   \n",
              "3           3  2022-12-31 23:21:01+00:00   \n",
              "4           4  2022-12-31 23:09:21+00:00   \n",
              "\n",
              "                                               Tweet  class  \n",
              "0  Waited longer for one checked bag than the act...      2  \n",
              "1  Total fail @DoorDash   Never using that again ...      0  \n",
              "2  \"If I cook instant noodles, it becomes porridg...      2  \n",
              "3  @FoxNews Fox News blasted by MAGA for attempt ...      0  \n",
              "4  @elonmusk Just lost all respect for you.  Tryi...      0  "
            ],
            "text/html": [
              "\n",
              "  <div id=\"df-0c54c8aa-5f7c-4693-b766-9a72277e9b8b\">\n",
              "    <div class=\"colab-df-container\">\n",
              "      <div>\n",
              "<style scoped>\n",
              "    .dataframe tbody tr th:only-of-type {\n",
              "        vertical-align: middle;\n",
              "    }\n",
              "\n",
              "    .dataframe tbody tr th {\n",
              "        vertical-align: top;\n",
              "    }\n",
              "\n",
              "    .dataframe thead th {\n",
              "        text-align: right;\n",
              "    }\n",
              "</style>\n",
              "<table border=\"1\" class=\"dataframe\">\n",
              "  <thead>\n",
              "    <tr style=\"text-align: right;\">\n",
              "      <th></th>\n",
              "      <th>Unnamed: 0</th>\n",
              "      <th>Date</th>\n",
              "      <th>Tweet</th>\n",
              "      <th>class</th>\n",
              "    </tr>\n",
              "  </thead>\n",
              "  <tbody>\n",
              "    <tr>\n",
              "      <th>0</th>\n",
              "      <td>0</td>\n",
              "      <td>2022-12-31 23:52:40+00:00</td>\n",
              "      <td>Waited longer for one checked bag than the act...</td>\n",
              "      <td>2</td>\n",
              "    </tr>\n",
              "    <tr>\n",
              "      <th>1</th>\n",
              "      <td>1</td>\n",
              "      <td>2022-12-31 23:32:01+00:00</td>\n",
              "      <td>Total fail @DoorDash   Never using that again ...</td>\n",
              "      <td>0</td>\n",
              "    </tr>\n",
              "    <tr>\n",
              "      <th>2</th>\n",
              "      <td>2</td>\n",
              "      <td>2022-12-31 23:22:00+00:00</td>\n",
              "      <td>\"If I cook instant noodles, it becomes porridg...</td>\n",
              "      <td>2</td>\n",
              "    </tr>\n",
              "    <tr>\n",
              "      <th>3</th>\n",
              "      <td>3</td>\n",
              "      <td>2022-12-31 23:21:01+00:00</td>\n",
              "      <td>@FoxNews Fox News blasted by MAGA for attempt ...</td>\n",
              "      <td>0</td>\n",
              "    </tr>\n",
              "    <tr>\n",
              "      <th>4</th>\n",
              "      <td>4</td>\n",
              "      <td>2022-12-31 23:09:21+00:00</td>\n",
              "      <td>@elonmusk Just lost all respect for you.  Tryi...</td>\n",
              "      <td>0</td>\n",
              "    </tr>\n",
              "  </tbody>\n",
              "</table>\n",
              "</div>\n",
              "      <button class=\"colab-df-convert\" onclick=\"convertToInteractive('df-0c54c8aa-5f7c-4693-b766-9a72277e9b8b')\"\n",
              "              title=\"Convert this dataframe to an interactive table.\"\n",
              "              style=\"display:none;\">\n",
              "        \n",
              "  <svg xmlns=\"http://www.w3.org/2000/svg\" height=\"24px\"viewBox=\"0 0 24 24\"\n",
              "       width=\"24px\">\n",
              "    <path d=\"M0 0h24v24H0V0z\" fill=\"none\"/>\n",
              "    <path d=\"M18.56 5.44l.94 2.06.94-2.06 2.06-.94-2.06-.94-.94-2.06-.94 2.06-2.06.94zm-11 1L8.5 8.5l.94-2.06 2.06-.94-2.06-.94L8.5 2.5l-.94 2.06-2.06.94zm10 10l.94 2.06.94-2.06 2.06-.94-2.06-.94-.94-2.06-.94 2.06-2.06.94z\"/><path d=\"M17.41 7.96l-1.37-1.37c-.4-.4-.92-.59-1.43-.59-.52 0-1.04.2-1.43.59L10.3 9.45l-7.72 7.72c-.78.78-.78 2.05 0 2.83L4 21.41c.39.39.9.59 1.41.59.51 0 1.02-.2 1.41-.59l7.78-7.78 2.81-2.81c.8-.78.8-2.07 0-2.86zM5.41 20L4 18.59l7.72-7.72 1.47 1.35L5.41 20z\"/>\n",
              "  </svg>\n",
              "      </button>\n",
              "      \n",
              "  <style>\n",
              "    .colab-df-container {\n",
              "      display:flex;\n",
              "      flex-wrap:wrap;\n",
              "      gap: 12px;\n",
              "    }\n",
              "\n",
              "    .colab-df-convert {\n",
              "      background-color: #E8F0FE;\n",
              "      border: none;\n",
              "      border-radius: 50%;\n",
              "      cursor: pointer;\n",
              "      display: none;\n",
              "      fill: #1967D2;\n",
              "      height: 32px;\n",
              "      padding: 0 0 0 0;\n",
              "      width: 32px;\n",
              "    }\n",
              "\n",
              "    .colab-df-convert:hover {\n",
              "      background-color: #E2EBFA;\n",
              "      box-shadow: 0px 1px 2px rgba(60, 64, 67, 0.3), 0px 1px 3px 1px rgba(60, 64, 67, 0.15);\n",
              "      fill: #174EA6;\n",
              "    }\n",
              "\n",
              "    [theme=dark] .colab-df-convert {\n",
              "      background-color: #3B4455;\n",
              "      fill: #D2E3FC;\n",
              "    }\n",
              "\n",
              "    [theme=dark] .colab-df-convert:hover {\n",
              "      background-color: #434B5C;\n",
              "      box-shadow: 0px 1px 3px 1px rgba(0, 0, 0, 0.15);\n",
              "      filter: drop-shadow(0px 1px 2px rgba(0, 0, 0, 0.3));\n",
              "      fill: #FFFFFF;\n",
              "    }\n",
              "  </style>\n",
              "\n",
              "      <script>\n",
              "        const buttonEl =\n",
              "          document.querySelector('#df-0c54c8aa-5f7c-4693-b766-9a72277e9b8b button.colab-df-convert');\n",
              "        buttonEl.style.display =\n",
              "          google.colab.kernel.accessAllowed ? 'block' : 'none';\n",
              "\n",
              "        async function convertToInteractive(key) {\n",
              "          const element = document.querySelector('#df-0c54c8aa-5f7c-4693-b766-9a72277e9b8b');\n",
              "          const dataTable =\n",
              "            await google.colab.kernel.invokeFunction('convertToInteractive',\n",
              "                                                     [key], {});\n",
              "          if (!dataTable) return;\n",
              "\n",
              "          const docLinkHtml = 'Like what you see? Visit the ' +\n",
              "            '<a target=\"_blank\" href=https://colab.research.google.com/notebooks/data_table.ipynb>data table notebook</a>'\n",
              "            + ' to learn more about interactive tables.';\n",
              "          element.innerHTML = '';\n",
              "          dataTable['output_type'] = 'display_data';\n",
              "          await google.colab.output.renderOutput(dataTable, element);\n",
              "          const docLink = document.createElement('div');\n",
              "          docLink.innerHTML = docLinkHtml;\n",
              "          element.appendChild(docLink);\n",
              "        }\n",
              "      </script>\n",
              "    </div>\n",
              "  </div>\n",
              "  "
            ]
          },
          "metadata": {},
          "execution_count": 12
        }
      ]
    },
    {
      "cell_type": "code",
      "source": [
        "data2.head()"
      ],
      "metadata": {
        "colab": {
          "base_uri": "https://localhost:8080/",
          "height": 206
        },
        "id": "NVWxCOxo7UhK",
        "outputId": "748d006b-f268-482d-fe4e-5f3e4f2b3a29"
      },
      "execution_count": null,
      "outputs": [
        {
          "output_type": "execute_result",
          "data": {
            "text/plain": [
              "   Unnamed: 0                       Date  \\\n",
              "0           0  2022-12-31 22:15:29+00:00   \n",
              "1           1  2022-12-31 14:47:34+00:00   \n",
              "2           2  2022-12-31 14:00:18+00:00   \n",
              "3           3  2022-12-31 11:37:09+00:00   \n",
              "4           4  2022-12-31 08:00:50+00:00   \n",
              "\n",
              "                                               Tweet  class  \n",
              "0  Just got back from seeing @GaryDelaney in Burs...      1  \n",
              "1  Oh dear an evening of absolute hilarity I don'...      1  \n",
              "2  Been waiting all week for this game ❤️❤️❤️ #ch...      1  \n",
              "3  @gardiner_love : Thank you so much, Gloria! Yo...      1  \n",
              "4  I feel so blessed to work with the family that...      1  "
            ],
            "text/html": [
              "\n",
              "  <div id=\"df-5e941980-a650-472f-90a5-bc0e7927accb\">\n",
              "    <div class=\"colab-df-container\">\n",
              "      <div>\n",
              "<style scoped>\n",
              "    .dataframe tbody tr th:only-of-type {\n",
              "        vertical-align: middle;\n",
              "    }\n",
              "\n",
              "    .dataframe tbody tr th {\n",
              "        vertical-align: top;\n",
              "    }\n",
              "\n",
              "    .dataframe thead th {\n",
              "        text-align: right;\n",
              "    }\n",
              "</style>\n",
              "<table border=\"1\" class=\"dataframe\">\n",
              "  <thead>\n",
              "    <tr style=\"text-align: right;\">\n",
              "      <th></th>\n",
              "      <th>Unnamed: 0</th>\n",
              "      <th>Date</th>\n",
              "      <th>Tweet</th>\n",
              "      <th>class</th>\n",
              "    </tr>\n",
              "  </thead>\n",
              "  <tbody>\n",
              "    <tr>\n",
              "      <th>0</th>\n",
              "      <td>0</td>\n",
              "      <td>2022-12-31 22:15:29+00:00</td>\n",
              "      <td>Just got back from seeing @GaryDelaney in Burs...</td>\n",
              "      <td>1</td>\n",
              "    </tr>\n",
              "    <tr>\n",
              "      <th>1</th>\n",
              "      <td>1</td>\n",
              "      <td>2022-12-31 14:47:34+00:00</td>\n",
              "      <td>Oh dear an evening of absolute hilarity I don'...</td>\n",
              "      <td>1</td>\n",
              "    </tr>\n",
              "    <tr>\n",
              "      <th>2</th>\n",
              "      <td>2</td>\n",
              "      <td>2022-12-31 14:00:18+00:00</td>\n",
              "      <td>Been waiting all week for this game ❤️❤️❤️ #ch...</td>\n",
              "      <td>1</td>\n",
              "    </tr>\n",
              "    <tr>\n",
              "      <th>3</th>\n",
              "      <td>3</td>\n",
              "      <td>2022-12-31 11:37:09+00:00</td>\n",
              "      <td>@gardiner_love : Thank you so much, Gloria! Yo...</td>\n",
              "      <td>1</td>\n",
              "    </tr>\n",
              "    <tr>\n",
              "      <th>4</th>\n",
              "      <td>4</td>\n",
              "      <td>2022-12-31 08:00:50+00:00</td>\n",
              "      <td>I feel so blessed to work with the family that...</td>\n",
              "      <td>1</td>\n",
              "    </tr>\n",
              "  </tbody>\n",
              "</table>\n",
              "</div>\n",
              "      <button class=\"colab-df-convert\" onclick=\"convertToInteractive('df-5e941980-a650-472f-90a5-bc0e7927accb')\"\n",
              "              title=\"Convert this dataframe to an interactive table.\"\n",
              "              style=\"display:none;\">\n",
              "        \n",
              "  <svg xmlns=\"http://www.w3.org/2000/svg\" height=\"24px\"viewBox=\"0 0 24 24\"\n",
              "       width=\"24px\">\n",
              "    <path d=\"M0 0h24v24H0V0z\" fill=\"none\"/>\n",
              "    <path d=\"M18.56 5.44l.94 2.06.94-2.06 2.06-.94-2.06-.94-.94-2.06-.94 2.06-2.06.94zm-11 1L8.5 8.5l.94-2.06 2.06-.94-2.06-.94L8.5 2.5l-.94 2.06-2.06.94zm10 10l.94 2.06.94-2.06 2.06-.94-2.06-.94-.94-2.06-.94 2.06-2.06.94z\"/><path d=\"M17.41 7.96l-1.37-1.37c-.4-.4-.92-.59-1.43-.59-.52 0-1.04.2-1.43.59L10.3 9.45l-7.72 7.72c-.78.78-.78 2.05 0 2.83L4 21.41c.39.39.9.59 1.41.59.51 0 1.02-.2 1.41-.59l7.78-7.78 2.81-2.81c.8-.78.8-2.07 0-2.86zM5.41 20L4 18.59l7.72-7.72 1.47 1.35L5.41 20z\"/>\n",
              "  </svg>\n",
              "      </button>\n",
              "      \n",
              "  <style>\n",
              "    .colab-df-container {\n",
              "      display:flex;\n",
              "      flex-wrap:wrap;\n",
              "      gap: 12px;\n",
              "    }\n",
              "\n",
              "    .colab-df-convert {\n",
              "      background-color: #E8F0FE;\n",
              "      border: none;\n",
              "      border-radius: 50%;\n",
              "      cursor: pointer;\n",
              "      display: none;\n",
              "      fill: #1967D2;\n",
              "      height: 32px;\n",
              "      padding: 0 0 0 0;\n",
              "      width: 32px;\n",
              "    }\n",
              "\n",
              "    .colab-df-convert:hover {\n",
              "      background-color: #E2EBFA;\n",
              "      box-shadow: 0px 1px 2px rgba(60, 64, 67, 0.3), 0px 1px 3px 1px rgba(60, 64, 67, 0.15);\n",
              "      fill: #174EA6;\n",
              "    }\n",
              "\n",
              "    [theme=dark] .colab-df-convert {\n",
              "      background-color: #3B4455;\n",
              "      fill: #D2E3FC;\n",
              "    }\n",
              "\n",
              "    [theme=dark] .colab-df-convert:hover {\n",
              "      background-color: #434B5C;\n",
              "      box-shadow: 0px 1px 3px 1px rgba(0, 0, 0, 0.15);\n",
              "      filter: drop-shadow(0px 1px 2px rgba(0, 0, 0, 0.3));\n",
              "      fill: #FFFFFF;\n",
              "    }\n",
              "  </style>\n",
              "\n",
              "      <script>\n",
              "        const buttonEl =\n",
              "          document.querySelector('#df-5e941980-a650-472f-90a5-bc0e7927accb button.colab-df-convert');\n",
              "        buttonEl.style.display =\n",
              "          google.colab.kernel.accessAllowed ? 'block' : 'none';\n",
              "\n",
              "        async function convertToInteractive(key) {\n",
              "          const element = document.querySelector('#df-5e941980-a650-472f-90a5-bc0e7927accb');\n",
              "          const dataTable =\n",
              "            await google.colab.kernel.invokeFunction('convertToInteractive',\n",
              "                                                     [key], {});\n",
              "          if (!dataTable) return;\n",
              "\n",
              "          const docLinkHtml = 'Like what you see? Visit the ' +\n",
              "            '<a target=\"_blank\" href=https://colab.research.google.com/notebooks/data_table.ipynb>data table notebook</a>'\n",
              "            + ' to learn more about interactive tables.';\n",
              "          element.innerHTML = '';\n",
              "          dataTable['output_type'] = 'display_data';\n",
              "          await google.colab.output.renderOutput(dataTable, element);\n",
              "          const docLink = document.createElement('div');\n",
              "          docLink.innerHTML = docLinkHtml;\n",
              "          element.appendChild(docLink);\n",
              "        }\n",
              "      </script>\n",
              "    </div>\n",
              "  </div>\n",
              "  "
            ]
          },
          "metadata": {},
          "execution_count": 13
        }
      ]
    },
    {
      "cell_type": "code",
      "source": [
        "data[\"Tweet\"][0]"
      ],
      "metadata": {
        "colab": {
          "base_uri": "https://localhost:8080/",
          "height": 70
        },
        "id": "aIiX0-9xkLmy",
        "outputId": "d3a7cf7b-6a75-455d-df22-d9808a623dd6"
      },
      "execution_count": null,
      "outputs": [
        {
          "output_type": "execute_result",
          "data": {
            "text/plain": [
              "'So reuniting with an Ex was special and Im sure he deserves happiness and positive conversation and I’m sad I wasn’t confident and sad that I get punished and different now which I wish wasn’t a condition to explain sometimes life’s to hard to have a life so I accept that #happy'"
            ],
            "application/vnd.google.colaboratory.intrinsic+json": {
              "type": "string"
            }
          },
          "metadata": {},
          "execution_count": 14
        }
      ]
    },
    {
      "cell_type": "code",
      "source": [
        "data1[\"Tweet\"][0]"
      ],
      "metadata": {
        "colab": {
          "base_uri": "https://localhost:8080/",
          "height": 35
        },
        "id": "N6qLaweAVeli",
        "outputId": "2054437c-bc44-437c-bfeb-3adc1011dc90"
      },
      "execution_count": null,
      "outputs": [
        {
          "output_type": "execute_result",
          "data": {
            "text/plain": [
              "'Waited longer for one checked bag than the actual flight. Thanks @FlyYEG #fail'"
            ],
            "application/vnd.google.colaboratory.intrinsic+json": {
              "type": "string"
            }
          },
          "metadata": {},
          "execution_count": 15
        }
      ]
    },
    {
      "cell_type": "code",
      "source": [
        "data2[\"Tweet\"][0]"
      ],
      "metadata": {
        "colab": {
          "base_uri": "https://localhost:8080/",
          "height": 35
        },
        "id": "mC82MzHz7V-3",
        "outputId": "f4d445ad-2970-4fe1-a457-d0d46c726c25"
      },
      "execution_count": null,
      "outputs": [
        {
          "output_type": "execute_result",
          "data": {
            "text/plain": [
              "'Just got back from seeing @GaryDelaney in Burslem. AMAZING!! Face still hurts from laughing so much #hilarious'"
            ],
            "application/vnd.google.colaboratory.intrinsic+json": {
              "type": "string"
            }
          },
          "metadata": {},
          "execution_count": 16
        }
      ]
    },
    {
      "cell_type": "code",
      "source": [
        "data = pd.concat([data, data1, data2])"
      ],
      "metadata": {
        "id": "bQ2YgNzKVgU0"
      },
      "execution_count": null,
      "outputs": []
    },
    {
      "cell_type": "code",
      "source": [
        "data.head()"
      ],
      "metadata": {
        "id": "QMMWoNQkFaA-",
        "colab": {
          "base_uri": "https://localhost:8080/",
          "height": 206
        },
        "outputId": "21928733-9724-4545-a71f-c311e415bcbe"
      },
      "execution_count": null,
      "outputs": [
        {
          "output_type": "execute_result",
          "data": {
            "text/plain": [
              "   Unnamed: 0                       Date  \\\n",
              "0           0  2022-12-31 23:59:51+00:00   \n",
              "1           1  2022-12-31 23:59:11+00:00   \n",
              "2           2  2022-12-31 23:53:18+00:00   \n",
              "3           3  2022-12-31 23:52:30+00:00   \n",
              "4           4  2022-12-31 23:45:50+00:00   \n",
              "\n",
              "                                               Tweet  class  \n",
              "0  So reuniting with an Ex was special and Im sur...      0  \n",
              "1  #Happy #New #Year!!! Hope you all are having a...      1  \n",
              "2              @TeamSMATh #happy new year 2023 SMATH      1  \n",
              "3  A fresh start this new year will bring.\\nAn op...      1  \n",
              "4  Sometimes it feels life is unfair, sometimes i...      1  "
            ],
            "text/html": [
              "\n",
              "  <div id=\"df-31bff23a-88c4-42d8-b4d2-027416c751f0\">\n",
              "    <div class=\"colab-df-container\">\n",
              "      <div>\n",
              "<style scoped>\n",
              "    .dataframe tbody tr th:only-of-type {\n",
              "        vertical-align: middle;\n",
              "    }\n",
              "\n",
              "    .dataframe tbody tr th {\n",
              "        vertical-align: top;\n",
              "    }\n",
              "\n",
              "    .dataframe thead th {\n",
              "        text-align: right;\n",
              "    }\n",
              "</style>\n",
              "<table border=\"1\" class=\"dataframe\">\n",
              "  <thead>\n",
              "    <tr style=\"text-align: right;\">\n",
              "      <th></th>\n",
              "      <th>Unnamed: 0</th>\n",
              "      <th>Date</th>\n",
              "      <th>Tweet</th>\n",
              "      <th>class</th>\n",
              "    </tr>\n",
              "  </thead>\n",
              "  <tbody>\n",
              "    <tr>\n",
              "      <th>0</th>\n",
              "      <td>0</td>\n",
              "      <td>2022-12-31 23:59:51+00:00</td>\n",
              "      <td>So reuniting with an Ex was special and Im sur...</td>\n",
              "      <td>0</td>\n",
              "    </tr>\n",
              "    <tr>\n",
              "      <th>1</th>\n",
              "      <td>1</td>\n",
              "      <td>2022-12-31 23:59:11+00:00</td>\n",
              "      <td>#Happy #New #Year!!! Hope you all are having a...</td>\n",
              "      <td>1</td>\n",
              "    </tr>\n",
              "    <tr>\n",
              "      <th>2</th>\n",
              "      <td>2</td>\n",
              "      <td>2022-12-31 23:53:18+00:00</td>\n",
              "      <td>@TeamSMATh #happy new year 2023 SMATH</td>\n",
              "      <td>1</td>\n",
              "    </tr>\n",
              "    <tr>\n",
              "      <th>3</th>\n",
              "      <td>3</td>\n",
              "      <td>2022-12-31 23:52:30+00:00</td>\n",
              "      <td>A fresh start this new year will bring.\\nAn op...</td>\n",
              "      <td>1</td>\n",
              "    </tr>\n",
              "    <tr>\n",
              "      <th>4</th>\n",
              "      <td>4</td>\n",
              "      <td>2022-12-31 23:45:50+00:00</td>\n",
              "      <td>Sometimes it feels life is unfair, sometimes i...</td>\n",
              "      <td>1</td>\n",
              "    </tr>\n",
              "  </tbody>\n",
              "</table>\n",
              "</div>\n",
              "      <button class=\"colab-df-convert\" onclick=\"convertToInteractive('df-31bff23a-88c4-42d8-b4d2-027416c751f0')\"\n",
              "              title=\"Convert this dataframe to an interactive table.\"\n",
              "              style=\"display:none;\">\n",
              "        \n",
              "  <svg xmlns=\"http://www.w3.org/2000/svg\" height=\"24px\"viewBox=\"0 0 24 24\"\n",
              "       width=\"24px\">\n",
              "    <path d=\"M0 0h24v24H0V0z\" fill=\"none\"/>\n",
              "    <path d=\"M18.56 5.44l.94 2.06.94-2.06 2.06-.94-2.06-.94-.94-2.06-.94 2.06-2.06.94zm-11 1L8.5 8.5l.94-2.06 2.06-.94-2.06-.94L8.5 2.5l-.94 2.06-2.06.94zm10 10l.94 2.06.94-2.06 2.06-.94-2.06-.94-.94-2.06-.94 2.06-2.06.94z\"/><path d=\"M17.41 7.96l-1.37-1.37c-.4-.4-.92-.59-1.43-.59-.52 0-1.04.2-1.43.59L10.3 9.45l-7.72 7.72c-.78.78-.78 2.05 0 2.83L4 21.41c.39.39.9.59 1.41.59.51 0 1.02-.2 1.41-.59l7.78-7.78 2.81-2.81c.8-.78.8-2.07 0-2.86zM5.41 20L4 18.59l7.72-7.72 1.47 1.35L5.41 20z\"/>\n",
              "  </svg>\n",
              "      </button>\n",
              "      \n",
              "  <style>\n",
              "    .colab-df-container {\n",
              "      display:flex;\n",
              "      flex-wrap:wrap;\n",
              "      gap: 12px;\n",
              "    }\n",
              "\n",
              "    .colab-df-convert {\n",
              "      background-color: #E8F0FE;\n",
              "      border: none;\n",
              "      border-radius: 50%;\n",
              "      cursor: pointer;\n",
              "      display: none;\n",
              "      fill: #1967D2;\n",
              "      height: 32px;\n",
              "      padding: 0 0 0 0;\n",
              "      width: 32px;\n",
              "    }\n",
              "\n",
              "    .colab-df-convert:hover {\n",
              "      background-color: #E2EBFA;\n",
              "      box-shadow: 0px 1px 2px rgba(60, 64, 67, 0.3), 0px 1px 3px 1px rgba(60, 64, 67, 0.15);\n",
              "      fill: #174EA6;\n",
              "    }\n",
              "\n",
              "    [theme=dark] .colab-df-convert {\n",
              "      background-color: #3B4455;\n",
              "      fill: #D2E3FC;\n",
              "    }\n",
              "\n",
              "    [theme=dark] .colab-df-convert:hover {\n",
              "      background-color: #434B5C;\n",
              "      box-shadow: 0px 1px 3px 1px rgba(0, 0, 0, 0.15);\n",
              "      filter: drop-shadow(0px 1px 2px rgba(0, 0, 0, 0.3));\n",
              "      fill: #FFFFFF;\n",
              "    }\n",
              "  </style>\n",
              "\n",
              "      <script>\n",
              "        const buttonEl =\n",
              "          document.querySelector('#df-31bff23a-88c4-42d8-b4d2-027416c751f0 button.colab-df-convert');\n",
              "        buttonEl.style.display =\n",
              "          google.colab.kernel.accessAllowed ? 'block' : 'none';\n",
              "\n",
              "        async function convertToInteractive(key) {\n",
              "          const element = document.querySelector('#df-31bff23a-88c4-42d8-b4d2-027416c751f0');\n",
              "          const dataTable =\n",
              "            await google.colab.kernel.invokeFunction('convertToInteractive',\n",
              "                                                     [key], {});\n",
              "          if (!dataTable) return;\n",
              "\n",
              "          const docLinkHtml = 'Like what you see? Visit the ' +\n",
              "            '<a target=\"_blank\" href=https://colab.research.google.com/notebooks/data_table.ipynb>data table notebook</a>'\n",
              "            + ' to learn more about interactive tables.';\n",
              "          element.innerHTML = '';\n",
              "          dataTable['output_type'] = 'display_data';\n",
              "          await google.colab.output.renderOutput(dataTable, element);\n",
              "          const docLink = document.createElement('div');\n",
              "          docLink.innerHTML = docLinkHtml;\n",
              "          element.appendChild(docLink);\n",
              "        }\n",
              "      </script>\n",
              "    </div>\n",
              "  </div>\n",
              "  "
            ]
          },
          "metadata": {},
          "execution_count": 18
        }
      ]
    },
    {
      "cell_type": "code",
      "source": [
        "data.shape"
      ],
      "metadata": {
        "id": "owjaN9ZSFbnH",
        "colab": {
          "base_uri": "https://localhost:8080/"
        },
        "outputId": "085db326-fa43-473f-d7da-e6109ce65093"
      },
      "execution_count": null,
      "outputs": [
        {
          "output_type": "execute_result",
          "data": {
            "text/plain": [
              "(862, 4)"
            ]
          },
          "metadata": {},
          "execution_count": 19
        }
      ]
    },
    {
      "cell_type": "code",
      "source": [
        "data.iloc[291][\"Tweet\"]"
      ],
      "metadata": {
        "colab": {
          "base_uri": "https://localhost:8080/",
          "height": 35
        },
        "id": "XkgchPtTWYsk",
        "outputId": "c072eaed-ec3f-4bed-a7a2-61ce59e382a3"
      },
      "execution_count": null,
      "outputs": [
        {
          "output_type": "execute_result",
          "data": {
            "text/plain": [
              "'Waited longer for one checked bag than the actual flight. Thanks @FlyYEG #fail'"
            ],
            "application/vnd.google.colaboratory.intrinsic+json": {
              "type": "string"
            }
          },
          "metadata": {},
          "execution_count": 20
        }
      ]
    },
    {
      "cell_type": "code",
      "source": [
        "data.drop([\"Unnamed: 0\"], axis=1, inplace=True)"
      ],
      "metadata": {
        "id": "xuaNPrQViC_k"
      },
      "execution_count": null,
      "outputs": []
    },
    {
      "cell_type": "code",
      "source": [
        "data.isnull().sum()"
      ],
      "metadata": {
        "colab": {
          "base_uri": "https://localhost:8080/"
        },
        "id": "grAgu4muiGOe",
        "outputId": "144ed979-16ce-4805-88f5-e6bd146f51c2"
      },
      "execution_count": null,
      "outputs": [
        {
          "output_type": "execute_result",
          "data": {
            "text/plain": [
              "Date     0\n",
              "Tweet    0\n",
              "class    0\n",
              "dtype: int64"
            ]
          },
          "metadata": {},
          "execution_count": 22
        }
      ]
    },
    {
      "cell_type": "code",
      "source": [
        "data.dropna(inplace=True)"
      ],
      "metadata": {
        "id": "Wq7wCnVLyIet"
      },
      "execution_count": null,
      "outputs": []
    },
    {
      "cell_type": "code",
      "source": [
        "data.isnull().sum()"
      ],
      "metadata": {
        "colab": {
          "base_uri": "https://localhost:8080/"
        },
        "id": "uH6KuWbOyMvU",
        "outputId": "8629e2e9-69b9-4e12-a892-3265eadb9eb5"
      },
      "execution_count": null,
      "outputs": [
        {
          "output_type": "execute_result",
          "data": {
            "text/plain": [
              "Date     0\n",
              "Tweet    0\n",
              "class    0\n",
              "dtype: int64"
            ]
          },
          "metadata": {},
          "execution_count": 24
        }
      ]
    },
    {
      "cell_type": "code",
      "source": [
        "data.info()"
      ],
      "metadata": {
        "colab": {
          "base_uri": "https://localhost:8080/"
        },
        "id": "AUs6AYRBiM6k",
        "outputId": "08250ba6-7b6d-4f52-c5f3-16d87b40953b"
      },
      "execution_count": null,
      "outputs": [
        {
          "output_type": "stream",
          "name": "stdout",
          "text": [
            "<class 'pandas.core.frame.DataFrame'>\n",
            "Int64Index: 862 entries, 0 to 398\n",
            "Data columns (total 3 columns):\n",
            " #   Column  Non-Null Count  Dtype \n",
            "---  ------  --------------  ----- \n",
            " 0   Date    862 non-null    object\n",
            " 1   Tweet   862 non-null    object\n",
            " 2   class   862 non-null    int64 \n",
            "dtypes: int64(1), object(2)\n",
            "memory usage: 26.9+ KB\n"
          ]
        }
      ]
    },
    {
      "cell_type": "code",
      "source": [
        "data['class']=data['class'].astype('int')\n",
        "data[\"Tweet\"] = data['Tweet'].astype('string')"
      ],
      "metadata": {
        "id": "qV8hQF78yVKz"
      },
      "execution_count": null,
      "outputs": []
    },
    {
      "cell_type": "code",
      "source": [
        "data.duplicated().sum()"
      ],
      "metadata": {
        "colab": {
          "base_uri": "https://localhost:8080/"
        },
        "id": "n9KG3IZ-iQLH",
        "outputId": "a6e310d5-c3b4-4d24-9124-d6bee67cf2d4"
      },
      "execution_count": null,
      "outputs": [
        {
          "output_type": "execute_result",
          "data": {
            "text/plain": [
              "0"
            ]
          },
          "metadata": {},
          "execution_count": 27
        }
      ]
    },
    {
      "cell_type": "code",
      "source": [
        "data['class'].value_counts()"
      ],
      "metadata": {
        "colab": {
          "base_uri": "https://localhost:8080/"
        },
        "id": "I98RZo743NmG",
        "outputId": "3c7c376c-b119-4064-c6d1-b4e721b28025"
      },
      "execution_count": null,
      "outputs": [
        {
          "output_type": "execute_result",
          "data": {
            "text/plain": [
              "1    408\n",
              "0    344\n",
              "2    110\n",
              "Name: class, dtype: int64"
            ]
          },
          "metadata": {},
          "execution_count": 28
        }
      ]
    },
    {
      "cell_type": "markdown",
      "source": [
        "# **Data Visualization**"
      ],
      "metadata": {
        "id": "TeLcRM7IgUpX"
      }
    },
    {
      "cell_type": "code",
      "source": [
        "import seaborn as sns\n",
        "from matplotlib import pyplot as plt"
      ],
      "metadata": {
        "id": "OCgk0TTS9dM4"
      },
      "execution_count": null,
      "outputs": []
    },
    {
      "cell_type": "code",
      "source": [
        "sns.countplot(data,x='class', label=[\"Negative\", \"Positive\", \"Neutral\"])\n",
        "plt.legend(frameon = False)\n",
        "plt.show()"
      ],
      "metadata": {
        "colab": {
          "base_uri": "https://localhost:8080/",
          "height": 449
        },
        "id": "ApLvpBfB9XcQ",
        "outputId": "90d36037-ee7f-4ed0-9aa0-cf51ceb877ae"
      },
      "execution_count": null,
      "outputs": [
        {
          "output_type": "display_data",
          "data": {
            "text/plain": [
              "<Figure size 640x480 with 1 Axes>"
            ],
            "image/png": "[encoded data removed]"
          },
          "metadata": {}
        }
      ]
    },
    {
      "cell_type": "code",
      "source": [
        "all_words = []\n",
        "\n",
        "for t in data['Tweet']:\n",
        "  all_words.extend(t.split())\n",
        "\n",
        "len(all_words)"
      ],
      "metadata": {
        "colab": {
          "base_uri": "https://localhost:8080/"
        },
        "id": "SoLd79P5ga4B",
        "outputId": "d79d3d47-4fca-4624-89f9-2a0341cb2474"
      },
      "execution_count": null,
      "outputs": [
        {
          "output_type": "execute_result",
          "data": {
            "text/plain": [
              "15894"
            ]
          },
          "metadata": {},
          "execution_count": 31
        }
      ]
    },
    {
      "cell_type": "code",
      "source": [
        "freq_dist = nltk.FreqDist(all_words)\n",
        "\n",
        "plt.figure(figsize=(12,5))\n",
        "plt.title(\"Top 25 most common words\")\n",
        "plt.xticks(fontsize=15)\n",
        "\n",
        "freq_dist.plot(25, cumulative=False)\n",
        "plt.show()"
      ],
      "metadata": {
        "colab": {
          "base_uri": "https://localhost:8080/",
          "height": 521
        },
        "id": "lFfQKAKkg_pk",
        "outputId": "ca4b976a-1949-4404-8d82-c2ef674eb5fa"
      },
      "execution_count": null,
      "outputs": [
        {
          "output_type": "display_data",
          "data": {
            "text/plain": [
              "<Figure size 1200x500 with 1 Axes>"
            ],
            "image/png": "[encoded data removed]"
          },
          "metadata": {}
        }
      ]
    },
    {
      "cell_type": "markdown",
      "source": [
        "## **Preprocessing**"
      ],
      "metadata": {
        "id": "sS4kRQHwjZ3Y"
      }
    },
    {
      "cell_type": "code",
      "source": [
        "nltk.download('stopwords')\n",
        "\n",
        "all_stopwords = stopwords.words('english')\n",
        "ps = PorterStemmer()"
      ],
      "metadata": {
        "colab": {
          "base_uri": "https://localhost:8080/"
        },
        "id": "sXuP2NJA3XwT",
        "outputId": "16bd4759-4a4e-4fd5-b1d9-783159c82ae4"
      },
      "execution_count": null,
      "outputs": [
        {
          "output_type": "stream",
          "name": "stderr",
          "text": [
            "[nltk_data] Downloading package stopwords to /root/nltk_data...\n",
            "[nltk_data]   Unzipping corpora/stopwords.zip.\n"
          ]
        }
      ]
    },
    {
      "cell_type": "code",
      "source": [
        "def cleaning_tweets(tweet):\n",
        "  tweet = re.sub('[^a-zA-Z]', ' ', tweet)\n",
        "  tweet = tweet.lower()\n",
        "  tweet = tweet.split()\n",
        "  tweet = [ps.stem(word) for word in tweet if not word in set(all_stopwords)]\n",
        "  tweet = ' '.join(tweet)\n",
        "  return tweet"
      ],
      "metadata": {
        "id": "QDbVX6PtjEhv"
      },
      "execution_count": null,
      "outputs": []
    },
    {
      "cell_type": "code",
      "source": [
        "cleaning_tweets(str(data[\"Tweet\"][0]))"
      ],
      "metadata": {
        "colab": {
          "base_uri": "https://localhost:8080/",
          "height": 35
        },
        "id": "SZchY4jTWR28",
        "outputId": "08deae97-b7f8-47cd-8734-c4284de33545"
      },
      "execution_count": null,
      "outputs": [
        {
          "output_type": "execute_result",
          "data": {
            "text/plain": [
              "'reunit ex special im sur wait longer one check bag act got back see garydelaney bur name tweet dtype string'"
            ],
            "application/vnd.google.colaboratory.intrinsic+json": {
              "type": "string"
            }
          },
          "metadata": {},
          "execution_count": 35
        }
      ]
    },
    {
      "cell_type": "code",
      "source": [
        "d = []\n",
        "for i in range(data.shape[0]):\n",
        "  d.append(cleaning_tweets(str(data.iloc[i][\"Tweet\"])))"
      ],
      "metadata": {
        "id": "ijYcZm1n4QZS"
      },
      "execution_count": null,
      "outputs": []
    },
    {
      "cell_type": "code",
      "source": [
        "d[:2]"
      ],
      "metadata": {
        "colab": {
          "base_uri": "https://localhost:8080/"
        },
        "id": "uP3uZh8c_FRb",
        "outputId": "c577c4f1-eabb-49e7-b56f-54678166a9c8"
      },
      "execution_count": null,
      "outputs": [
        {
          "output_type": "execute_result",
          "data": {
            "text/plain": [
              "['reunit ex special im sure deserv happi posit convers sad confid sad get punish differ wish condit explain sometim life hard life accept happi',\n",
              " 'happi new year hope amaz even love c']"
            ]
          },
          "metadata": {},
          "execution_count": 37
        }
      ]
    },
    {
      "cell_type": "markdown",
      "source": [
        "Visualization of data after cleaning"
      ],
      "metadata": {
        "id": "yX-cxkVVhpYq"
      }
    },
    {
      "cell_type": "code",
      "source": [
        "all_words = []\n",
        "\n",
        "for t in d:\n",
        "  all_words.extend(t.split())\n",
        "\n",
        "len(all_words)"
      ],
      "metadata": {
        "colab": {
          "base_uri": "https://localhost:8080/"
        },
        "id": "0gbn1djvho4E",
        "outputId": "8cf212eb-72bc-41c7-f3fe-b8ffaf520302"
      },
      "execution_count": null,
      "outputs": [
        {
          "output_type": "execute_result",
          "data": {
            "text/plain": [
              "9603"
            ]
          },
          "metadata": {},
          "execution_count": 38
        }
      ]
    },
    {
      "cell_type": "code",
      "source": [
        "freq_dist = nltk.FreqDist(all_words)\n",
        "\n",
        "plt.figure(figsize=(12,5))\n",
        "plt.title(\"Top 25 most common words\")\n",
        "plt.xticks(fontsize=15)\n",
        "\n",
        "freq_dist.plot(25, cumulative=False)\n",
        "plt.show()"
      ],
      "metadata": {
        "colab": {
          "base_uri": "https://localhost:8080/",
          "height": 587
        },
        "id": "dTUrRwsChxXM",
        "outputId": "30a2e84f-ed1b-4c34-8a25-d2199c8263e7"
      },
      "execution_count": null,
      "outputs": [
        {
          "output_type": "display_data",
          "data": {
            "text/plain": [
              "<Figure size 1200x500 with 1 Axes>"
            ],
            "image/png": "[encoded data removed]"
          },
          "metadata": {}
        }
      ]
    },
    {
      "cell_type": "markdown",
      "source": [
        "Data Transformation"
      ],
      "metadata": {
        "id": "zu4aXHZg6fGc"
      }
    },
    {
      "cell_type": "code",
      "source": [
        "from sklearn.feature_extraction.text import TfidfVectorizer\n",
        "tfidf = TfidfVectorizer()"
      ],
      "metadata": {
        "id": "PjW13n2M5Dcm"
      },
      "execution_count": null,
      "outputs": []
    },
    {
      "cell_type": "code",
      "source": [
        "X = tfidf.fit_transform(d).toarray()"
      ],
      "metadata": {
        "id": "id0Y0kIL651V"
      },
      "execution_count": null,
      "outputs": []
    },
    {
      "cell_type": "code",
      "source": [
        "X.shape"
      ],
      "metadata": {
        "colab": {
          "base_uri": "https://localhost:8080/"
        },
        "id": "S3lBqG2r7YuG",
        "outputId": "0c88e91c-8530-4e9e-909a-0cd68d714119"
      },
      "execution_count": null,
      "outputs": [
        {
          "output_type": "execute_result",
          "data": {
            "text/plain": [
              "(862, 3411)"
            ]
          },
          "metadata": {},
          "execution_count": 42
        }
      ]
    },
    {
      "cell_type": "code",
      "source": [
        "X[:2]"
      ],
      "metadata": {
        "colab": {
          "base_uri": "https://localhost:8080/"
        },
        "id": "mil636dhKe-0",
        "outputId": "d4a1fedb-699a-42b6-8eb3-bd5070fb475f"
      },
      "execution_count": null,
      "outputs": [
        {
          "output_type": "execute_result",
          "data": {
            "text/plain": [
              "array([[0., 0., 0., ..., 0., 0., 0.],\n",
              "       [0., 0., 0., ..., 0., 0., 0.]])"
            ]
          },
          "metadata": {},
          "execution_count": 43
        }
      ]
    },
    {
      "cell_type": "code",
      "source": [
        "Y = data[\"class\"]"
      ],
      "metadata": {
        "id": "X-XmxtpdAVaR"
      },
      "execution_count": null,
      "outputs": []
    },
    {
      "cell_type": "code",
      "source": [
        "Y.shape"
      ],
      "metadata": {
        "colab": {
          "base_uri": "https://localhost:8080/"
        },
        "id": "f9SNEHuRjHBD",
        "outputId": "f471b5e9-4a5c-4e84-ba66-47f4d5c1c98d"
      },
      "execution_count": null,
      "outputs": [
        {
          "output_type": "execute_result",
          "data": {
            "text/plain": [
              "(862,)"
            ]
          },
          "metadata": {},
          "execution_count": 45
        }
      ]
    },
    {
      "cell_type": "markdown",
      "source": [
        "Balancing dataset"
      ],
      "metadata": {
        "id": "oX_ePfWvYPbR"
      }
    },
    {
      "cell_type": "code",
      "source": [
        "from imblearn.over_sampling import SMOTE"
      ],
      "metadata": {
        "id": "y6fuPkCfXcp5"
      },
      "execution_count": null,
      "outputs": []
    },
    {
      "cell_type": "code",
      "source": [
        "SMOTE = SMOTE()\n",
        "\n",
        "X_SMOTE, Y_SMOTE = SMOTE.fit_resample(X,Y)"
      ],
      "metadata": {
        "id": "IXiobffRXh1d"
      },
      "execution_count": null,
      "outputs": []
    },
    {
      "cell_type": "code",
      "source": [
        "X_SMOTE.shape"
      ],
      "metadata": {
        "colab": {
          "base_uri": "https://localhost:8080/"
        },
        "id": "iiALNLV1sPWq",
        "outputId": "7ec38acd-a15d-4fb5-f14c-5516e7fa8d23"
      },
      "execution_count": null,
      "outputs": [
        {
          "output_type": "execute_result",
          "data": {
            "text/plain": [
              "(1224, 3411)"
            ]
          },
          "metadata": {},
          "execution_count": 48
        }
      ]
    },
    {
      "cell_type": "markdown",
      "source": [
        "# **Applying DM Technique**"
      ],
      "metadata": {
        "id": "DW5og-9j_Uox"
      }
    },
    {
      "cell_type": "code",
      "source": [
        "from sklearn.model_selection import KFold\n",
        "from sklearn.model_selection import cross_val_score\n",
        "from sklearn.model_selection import cross_validate\n",
        "from sklearn.metrics import make_scorer, accuracy_score, precision_score, recall_score, f1_score"
      ],
      "metadata": {
        "id": "koKE296w_UIv"
      },
      "execution_count": null,
      "outputs": []
    },
    {
      "cell_type": "markdown",
      "source": [
        "Naive Bayes"
      ],
      "metadata": {
        "id": "w-nJ5Y1TjKmn"
      }
    },
    {
      "cell_type": "code",
      "source": [
        "from sklearn.naive_bayes import GaussianNB"
      ],
      "metadata": {
        "id": "J7ld9VKwB6Fk"
      },
      "execution_count": null,
      "outputs": []
    },
    {
      "cell_type": "code",
      "source": [
        "nb = GaussianNB()\n",
        "\n",
        "score = cross_val_score(nb, X_SMOTE, Y_SMOTE, cv=10)"
      ],
      "metadata": {
        "id": "coBn5IRvXvG8"
      },
      "execution_count": null,
      "outputs": []
    },
    {
      "cell_type": "code",
      "source": [
        "acc_nb = score.mean()*100\n",
        "\n",
        "print(\"Accuracy on the test data \", acc_nb, \"%\")"
      ],
      "metadata": {
        "colab": {
          "base_uri": "https://localhost:8080/"
        },
        "id": "r6OiuDOVXxFA",
        "outputId": "358c418b-0ca9-4555-a5f4-e111a8fa2ef5"
      },
      "execution_count": null,
      "outputs": [
        {
          "output_type": "stream",
          "name": "stdout",
          "text": [
            "Accuracy on the test data  79.28028788484605 %\n"
          ]
        }
      ]
    },
    {
      "cell_type": "markdown",
      "source": [
        "Decision Tree"
      ],
      "metadata": {
        "id": "yyTL46ILZTkl"
      }
    },
    {
      "cell_type": "code",
      "source": [
        "from sklearn.tree import DecisionTreeClassifier"
      ],
      "metadata": {
        "id": "Tv85Vo6TZrLV"
      },
      "execution_count": null,
      "outputs": []
    },
    {
      "cell_type": "code",
      "source": [
        "dec_tree = DecisionTreeClassifier(criterion = 'entropy')\n",
        "\n",
        "score1 = cross_val_score(dec_tree, X_SMOTE, Y_SMOTE, cv=10)"
      ],
      "metadata": {
        "id": "B7neASOTZWd3"
      },
      "execution_count": null,
      "outputs": []
    },
    {
      "cell_type": "code",
      "source": [
        "acc_dt = score1.mean()*100\n",
        "\n",
        "print(\"Accuracy on the test data \", acc_dt, \"%\")"
      ],
      "metadata": {
        "colab": {
          "base_uri": "https://localhost:8080/"
        },
        "id": "XjhTfpe8Z1Ok",
        "outputId": "1fb5c41f-67e0-4553-dea0-250674a8ac02"
      },
      "execution_count": null,
      "outputs": [
        {
          "output_type": "stream",
          "name": "stdout",
          "text": [
            "Accuracy on the test data  79.84339597494335 %\n"
          ]
        }
      ]
    },
    {
      "cell_type": "markdown",
      "source": [
        "Logistic Regression"
      ],
      "metadata": {
        "id": "FI_IpAwHQtcm"
      }
    },
    {
      "cell_type": "code",
      "source": [
        "from sklearn.linear_model import LogisticRegression\n",
        "\n",
        "lrModel = LogisticRegression()\n",
        "score_l = cross_val_score(lrModel, X_SMOTE, Y_SMOTE, cv=10)"
      ],
      "metadata": {
        "id": "pr-ZRx7bQu4M"
      },
      "execution_count": null,
      "outputs": []
    },
    {
      "cell_type": "code",
      "source": [
        "acc_lr = score_l.mean()*100\n",
        "\n",
        "print(\"Accuracy on the test data \", acc_lr, \"%\")"
      ],
      "metadata": {
        "colab": {
          "base_uri": "https://localhost:8080/"
        },
        "id": "EdcwH8rCQyS6",
        "outputId": "52b775f8-9eb2-4c31-b3d5-d5c53735c737"
      },
      "execution_count": null,
      "outputs": [
        {
          "output_type": "stream",
          "name": "stdout",
          "text": [
            "Accuracy on the test data  84.32093829135012 %\n"
          ]
        }
      ]
    },
    {
      "cell_type": "markdown",
      "source": [
        "Hyperparameter Tuning"
      ],
      "metadata": {
        "id": "76FDx-BAVu7W"
      }
    },
    {
      "cell_type": "code",
      "source": [
        "from sklearn.model_selection import GridSearchCV\n",
        "knn = KNeighborsClassifier()\n",
        "\n",
        "k_range = list(range(1, 50))\n",
        "param_grid = dict(n_neighbors=k_range)\n",
        "\n",
        "grid = GridSearchCV(knn, param_grid, cv=10)\n",
        "\n",
        "k = grid.fit(X_SMOTE, Y_SMOTE)"
      ],
      "metadata": {
        "id": "7jktAHNeVudq"
      },
      "execution_count": null,
      "outputs": []
    },
    {
      "cell_type": "code",
      "source": [
        "grid.best_params_, grid.best_score_, grid.best_index_"
      ],
      "metadata": {
        "colab": {
          "base_uri": "https://localhost:8080/"
        },
        "id": "PK63SPVSYHSD",
        "outputId": "103df1c5-e0e3-4da9-c981-c3c34a80af8f"
      },
      "execution_count": null,
      "outputs": [
        {
          "output_type": "execute_result",
          "data": {
            "text/plain": [
              "({'n_neighbors': 2}, 0.6676129548180728, 1)"
            ]
          },
          "metadata": {},
          "execution_count": 71
        }
      ]
    },
    {
      "cell_type": "code",
      "source": [
        "result_df_k = pd.DataFrame(grid.cv_results_)"
      ],
      "metadata": {
        "id": "uE3--oXoYgMs"
      },
      "execution_count": null,
      "outputs": []
    },
    {
      "cell_type": "code",
      "source": [
        "result_df_k.head()"
      ],
      "metadata": {
        "colab": {
          "base_uri": "https://localhost:8080/",
          "height": 357
        },
        "id": "utE9jGEnYsA3",
        "outputId": "89cfcc9b-cf74-42b7-f0de-76677089e857"
      },
      "execution_count": null,
      "outputs": [
        {
          "output_type": "execute_result",
          "data": {
            "text/plain": [
              "   mean_fit_time  std_fit_time  mean_score_time  std_score_time  \\\n",
              "0       0.009582      0.010022         0.031003        0.001393   \n",
              "1       0.006067      0.000315         0.030640        0.000972   \n",
              "2       0.006424      0.000398         0.032770        0.002565   \n",
              "3       0.005964      0.000698         0.031675        0.001207   \n",
              "4       0.005963      0.000259         0.032504        0.001334   \n",
              "\n",
              "  param_n_neighbors              params  split0_test_score  split1_test_score  \\\n",
              "0                 1  {'n_neighbors': 1}           0.585366           0.601626   \n",
              "1                 2  {'n_neighbors': 2}           0.626016           0.626016   \n",
              "2                 3  {'n_neighbors': 3}           0.487805           0.495935   \n",
              "3                 4  {'n_neighbors': 4}           0.504065           0.520325   \n",
              "4                 5  {'n_neighbors': 5}           0.439024           0.422764   \n",
              "\n",
              "   split2_test_score  split3_test_score  split4_test_score  split5_test_score  \\\n",
              "0           0.593496           0.617886           0.606557           0.672131   \n",
              "1           0.626016           0.634146           0.663934           0.713115   \n",
              "2           0.471545           0.552846           0.565574           0.532787   \n",
              "3           0.495935           0.585366           0.598361           0.549180   \n",
              "4           0.414634           0.479675           0.524590           0.475410   \n",
              "\n",
              "   split6_test_score  split7_test_score  split8_test_score  split9_test_score  \\\n",
              "0           0.639344           0.721311           0.688525           0.713115   \n",
              "1           0.704918           0.680328           0.688525           0.713115   \n",
              "2           0.565574           0.508197           0.540984           0.655738   \n",
              "3           0.614754           0.565574           0.565574           0.663934   \n",
              "4           0.500000           0.475410           0.491803           0.450820   \n",
              "\n",
              "   mean_test_score  std_test_score  rank_test_score  \n",
              "0         0.643936        0.048392                2  \n",
              "1         0.667613        0.035293                1  \n",
              "2         0.537698        0.050231                4  \n",
              "3         0.566307        0.049501                3  \n",
              "4         0.467413        0.033264                6  "
            ],
            "text/html": [
              "\n",
              "  <div id=\"df-393313fe-f14f-428d-898d-245a9fd3e683\">\n",
              "    <div class=\"colab-df-container\">\n",
              "      <div>\n",
              "<style scoped>\n",
              "    .dataframe tbody tr th:only-of-type {\n",
              "        vertical-align: middle;\n",
              "    }\n",
              "\n",
              "    .dataframe tbody tr th {\n",
              "        vertical-align: top;\n",
              "    }\n",
              "\n",
              "    .dataframe thead th {\n",
              "        text-align: right;\n",
              "    }\n",
              "</style>\n",
              "<table border=\"1\" class=\"dataframe\">\n",
              "  <thead>\n",
              "    <tr style=\"text-align: right;\">\n",
              "      <th></th>\n",
              "      <th>mean_fit_time</th>\n",
              "      <th>std_fit_time</th>\n",
              "      <th>mean_score_time</th>\n",
              "      <th>std_score_time</th>\n",
              "      <th>param_n_neighbors</th>\n",
              "      <th>params</th>\n",
              "      <th>split0_test_score</th>\n",
              "      <th>split1_test_score</th>\n",
              "      <th>split2_test_score</th>\n",
              "      <th>split3_test_score</th>\n",
              "      <th>split4_test_score</th>\n",
              "      <th>split5_test_score</th>\n",
              "      <th>split6_test_score</th>\n",
              "      <th>split7_test_score</th>\n",
              "      <th>split8_test_score</th>\n",
              "      <th>split9_test_score</th>\n",
              "      <th>mean_test_score</th>\n",
              "      <th>std_test_score</th>\n",
              "      <th>rank_test_score</th>\n",
              "    </tr>\n",
              "  </thead>\n",
              "  <tbody>\n",
              "    <tr>\n",
              "      <th>0</th>\n",
              "      <td>0.009582</td>\n",
              "      <td>0.010022</td>\n",
              "      <td>0.031003</td>\n",
              "      <td>0.001393</td>\n",
              "      <td>1</td>\n",
              "      <td>{'n_neighbors': 1}</td>\n",
              "      <td>0.585366</td>\n",
              "      <td>0.601626</td>\n",
              "      <td>0.593496</td>\n",
              "      <td>0.617886</td>\n",
              "      <td>0.606557</td>\n",
              "      <td>0.672131</td>\n",
              "      <td>0.639344</td>\n",
              "      <td>0.721311</td>\n",
              "      <td>0.688525</td>\n",
              "      <td>0.713115</td>\n",
              "      <td>0.643936</td>\n",
              "      <td>0.048392</td>\n",
              "      <td>2</td>\n",
              "    </tr>\n",
              "    <tr>\n",
              "      <th>1</th>\n",
              "      <td>0.006067</td>\n",
              "      <td>0.000315</td>\n",
              "      <td>0.030640</td>\n",
              "      <td>0.000972</td>\n",
              "      <td>2</td>\n",
              "      <td>{'n_neighbors': 2}</td>\n",
              "      <td>0.626016</td>\n",
              "      <td>0.626016</td>\n",
              "      <td>0.626016</td>\n",
              "      <td>0.634146</td>\n",
              "      <td>0.663934</td>\n",
              "      <td>0.713115</td>\n",
              "      <td>0.704918</td>\n",
              "      <td>0.680328</td>\n",
              "      <td>0.688525</td>\n",
              "      <td>0.713115</td>\n",
              "      <td>0.667613</td>\n",
              "      <td>0.035293</td>\n",
              "      <td>1</td>\n",
              "    </tr>\n",
              "    <tr>\n",
              "      <th>2</th>\n",
              "      <td>0.006424</td>\n",
              "      <td>0.000398</td>\n",
              "      <td>0.032770</td>\n",
              "      <td>0.002565</td>\n",
              "      <td>3</td>\n",
              "      <td>{'n_neighbors': 3}</td>\n",
              "      <td>0.487805</td>\n",
              "      <td>0.495935</td>\n",
              "      <td>0.471545</td>\n",
              "      <td>0.552846</td>\n",
              "      <td>0.565574</td>\n",
              "      <td>0.532787</td>\n",
              "      <td>0.565574</td>\n",
              "      <td>0.508197</td>\n",
              "      <td>0.540984</td>\n",
              "      <td>0.655738</td>\n",
              "      <td>0.537698</td>\n",
              "      <td>0.050231</td>\n",
              "      <td>4</td>\n",
              "    </tr>\n",
              "    <tr>\n",
              "      <th>3</th>\n",
              "      <td>0.005964</td>\n",
              "      <td>0.000698</td>\n",
              "      <td>0.031675</td>\n",
              "      <td>0.001207</td>\n",
              "      <td>4</td>\n",
              "      <td>{'n_neighbors': 4}</td>\n",
              "      <td>0.504065</td>\n",
              "      <td>0.520325</td>\n",
              "      <td>0.495935</td>\n",
              "      <td>0.585366</td>\n",
              "      <td>0.598361</td>\n",
              "      <td>0.549180</td>\n",
              "      <td>0.614754</td>\n",
              "      <td>0.565574</td>\n",
              "      <td>0.565574</td>\n",
              "      <td>0.663934</td>\n",
              "      <td>0.566307</td>\n",
              "      <td>0.049501</td>\n",
              "      <td>3</td>\n",
              "    </tr>\n",
              "    <tr>\n",
              "      <th>4</th>\n",
              "      <td>0.005963</td>\n",
              "      <td>0.000259</td>\n",
              "      <td>0.032504</td>\n",
              "      <td>0.001334</td>\n",
              "      <td>5</td>\n",
              "      <td>{'n_neighbors': 5}</td>\n",
              "      <td>0.439024</td>\n",
              "      <td>0.422764</td>\n",
              "      <td>0.414634</td>\n",
              "      <td>0.479675</td>\n",
              "      <td>0.524590</td>\n",
              "      <td>0.475410</td>\n",
              "      <td>0.500000</td>\n",
              "      <td>0.475410</td>\n",
              "      <td>0.491803</td>\n",
              "      <td>0.450820</td>\n",
              "      <td>0.467413</td>\n",
              "      <td>0.033264</td>\n",
              "      <td>6</td>\n",
              "    </tr>\n",
              "  </tbody>\n",
              "</table>\n",
              "</div>\n",
              "      <button class=\"colab-df-convert\" onclick=\"convertToInteractive('df-393313fe-f14f-428d-898d-245a9fd3e683')\"\n",
              "              title=\"Convert this dataframe to an interactive table.\"\n",
              "              style=\"display:none;\">\n",
              "        \n",
              "  <svg xmlns=\"http://www.w3.org/2000/svg\" height=\"24px\"viewBox=\"0 0 24 24\"\n",
              "       width=\"24px\">\n",
              "    <path d=\"M0 0h24v24H0V0z\" fill=\"none\"/>\n",
              "    <path d=\"M18.56 5.44l.94 2.06.94-2.06 2.06-.94-2.06-.94-.94-2.06-.94 2.06-2.06.94zm-11 1L8.5 8.5l.94-2.06 2.06-.94-2.06-.94L8.5 2.5l-.94 2.06-2.06.94zm10 10l.94 2.06.94-2.06 2.06-.94-2.06-.94-.94-2.06-.94 2.06-2.06.94z\"/><path d=\"M17.41 7.96l-1.37-1.37c-.4-.4-.92-.59-1.43-.59-.52 0-1.04.2-1.43.59L10.3 9.45l-7.72 7.72c-.78.78-.78 2.05 0 2.83L4 21.41c.39.39.9.59 1.41.59.51 0 1.02-.2 1.41-.59l7.78-7.78 2.81-2.81c.8-.78.8-2.07 0-2.86zM5.41 20L4 18.59l7.72-7.72 1.47 1.35L5.41 20z\"/>\n",
              "  </svg>\n",
              "      </button>\n",
              "      \n",
              "  <style>\n",
              "    .colab-df-container {\n",
              "      display:flex;\n",
              "      flex-wrap:wrap;\n",
              "      gap: 12px;\n",
              "    }\n",
              "\n",
              "    .colab-df-convert {\n",
              "      background-color: #E8F0FE;\n",
              "      border: none;\n",
              "      border-radius: 50%;\n",
              "      cursor: pointer;\n",
              "      display: none;\n",
              "      fill: #1967D2;\n",
              "      height: 32px;\n",
              "      padding: 0 0 0 0;\n",
              "      width: 32px;\n",
              "    }\n",
              "\n",
              "    .colab-df-convert:hover {\n",
              "      background-color: #E2EBFA;\n",
              "      box-shadow: 0px 1px 2px rgba(60, 64, 67, 0.3), 0px 1px 3px 1px rgba(60, 64, 67, 0.15);\n",
              "      fill: #174EA6;\n",
              "    }\n",
              "\n",
              "    [theme=dark] .colab-df-convert {\n",
              "      background-color: #3B4455;\n",
              "      fill: #D2E3FC;\n",
              "    }\n",
              "\n",
              "    [theme=dark] .colab-df-convert:hover {\n",
              "      background-color: #434B5C;\n",
              "      box-shadow: 0px 1px 3px 1px rgba(0, 0, 0, 0.15);\n",
              "      filter: drop-shadow(0px 1px 2px rgba(0, 0, 0, 0.3));\n",
              "      fill: #FFFFFF;\n",
              "    }\n",
              "  </style>\n",
              "\n",
              "      <script>\n",
              "        const buttonEl =\n",
              "          document.querySelector('#df-393313fe-f14f-428d-898d-245a9fd3e683 button.colab-df-convert');\n",
              "        buttonEl.style.display =\n",
              "          google.colab.kernel.accessAllowed ? 'block' : 'none';\n",
              "\n",
              "        async function convertToInteractive(key) {\n",
              "          const element = document.querySelector('#df-393313fe-f14f-428d-898d-245a9fd3e683');\n",
              "          const dataTable =\n",
              "            await google.colab.kernel.invokeFunction('convertToInteractive',\n",
              "                                                     [key], {});\n",
              "          if (!dataTable) return;\n",
              "\n",
              "          const docLinkHtml = 'Like what you see? Visit the ' +\n",
              "            '<a target=\"_blank\" href=https://colab.research.google.com/notebooks/data_table.ipynb>data table notebook</a>'\n",
              "            + ' to learn more about interactive tables.';\n",
              "          element.innerHTML = '';\n",
              "          dataTable['output_type'] = 'display_data';\n",
              "          await google.colab.output.renderOutput(dataTable, element);\n",
              "          const docLink = document.createElement('div');\n",
              "          docLink.innerHTML = docLinkHtml;\n",
              "          element.appendChild(docLink);\n",
              "        }\n",
              "      </script>\n",
              "    </div>\n",
              "  </div>\n",
              "  "
            ]
          },
          "metadata": {},
          "execution_count": 74
        }
      ]
    },
    {
      "cell_type": "markdown",
      "source": [
        "KNN"
      ],
      "metadata": {
        "id": "hIn_VQyh_5wE"
      }
    },
    {
      "cell_type": "code",
      "source": [
        "from sklearn.neighbors import KNeighborsClassifier\n",
        "\n",
        "knn = KNeighborsClassifier(n_neighbors=2)\n",
        "\n",
        "score2 = cross_val_score(knn, X_SMOTE, Y_SMOTE, cv=10)"
      ],
      "metadata": {
        "id": "EwShYwhXDEGO"
      },
      "execution_count": null,
      "outputs": []
    },
    {
      "cell_type": "code",
      "source": [
        "acc_knn = score2.mean()*100\n",
        "\n",
        "print(\"Accuracy on the test data \", acc_knn, \"%\")"
      ],
      "metadata": {
        "colab": {
          "base_uri": "https://localhost:8080/"
        },
        "id": "1HL3Np6wAM6U",
        "outputId": "8889f405-7143-4503-b26f-ddb57813ea4b"
      },
      "execution_count": null,
      "outputs": [
        {
          "output_type": "stream",
          "name": "stdout",
          "text": [
            "Accuracy on the test data  66.76129548180728 %\n"
          ]
        }
      ]
    },
    {
      "cell_type": "markdown",
      "source": [
        "Hyperparameter Tuning"
      ],
      "metadata": {
        "id": "PvUI7QqGNVW3"
      }
    },
    {
      "cell_type": "code",
      "source": [
        "parameters = {'kernel':('linear', 'rbf', 'sigmoid'), 'C':[1, 10, 20]}\n",
        "svc = svm.SVC()\n",
        "clf = GridSearchCV(svc, parameters)\n",
        "c = clf.fit(X_SMOTE, Y_SMOTE)"
      ],
      "metadata": {
        "id": "BEQHBpmZGsgB"
      },
      "execution_count": null,
      "outputs": []
    },
    {
      "cell_type": "code",
      "source": [
        "clf.best_params_, clf.best_score_, clf.best_index_"
      ],
      "metadata": {
        "colab": {
          "base_uri": "https://localhost:8080/"
        },
        "id": "YNNF-v_Ealo0",
        "outputId": "fbe8a04c-6cbf-44e8-a2c0-92adfd7d1377"
      },
      "execution_count": null,
      "outputs": [
        {
          "output_type": "execute_result",
          "data": {
            "text/plain": [
              "({'C': 10, 'kernel': 'rbf'}, 0.8537035797925728, 4)"
            ]
          },
          "metadata": {},
          "execution_count": 78
        }
      ]
    },
    {
      "cell_type": "code",
      "source": [
        "result_df = pd.DataFrame(clf.cv_results_)"
      ],
      "metadata": {
        "id": "tx29fgvQLoCu"
      },
      "execution_count": null,
      "outputs": []
    },
    {
      "cell_type": "code",
      "source": [
        "result_df"
      ],
      "metadata": {
        "colab": {
          "base_uri": "https://localhost:8080/",
          "height": 708
        },
        "id": "KjDLeEuiMn7G",
        "outputId": "b48f19be-dbda-4daa-f5b8-25083f22ce9e"
      },
      "execution_count": null,
      "outputs": [
        {
          "output_type": "execute_result",
          "data": {
            "text/plain": [
              "   mean_fit_time  std_fit_time  mean_score_time  std_score_time param_C  \\\n",
              "0       1.070110      0.089205         0.221634        0.032111       1   \n",
              "1       1.098527      0.063494         0.440292        0.054660       1   \n",
              "2       0.901672      0.071499         0.170482        0.016518       1   \n",
              "3       0.991720      0.070543         0.156038        0.019138      10   \n",
              "4       1.103344      0.079297         0.398226        0.045439      10   \n",
              "5       0.735314      0.065506         0.110648        0.008390      10   \n",
              "6       0.988132      0.082894         0.160786        0.014955      20   \n",
              "7       1.029516      0.041128         0.367775        0.032790      20   \n",
              "8       0.764217      0.088546         0.109933        0.007500      20   \n",
              "\n",
              "  param_kernel                          params  split0_test_score  \\\n",
              "0       linear    {'C': 1, 'kernel': 'linear'}           0.755102   \n",
              "1          rbf       {'C': 1, 'kernel': 'rbf'}           0.824490   \n",
              "2      sigmoid   {'C': 1, 'kernel': 'sigmoid'}           0.730612   \n",
              "3       linear   {'C': 10, 'kernel': 'linear'}           0.763265   \n",
              "4          rbf      {'C': 10, 'kernel': 'rbf'}           0.783673   \n",
              "5      sigmoid  {'C': 10, 'kernel': 'sigmoid'}           0.808163   \n",
              "6       linear   {'C': 20, 'kernel': 'linear'}           0.775510   \n",
              "7          rbf      {'C': 20, 'kernel': 'rbf'}           0.738776   \n",
              "8      sigmoid  {'C': 20, 'kernel': 'sigmoid'}           0.808163   \n",
              "\n",
              "   split1_test_score  split2_test_score  split3_test_score  split4_test_score  \\\n",
              "0           0.755102           0.865306           0.897959           0.836066   \n",
              "1           0.922449           0.897959           0.828571           0.741803   \n",
              "2           0.812245           0.885714           0.918367           0.860656   \n",
              "3           0.771429           0.877551           0.897959           0.844262   \n",
              "4           0.885714           0.926531           0.885714           0.786885   \n",
              "5           0.836735           0.836735           0.759184           0.729508   \n",
              "6           0.767347           0.877551           0.906122           0.844262   \n",
              "7           0.832653           0.906122           0.885714           0.786885   \n",
              "8           0.832653           0.812245           0.734694           0.700820   \n",
              "\n",
              "   mean_test_score  std_test_score  rank_test_score  \n",
              "0         0.821907        0.057955                7  \n",
              "1         0.843055        0.063442                2  \n",
              "2         0.841519        0.065395                3  \n",
              "3         0.830893        0.054705                5  \n",
              "4         0.853704        0.057831                1  \n",
              "5         0.794065        0.042952                8  \n",
              "6         0.834159        0.054895                4  \n",
              "7         0.830030        0.061784                6  \n",
              "8         0.777715        0.050796                9  "
            ],
            "text/html": [
              "\n",
              "  <div id=\"df-c9750b01-ddba-4722-bca9-8953daa9dfa3\">\n",
              "    <div class=\"colab-df-container\">\n",
              "      <div>\n",
              "<style scoped>\n",
              "    .dataframe tbody tr th:only-of-type {\n",
              "        vertical-align: middle;\n",
              "    }\n",
              "\n",
              "    .dataframe tbody tr th {\n",
              "        vertical-align: top;\n",
              "    }\n",
              "\n",
              "    .dataframe thead th {\n",
              "        text-align: right;\n",
              "    }\n",
              "</style>\n",
              "<table border=\"1\" class=\"dataframe\">\n",
              "  <thead>\n",
              "    <tr style=\"text-align: right;\">\n",
              "      <th></th>\n",
              "      <th>mean_fit_time</th>\n",
              "      <th>std_fit_time</th>\n",
              "      <th>mean_score_time</th>\n",
              "      <th>std_score_time</th>\n",
              "      <th>param_C</th>\n",
              "      <th>param_kernel</th>\n",
              "      <th>params</th>\n",
              "      <th>split0_test_score</th>\n",
              "      <th>split1_test_score</th>\n",
              "      <th>split2_test_score</th>\n",
              "      <th>split3_test_score</th>\n",
              "      <th>split4_test_score</th>\n",
              "      <th>mean_test_score</th>\n",
              "      <th>std_test_score</th>\n",
              "      <th>rank_test_score</th>\n",
              "    </tr>\n",
              "  </thead>\n",
              "  <tbody>\n",
              "    <tr>\n",
              "      <th>0</th>\n",
              "      <td>1.070110</td>\n",
              "      <td>0.089205</td>\n",
              "      <td>0.221634</td>\n",
              "      <td>0.032111</td>\n",
              "      <td>1</td>\n",
              "      <td>linear</td>\n",
              "      <td>{'C': 1, 'kernel': 'linear'}</td>\n",
              "      <td>0.755102</td>\n",
              "      <td>0.755102</td>\n",
              "      <td>0.865306</td>\n",
              "      <td>0.897959</td>\n",
              "      <td>0.836066</td>\n",
              "      <td>0.821907</td>\n",
              "      <td>0.057955</td>\n",
              "      <td>7</td>\n",
              "    </tr>\n",
              "    <tr>\n",
              "      <th>1</th>\n",
              "      <td>1.098527</td>\n",
              "      <td>0.063494</td>\n",
              "      <td>0.440292</td>\n",
              "      <td>0.054660</td>\n",
              "      <td>1</td>\n",
              "      <td>rbf</td>\n",
              "      <td>{'C': 1, 'kernel': 'rbf'}</td>\n",
              "      <td>0.824490</td>\n",
              "      <td>0.922449</td>\n",
              "      <td>0.897959</td>\n",
              "      <td>0.828571</td>\n",
              "      <td>0.741803</td>\n",
              "      <td>0.843055</td>\n",
              "      <td>0.063442</td>\n",
              "      <td>2</td>\n",
              "    </tr>\n",
              "    <tr>\n",
              "      <th>2</th>\n",
              "      <td>0.901672</td>\n",
              "      <td>0.071499</td>\n",
              "      <td>0.170482</td>\n",
              "      <td>0.016518</td>\n",
              "      <td>1</td>\n",
              "      <td>sigmoid</td>\n",
              "      <td>{'C': 1, 'kernel': 'sigmoid'}</td>\n",
              "      <td>0.730612</td>\n",
              "      <td>0.812245</td>\n",
              "      <td>0.885714</td>\n",
              "      <td>0.918367</td>\n",
              "      <td>0.860656</td>\n",
              "      <td>0.841519</td>\n",
              "      <td>0.065395</td>\n",
              "      <td>3</td>\n",
              "    </tr>\n",
              "    <tr>\n",
              "      <th>3</th>\n",
              "      <td>0.991720</td>\n",
              "      <td>0.070543</td>\n",
              "      <td>0.156038</td>\n",
              "      <td>0.019138</td>\n",
              "      <td>10</td>\n",
              "      <td>linear</td>\n",
              "      <td>{'C': 10, 'kernel': 'linear'}</td>\n",
              "      <td>0.763265</td>\n",
              "      <td>0.771429</td>\n",
              "      <td>0.877551</td>\n",
              "      <td>0.897959</td>\n",
              "      <td>0.844262</td>\n",
              "      <td>0.830893</td>\n",
              "      <td>0.054705</td>\n",
              "      <td>5</td>\n",
              "    </tr>\n",
              "    <tr>\n",
              "      <th>4</th>\n",
              "      <td>1.103344</td>\n",
              "      <td>0.079297</td>\n",
              "      <td>0.398226</td>\n",
              "      <td>0.045439</td>\n",
              "      <td>10</td>\n",
              "      <td>rbf</td>\n",
              "      <td>{'C': 10, 'kernel': 'rbf'}</td>\n",
              "      <td>0.783673</td>\n",
              "      <td>0.885714</td>\n",
              "      <td>0.926531</td>\n",
              "      <td>0.885714</td>\n",
              "      <td>0.786885</td>\n",
              "      <td>0.853704</td>\n",
              "      <td>0.057831</td>\n",
              "      <td>1</td>\n",
              "    </tr>\n",
              "    <tr>\n",
              "      <th>5</th>\n",
              "      <td>0.735314</td>\n",
              "      <td>0.065506</td>\n",
              "      <td>0.110648</td>\n",
              "      <td>0.008390</td>\n",
              "      <td>10</td>\n",
              "      <td>sigmoid</td>\n",
              "      <td>{'C': 10, 'kernel': 'sigmoid'}</td>\n",
              "      <td>0.808163</td>\n",
              "      <td>0.836735</td>\n",
              "      <td>0.836735</td>\n",
              "      <td>0.759184</td>\n",
              "      <td>0.729508</td>\n",
              "      <td>0.794065</td>\n",
              "      <td>0.042952</td>\n",
              "      <td>8</td>\n",
              "    </tr>\n",
              "    <tr>\n",
              "      <th>6</th>\n",
              "      <td>0.988132</td>\n",
              "      <td>0.082894</td>\n",
              "      <td>0.160786</td>\n",
              "      <td>0.014955</td>\n",
              "      <td>20</td>\n",
              "      <td>linear</td>\n",
              "      <td>{'C': 20, 'kernel': 'linear'}</td>\n",
              "      <td>0.775510</td>\n",
              "      <td>0.767347</td>\n",
              "      <td>0.877551</td>\n",
              "      <td>0.906122</td>\n",
              "      <td>0.844262</td>\n",
              "      <td>0.834159</td>\n",
              "      <td>0.054895</td>\n",
              "      <td>4</td>\n",
              "    </tr>\n",
              "    <tr>\n",
              "      <th>7</th>\n",
              "      <td>1.029516</td>\n",
              "      <td>0.041128</td>\n",
              "      <td>0.367775</td>\n",
              "      <td>0.032790</td>\n",
              "      <td>20</td>\n",
              "      <td>rbf</td>\n",
              "      <td>{'C': 20, 'kernel': 'rbf'}</td>\n",
              "      <td>0.738776</td>\n",
              "      <td>0.832653</td>\n",
              "      <td>0.906122</td>\n",
              "      <td>0.885714</td>\n",
              "      <td>0.786885</td>\n",
              "      <td>0.830030</td>\n",
              "      <td>0.061784</td>\n",
              "      <td>6</td>\n",
              "    </tr>\n",
              "    <tr>\n",
              "      <th>8</th>\n",
              "      <td>0.764217</td>\n",
              "      <td>0.088546</td>\n",
              "      <td>0.109933</td>\n",
              "      <td>0.007500</td>\n",
              "      <td>20</td>\n",
              "      <td>sigmoid</td>\n",
              "      <td>{'C': 20, 'kernel': 'sigmoid'}</td>\n",
              "      <td>0.808163</td>\n",
              "      <td>0.832653</td>\n",
              "      <td>0.812245</td>\n",
              "      <td>0.734694</td>\n",
              "      <td>0.700820</td>\n",
              "      <td>0.777715</td>\n",
              "      <td>0.050796</td>\n",
              "      <td>9</td>\n",
              "    </tr>\n",
              "  </tbody>\n",
              "</table>\n",
              "</div>\n",
              "      <button class=\"colab-df-convert\" onclick=\"convertToInteractive('df-c9750b01-ddba-4722-bca9-8953daa9dfa3')\"\n",
              "              title=\"Convert this dataframe to an interactive table.\"\n",
              "              style=\"display:none;\">\n",
              "        \n",
              "  <svg xmlns=\"http://www.w3.org/2000/svg\" height=\"24px\"viewBox=\"0 0 24 24\"\n",
              "       width=\"24px\">\n",
              "    <path d=\"M0 0h24v24H0V0z\" fill=\"none\"/>\n",
              "    <path d=\"M18.56 5.44l.94 2.06.94-2.06 2.06-.94-2.06-.94-.94-2.06-.94 2.06-2.06.94zm-11 1L8.5 8.5l.94-2.06 2.06-.94-2.06-.94L8.5 2.5l-.94 2.06-2.06.94zm10 10l.94 2.06.94-2.06 2.06-.94-2.06-.94-.94-2.06-.94 2.06-2.06.94z\"/><path d=\"M17.41 7.96l-1.37-1.37c-.4-.4-.92-.59-1.43-.59-.52 0-1.04.2-1.43.59L10.3 9.45l-7.72 7.72c-.78.78-.78 2.05 0 2.83L4 21.41c.39.39.9.59 1.41.59.51 0 1.02-.2 1.41-.59l7.78-7.78 2.81-2.81c.8-.78.8-2.07 0-2.86zM5.41 20L4 18.59l7.72-7.72 1.47 1.35L5.41 20z\"/>\n",
              "  </svg>\n",
              "      </button>\n",
              "      \n",
              "  <style>\n",
              "    .colab-df-container {\n",
              "      display:flex;\n",
              "      flex-wrap:wrap;\n",
              "      gap: 12px;\n",
              "    }\n",
              "\n",
              "    .colab-df-convert {\n",
              "      background-color: #E8F0FE;\n",
              "      border: none;\n",
              "      border-radius: 50%;\n",
              "      cursor: pointer;\n",
              "      display: none;\n",
              "      fill: #1967D2;\n",
              "      height: 32px;\n",
              "      padding: 0 0 0 0;\n",
              "      width: 32px;\n",
              "    }\n",
              "\n",
              "    .colab-df-convert:hover {\n",
              "      background-color: #E2EBFA;\n",
              "      box-shadow: 0px 1px 2px rgba(60, 64, 67, 0.3), 0px 1px 3px 1px rgba(60, 64, 67, 0.15);\n",
              "      fill: #174EA6;\n",
              "    }\n",
              "\n",
              "    [theme=dark] .colab-df-convert {\n",
              "      background-color: #3B4455;\n",
              "      fill: #D2E3FC;\n",
              "    }\n",
              "\n",
              "    [theme=dark] .colab-df-convert:hover {\n",
              "      background-color: #434B5C;\n",
              "      box-shadow: 0px 1px 3px 1px rgba(0, 0, 0, 0.15);\n",
              "      filter: drop-shadow(0px 1px 2px rgba(0, 0, 0, 0.3));\n",
              "      fill: #FFFFFF;\n",
              "    }\n",
              "  </style>\n",
              "\n",
              "      <script>\n",
              "        const buttonEl =\n",
              "          document.querySelector('#df-c9750b01-ddba-4722-bca9-8953daa9dfa3 button.colab-df-convert');\n",
              "        buttonEl.style.display =\n",
              "          google.colab.kernel.accessAllowed ? 'block' : 'none';\n",
              "\n",
              "        async function convertToInteractive(key) {\n",
              "          const element = document.querySelector('#df-c9750b01-ddba-4722-bca9-8953daa9dfa3');\n",
              "          const dataTable =\n",
              "            await google.colab.kernel.invokeFunction('convertToInteractive',\n",
              "                                                     [key], {});\n",
              "          if (!dataTable) return;\n",
              "\n",
              "          const docLinkHtml = 'Like what you see? Visit the ' +\n",
              "            '<a target=\"_blank\" href=https://colab.research.google.com/notebooks/data_table.ipynb>data table notebook</a>'\n",
              "            + ' to learn more about interactive tables.';\n",
              "          element.innerHTML = '';\n",
              "          dataTable['output_type'] = 'display_data';\n",
              "          await google.colab.output.renderOutput(dataTable, element);\n",
              "          const docLink = document.createElement('div');\n",
              "          docLink.innerHTML = docLinkHtml;\n",
              "          element.appendChild(docLink);\n",
              "        }\n",
              "      </script>\n",
              "    </div>\n",
              "  </div>\n",
              "  "
            ]
          },
          "metadata": {},
          "execution_count": 80
        }
      ]
    },
    {
      "cell_type": "markdown",
      "source": [
        "SVM"
      ],
      "metadata": {
        "id": "p0TOk8F-DEb7"
      }
    },
    {
      "cell_type": "code",
      "source": [
        "from sklearn import svm"
      ],
      "metadata": {
        "id": "2USUM8XyKx7W"
      },
      "execution_count": null,
      "outputs": []
    },
    {
      "cell_type": "code",
      "source": [
        "svc = svm.SVC(kernel='rbf', C=10)\n",
        "score3 = cross_val_score(svc, X_SMOTE, Y_SMOTE, cv=50)"
      ],
      "metadata": {
        "id": "adnab9n6AKkz"
      },
      "execution_count": null,
      "outputs": []
    },
    {
      "cell_type": "code",
      "source": [
        "acc_svm = score3.mean()*100\n",
        "\n",
        "print(\"Accuracy on the test data \", acc_svm, \"%\")"
      ],
      "metadata": {
        "colab": {
          "base_uri": "https://localhost:8080/"
        },
        "id": "fzDeS4DlDmoU",
        "outputId": "f2dc563d-0035-468d-a9f8-aac20a23fac3"
      },
      "execution_count": null,
      "outputs": [
        {
          "output_type": "stream",
          "name": "stdout",
          "text": [
            "Accuracy on the test data  89.09 %\n"
          ]
        }
      ]
    },
    {
      "cell_type": "markdown",
      "source": [
        "# **Result Comparison**"
      ],
      "metadata": {
        "id": "f0EOvGALzVMA"
      }
    },
    {
      "cell_type": "code",
      "source": [
        "data = {'Naive Bayes':acc_nb, 'Decision Tree': acc_dt, 'Logistic Regression': acc_lr, \"KNN\" : acc_knn, \"SVM\" : acc_svm}\n",
        "classifiers = list(data.keys())\n",
        "values = list(data.values())\n",
        "\n",
        "fig = plt.figure()\n",
        "\n",
        "plt.bar(classifiers, values, color =[\"#D14D72\", \"#F9E2AF\", \"#57C5B6\", \"#539165\", \"orange\"])\n",
        "\n",
        "plt.xlabel(\"Classifiers Used\")\n",
        "plt.ylabel(\"% of accuracy achieved\")\n",
        "plt.title(\"Accuracy of Classifiers\")\n",
        "plt.xticks(rotation =20)\n",
        "plt.show()"
      ],
      "metadata": {
        "id": "GxMnyw5SzUd5",
        "colab": {
          "base_uri": "https://localhost:8080/",
          "height": 516
        },
        "outputId": "6020c324-be92-41e0-b4a3-980d6c3be0a2"
      },
      "execution_count": null,
      "outputs": [
        {
          "output_type": "display_data",
          "data": {
            "text/plain": [
              "<Figure size 640x480 with 1 Axes>"
            ],
            "image/png": "[encoded data removed]"
          },
          "metadata": {}
        }
      ]
    },
    {
      "cell_type": "code",
      "source": [],
      "metadata": {
        "id": "SilPSSujWs_n"
      },
      "execution_count": null,
      "outputs": []
    }
  ]
}